{
 "cells": [
  {
   "cell_type": "code",
   "execution_count": 18,
   "metadata": {},
   "outputs": [],
   "source": [
    "\n",
    "import os\n",
    "import math\n",
    "import time\n",
    "from datetime import datetime\n",
    "import logging\n",
    "import matplotlib.pyplot as plt\n",
    "\n",
    "import numpy as np\n",
    "import pandas as pd\n",
    "\n",
    "import yaml\n",
    "import torch\n",
    "from torch import nn\n",
    "from torch.utils.tensorboard import SummaryWriter\n",
    "import torch.nn.functional as F\n",
    "\n",
    "from sklearn.model_selection import KFold\n",
    "from sklearn.metrics import accuracy_score, confusion_matrix\n",
    "\n",
    "import datasource, causal_cnn_models, modules, net_utils"
   ]
  },
  {
   "cell_type": "markdown",
   "metadata": {},
   "source": [
    "# Set-up"
   ]
  },
  {
   "cell_type": "markdown",
   "metadata": {},
   "source": [
    "## Logger"
   ]
  },
  {
   "cell_type": "code",
   "execution_count": 2,
   "metadata": {},
   "outputs": [],
   "source": [
    "logger = logging.getLogger(__name__)\n",
    "\n",
    "def log(msg):\n",
    "    logger.debug(msg)\n",
    "\n",
    "\n",
    "def config_logger(log_file=None):\n",
    "    r\"\"\"Config logger.\"\"\"\n",
    "    global logger\n",
    "    logger.handlers.clear()\n",
    "    logger.setLevel(logging.DEBUG)\n",
    "    \n",
    "    format = logging.Formatter(\"%(asctime)s - %(name)s - %(levelname)s - %(message)s\")\n",
    "\n",
    "    # create console handler and set level to debug\n",
    "    ch = logging.StreamHandler()\n",
    "    ch.setLevel(logging.DEBUG)\n",
    "    ch.setFormatter(format)\n",
    "    logger.addHandler(ch)\n",
    "\n",
    "    # create file handler which logs even debug messages\n",
    "    if log_file:\n",
    "        fh = logging.FileHandler(log_file)\n",
    "        fh.setFormatter(format)\n",
    "        logger.addHandler(fh)\n",
    "\n",
    "def get_freer_gpu():\n",
    "    # Run nvidia-smi command to get GPU memory info\n",
    "    command = \"nvidia-smi --query-gpu=memory.free,memory.total --format=csv,noheader,nounits\"\n",
    "    output = os.popen(command).read().strip().split('\\n')\n",
    "\n",
    "    # Parse the output to find GPU with most free memory\n",
    "    max_memory = -1\n",
    "    max_memory_index = -1\n",
    "    for index, line in enumerate(output):\n",
    "        free_memory, _ = map(int, line.split(', '))\n",
    "        if free_memory > max_memory:\n",
    "            max_memory = free_memory\n",
    "            max_memory_index = index\n",
    "\n",
    "    return max_memory_index\n",
    "\n",
    "def viz_epoch_batch(epoch, i_batch, x_batch, x_hat_batch, log_path):\n",
    "    # folder = os.path.join(\"logs\", \"recon_vae\", log_filename)\n",
    "    folder = os.path.join(log_path, \"recon_vae\")\n",
    "    if not os.path.exists(folder):\n",
    "        os.makedirs(folder)\n",
    "    x_batch = x_batch.detach().cpu().numpy()\n",
    "    x_hat_batch = x_hat_batch.detach().cpu().numpy()\n",
    "    for i in range(1):\n",
    "        orig = x_batch[i, 0, :]\n",
    "        recon = x_hat_batch[i, 0, :]\n",
    "        _, ax = plt.subplots()\n",
    "        ax.plot(range(len(orig)), orig)\n",
    "        # plt.savefig(\n",
    "        #     f\"{folder}/epoch{epoch}_item{i}_orig.png\",\n",
    "        #     format='png', dpi=300, bbox_inches='tight')\n",
    "        ax.plot(range(len(recon)), recon)\n",
    "        # plt.ylim((0, 2)) \n",
    "        plt.savefig(\n",
    "            f\"{folder}/epoch{epoch}_batch{i_batch}_item{i}.png\",\n",
    "            format='png', dpi=300, bbox_inches='tight')\n",
    "    plt.close()\n",
    "\n",
    "    \n",
    "def save_models(model_file_instance_pairs):\n",
    "    for model_file in model_file_instance_pairs.keys():\n",
    "        net = model_file_instance_pairs.get(model_file)\n",
    "        torch.save(net.state_dict(), model_file)\n",
    "\n",
    "def load_models(model_file_instance_pairs, device=\"cpu\"):\n",
    "    for model_file in model_file_instance_pairs.keys():\n",
    "        net = model_file_instance_pairs.get(model_file)\n",
    "        net.load_state_dict(\n",
    "            torch.load(model_file, map_location=device, weights_only=True))\n",
    "    # No return seems necessary, in-memory models updated.\n",
    "\n",
    "net_utils.fix_randomness()"
   ]
  },
  {
   "cell_type": "code",
   "execution_count": 3,
   "metadata": {},
   "outputs": [
    {
     "name": "stderr",
     "output_type": "stream",
     "text": [
      "2024-09-26 11:24:23,934 - __main__ - DEBUG - {'batch_size': 32, 'cuda': 0, 'data_path': 'data/mesa/polysomnography/set2x10', 'early_stop_delta': 0.001, 'early_stop_patience': 30, 'hz': 100, 'hz_rr': 5, 'lr': 0.001, 'lr_scheduler_patience': 10, 'max_epoch': 10, 'min_lr': '1e-6', 'seg_len_sec': 30, 'seg_len': 3000, 'n_split': 10, 'n_class': 2, 'encoder': {'in_channels': 1, 'channels': 128, 'depth': 5, 'reduced_size': 64, 'out_channels': 32, 'kernel_size': 5, 'dropout': 0.3, 'softplus_eps': 0.0001, 'sd_output': True}, 'decoder': {'k': 32, 'width': 3000, 'in_channels': 64, 'channels': 128, 'depth': 5, 'out_channels': 1, 'kernel_size': 5, 'gaussian_out': False, 'softplus_eps': 0.0001, 'dropout': 0.0}, 'tm_sim_start': '20240926112423'}\n"
     ]
    }
   ],
   "source": [
    "params = None \n",
    "SIM_FILE = 'simSplitVaeParameterizer'\n",
    "CFG_FILE = 'config.yml'\n",
    "with open(CFG_FILE, 'r') as stream:\n",
    "        params = yaml.safe_load(stream)\n",
    "        params['seg_len'] = params['hz'] * params['seg_len_sec']\n",
    "        params['decoder']['width'] = params['seg_len']\n",
    "\n",
    "tm_sim_start = f\"{datetime.now():%Y%m%d%H%M%S}\"\n",
    "params['tm_sim_start'] = tm_sim_start\n",
    "log_path = f\"logs/{SIM_FILE}_{CFG_FILE[:-4]}_{params['data_path'].replace('/','')}_split{params['n_split']}_ecg_{tm_sim_start}\"\n",
    "model_path = f\"{log_path}/models\"\n",
    "log_file = (f\"{log_path}/{tm_sim_start}.log\")\n",
    "if not os.path.exists(log_path):\n",
    "        os.makedirs(log_path)\n",
    "if not os.path.exists(model_path):\n",
    "        os.makedirs(model_path)\n",
    "logger = logging.getLogger(__name__)\n",
    "config_logger(log_file)\n",
    "\n",
    "# config_logger()\n",
    "\n",
    "if torch.cuda.is_available():\n",
    "        DEVICE = torch.device(f\"cuda:{get_freer_gpu()}\")\n",
    "elif torch.mps.is_available():\n",
    "        DEVICE = \"mps\"\n",
    "else:\n",
    "        DEVICE = \"cpu\"\n",
    "\n",
    "log(params)"
   ]
  },
  {
   "cell_type": "markdown",
   "metadata": {},
   "source": [
    "## Data"
   ]
  },
  {
   "cell_type": "code",
   "execution_count": 8,
   "metadata": {},
   "outputs": [
    {
     "name": "stderr",
     "output_type": "stream",
     "text": [
      "2024-09-26 11:29:54,001 - __main__ - DEBUG - class-map: {0: 0, 1: 1, 2: 1, 3: 1, 4: 1, 5: 2}\n",
      "2024-09-26 11:29:54,003 - __main__ - DEBUG - Data base-dir:E://s222165064/data/mesa/polysomnography, data:set1x20, annot:annotations-events-nsrr, hz:100, seg_sec:30, class_map:{0: 0, 1: 1, 2: 1, 3: 1, 4: 1, 5: 2}, n_classes:3\n",
      "2024-09-26 11:29:54,005 - __main__ - DEBUG - Loading mesa-sleep-0046...\n"
     ]
    },
    {
     "name": "stdout",
     "output_type": "stream",
     "text": [
      "Extracting EDF parameters from E:\\s222165064\\data\\mesa\\polysomnography\\set1x20\\mesa-sleep-0046.edf...\n",
      "EDF file detected\n",
      "Setting channel info structure...\n",
      "Creating raw.info structure...\n"
     ]
    },
    {
     "name": "stderr",
     "output_type": "stream",
     "text": [
      "2024-09-26 11:29:54,025 - __main__ - DEBUG - channels: ['EKG', 'EOG-L', 'EOG-R', 'EMG', 'EEG1', 'EEG2', 'EEG3', 'Pres', 'Flow', 'Snore', 'Thor', 'Abdo', 'Leg', 'Therm', 'Pos', 'EKG_Off', 'EOG-L_Off', 'EOG-R_Off', 'EMG_Off', 'EEG1_Off', 'EEG2_Off', 'EEG3_Off', 'Pleth', 'OxStatus', 'SpO2', 'HR', 'DHR']\n"
     ]
    },
    {
     "name": "stdout",
     "output_type": "stream",
     "text": [
      "NOTE: pick_channels() is a legacy function. New code should use inst.pick(...).\n"
     ]
    },
    {
     "name": "stderr",
     "output_type": "stream",
     "text": [
      "2024-09-26 11:29:54,893 - __main__ - DEBUG - channels: ['EKG'], search:ekg, src_hz:256\n",
      "2024-09-26 11:30:01,584 - __main__ - DEBUG - [mesa-sleep-0046] 208 events, age:1\n",
      "c:\\Users\\s222165064\\.conda\\envs\\split_vae\\lib\\site-packages\\neurokit2\\signal\\signal_fixpeaks.py:307: RuntimeWarning: invalid value encountered in divide\n",
      "  mrrs /= th2\n",
      "c:\\Users\\s222165064\\.conda\\envs\\split_vae\\lib\\site-packages\\neurokit2\\signal\\signal_period.py:84: NeuroKitWarning: Too few peaks detected to compute the rate. Returning empty vector.\n",
      "  warn(\n",
      "c:\\Users\\s222165064\\.conda\\envs\\split_vae\\lib\\site-packages\\numpy\\core\\fromnumeric.py:3504: RuntimeWarning: Mean of empty slice.\n",
      "  return _methods._mean(a, axis=axis, dtype=dtype,\n",
      "c:\\Users\\s222165064\\.conda\\envs\\split_vae\\lib\\site-packages\\numpy\\core\\_methods.py:129: RuntimeWarning: invalid value encountered in scalar divide\n",
      "  ret = ret.dtype.type(ret / rcount)\n",
      "c:\\Users\\s222165064\\.conda\\envs\\split_vae\\lib\\site-packages\\neurokit2\\signal\\signal_period.py:84: NeuroKitWarning: Too few peaks detected to compute the rate. Returning empty vector.\n",
      "  warn(\n"
     ]
    },
    {
     "name": "stdout",
     "output_type": "stream",
     "text": [
      "Traceback (most recent call last):\n",
      "  File \"h:\\Projects\\split_vae\\datasource.py\", line 428, in _initialise\n",
      "    seg = self.process_validate_segment(seg, f)\n",
      "  File \"h:\\Projects\\split_vae\\datasource.py\", line 485, in process_validate_segment\n",
      "    'beats': get_beats(ecg_cleaned, self.hz, self.rr_seg_dim, n_beat=2) if self.is_ecg_beats else [],\n",
      "  File \"h:\\Projects\\split_vae\\datasource.py\", line 82, in get_beats\n",
      "    beats = nk.ecg_segment(y, rpeaks=None, sampling_rate=hz, show=False)\n",
      "  File \"c:\\Users\\s222165064\\.conda\\envs\\split_vae\\lib\\site-packages\\neurokit2\\ecg\\ecg_segment.py\", line 64, in ecg_segment\n",
      "    heartbeats = epochs_create(\n",
      "  File \"c:\\Users\\s222165064\\.conda\\envs\\split_vae\\lib\\site-packages\\neurokit2\\epochs\\epochs_create.py\", line 164, in epochs_create\n",
      "    epoch_max_duration = int(max((i * sampling_rate for i in parameters[\"duration\"])))\n",
      "ValueError: cannot convert float NaN to integer\n",
      "\n",
      "Traceback (most recent call last):\n",
      "  File \"h:\\Projects\\split_vae\\datasource.py\", line 428, in _initialise\n",
      "    seg = self.process_validate_segment(seg, f)\n",
      "  File \"h:\\Projects\\split_vae\\datasource.py\", line 485, in process_validate_segment\n",
      "    'beats': get_beats(ecg_cleaned, self.hz, self.rr_seg_dim, n_beat=2) if self.is_ecg_beats else [],\n",
      "  File \"h:\\Projects\\split_vae\\datasource.py\", line 82, in get_beats\n",
      "    beats = nk.ecg_segment(y, rpeaks=None, sampling_rate=hz, show=False)\n",
      "  File \"c:\\Users\\s222165064\\.conda\\envs\\split_vae\\lib\\site-packages\\neurokit2\\ecg\\ecg_segment.py\", line 64, in ecg_segment\n",
      "    heartbeats = epochs_create(\n",
      "  File \"c:\\Users\\s222165064\\.conda\\envs\\split_vae\\lib\\site-packages\\neurokit2\\epochs\\epochs_create.py\", line 164, in epochs_create\n",
      "    epoch_max_duration = int(max((i * sampling_rate for i in parameters[\"duration\"])))\n",
      "ValueError: cannot convert float NaN to integer\n",
      "\n"
     ]
    },
    {
     "name": "stderr",
     "output_type": "stream",
     "text": [
      "c:\\Users\\s222165064\\.conda\\envs\\split_vae\\lib\\site-packages\\neurokit2\\signal\\signal_period.py:84: NeuroKitWarning: Too few peaks detected to compute the rate. Returning empty vector.\n",
      "  warn(\n"
     ]
    },
    {
     "name": "stdout",
     "output_type": "stream",
     "text": [
      "Traceback (most recent call last):\n",
      "  File \"h:\\Projects\\split_vae\\datasource.py\", line 428, in _initialise\n",
      "    seg = self.process_validate_segment(seg, f)\n",
      "  File \"h:\\Projects\\split_vae\\datasource.py\", line 485, in process_validate_segment\n",
      "    'beats': get_beats(ecg_cleaned, self.hz, self.rr_seg_dim, n_beat=2) if self.is_ecg_beats else [],\n",
      "  File \"h:\\Projects\\split_vae\\datasource.py\", line 82, in get_beats\n",
      "    beats = nk.ecg_segment(y, rpeaks=None, sampling_rate=hz, show=False)\n",
      "  File \"c:\\Users\\s222165064\\.conda\\envs\\split_vae\\lib\\site-packages\\neurokit2\\ecg\\ecg_segment.py\", line 64, in ecg_segment\n",
      "    heartbeats = epochs_create(\n",
      "  File \"c:\\Users\\s222165064\\.conda\\envs\\split_vae\\lib\\site-packages\\neurokit2\\epochs\\epochs_create.py\", line 164, in epochs_create\n",
      "    epoch_max_duration = int(max((i * sampling_rate for i in parameters[\"duration\"])))\n",
      "ValueError: cannot convert float NaN to integer\n",
      "\n"
     ]
    },
    {
     "name": "stderr",
     "output_type": "stream",
     "text": [
      "c:\\Users\\s222165064\\.conda\\envs\\split_vae\\lib\\site-packages\\neurokit2\\signal\\signal_period.py:84: NeuroKitWarning: Too few peaks detected to compute the rate. Returning empty vector.\n",
      "  warn(\n",
      "c:\\Users\\s222165064\\.conda\\envs\\split_vae\\lib\\site-packages\\numpy\\core\\fromnumeric.py:3504: RuntimeWarning: Mean of empty slice.\n",
      "  return _methods._mean(a, axis=axis, dtype=dtype,\n",
      "c:\\Users\\s222165064\\.conda\\envs\\split_vae\\lib\\site-packages\\numpy\\core\\_methods.py:129: RuntimeWarning: invalid value encountered in scalar divide\n",
      "  ret = ret.dtype.type(ret / rcount)\n",
      "c:\\Users\\s222165064\\.conda\\envs\\split_vae\\lib\\site-packages\\neurokit2\\signal\\signal_period.py:84: NeuroKitWarning: Too few peaks detected to compute the rate. Returning empty vector.\n",
      "  warn(\n"
     ]
    },
    {
     "name": "stdout",
     "output_type": "stream",
     "text": [
      "Traceback (most recent call last):\n",
      "  File \"h:\\Projects\\split_vae\\datasource.py\", line 428, in _initialise\n",
      "    seg = self.process_validate_segment(seg, f)\n",
      "  File \"h:\\Projects\\split_vae\\datasource.py\", line 485, in process_validate_segment\n",
      "    'beats': get_beats(ecg_cleaned, self.hz, self.rr_seg_dim, n_beat=2) if self.is_ecg_beats else [],\n",
      "  File \"h:\\Projects\\split_vae\\datasource.py\", line 82, in get_beats\n",
      "    beats = nk.ecg_segment(y, rpeaks=None, sampling_rate=hz, show=False)\n",
      "  File \"c:\\Users\\s222165064\\.conda\\envs\\split_vae\\lib\\site-packages\\neurokit2\\ecg\\ecg_segment.py\", line 64, in ecg_segment\n",
      "    heartbeats = epochs_create(\n",
      "  File \"c:\\Users\\s222165064\\.conda\\envs\\split_vae\\lib\\site-packages\\neurokit2\\epochs\\epochs_create.py\", line 164, in epochs_create\n",
      "    epoch_max_duration = int(max((i * sampling_rate for i in parameters[\"duration\"])))\n",
      "ValueError: cannot convert float NaN to integer\n",
      "\n",
      "Traceback (most recent call last):\n",
      "  File \"h:\\Projects\\split_vae\\datasource.py\", line 428, in _initialise\n",
      "    seg = self.process_validate_segment(seg, f)\n",
      "  File \"h:\\Projects\\split_vae\\datasource.py\", line 485, in process_validate_segment\n",
      "    'beats': get_beats(ecg_cleaned, self.hz, self.rr_seg_dim, n_beat=2) if self.is_ecg_beats else [],\n",
      "  File \"h:\\Projects\\split_vae\\datasource.py\", line 82, in get_beats\n",
      "    beats = nk.ecg_segment(y, rpeaks=None, sampling_rate=hz, show=False)\n",
      "  File \"c:\\Users\\s222165064\\.conda\\envs\\split_vae\\lib\\site-packages\\neurokit2\\ecg\\ecg_segment.py\", line 64, in ecg_segment\n",
      "    heartbeats = epochs_create(\n",
      "  File \"c:\\Users\\s222165064\\.conda\\envs\\split_vae\\lib\\site-packages\\neurokit2\\epochs\\epochs_create.py\", line 164, in epochs_create\n",
      "    epoch_max_duration = int(max((i * sampling_rate for i in parameters[\"duration\"])))\n",
      "ValueError: cannot convert float NaN to integer\n",
      "\n"
     ]
    },
    {
     "name": "stderr",
     "output_type": "stream",
     "text": [
      "c:\\Users\\s222165064\\.conda\\envs\\split_vae\\lib\\site-packages\\neurokit2\\signal\\signal_fixpeaks.py:307: RuntimeWarning: invalid value encountered in divide\n",
      "  mrrs /= th2\n",
      "c:\\Users\\s222165064\\.conda\\envs\\split_vae\\lib\\site-packages\\neurokit2\\signal\\signal_period.py:84: NeuroKitWarning: Too few peaks detected to compute the rate. Returning empty vector.\n",
      "  warn(\n"
     ]
    },
    {
     "name": "stdout",
     "output_type": "stream",
     "text": [
      "Traceback (most recent call last):\n",
      "  File \"h:\\Projects\\split_vae\\datasource.py\", line 428, in _initialise\n",
      "    seg = self.process_validate_segment(seg, f)\n",
      "  File \"h:\\Projects\\split_vae\\datasource.py\", line 485, in process_validate_segment\n",
      "    'beats': get_beats(ecg_cleaned, self.hz, self.rr_seg_dim, n_beat=2) if self.is_ecg_beats else [],\n",
      "  File \"h:\\Projects\\split_vae\\datasource.py\", line 82, in get_beats\n",
      "    beats = nk.ecg_segment(y, rpeaks=None, sampling_rate=hz, show=False)\n",
      "  File \"c:\\Users\\s222165064\\.conda\\envs\\split_vae\\lib\\site-packages\\neurokit2\\ecg\\ecg_segment.py\", line 64, in ecg_segment\n",
      "    heartbeats = epochs_create(\n",
      "  File \"c:\\Users\\s222165064\\.conda\\envs\\split_vae\\lib\\site-packages\\neurokit2\\epochs\\epochs_create.py\", line 164, in epochs_create\n",
      "    epoch_max_duration = int(max((i * sampling_rate for i in parameters[\"duration\"])))\n",
      "ValueError: cannot convert float NaN to integer\n",
      "\n"
     ]
    },
    {
     "name": "stderr",
     "output_type": "stream",
     "text": [
      "c:\\Users\\s222165064\\.conda\\envs\\split_vae\\lib\\site-packages\\neurokit2\\signal\\signal_period.py:84: NeuroKitWarning: Too few peaks detected to compute the rate. Returning empty vector.\n",
      "  warn(\n",
      "c:\\Users\\s222165064\\.conda\\envs\\split_vae\\lib\\site-packages\\neurokit2\\signal\\signal_period.py:84: NeuroKitWarning: Too few peaks detected to compute the rate. Returning empty vector.\n",
      "  warn(\n"
     ]
    },
    {
     "name": "stdout",
     "output_type": "stream",
     "text": [
      "Traceback (most recent call last):\n",
      "  File \"h:\\Projects\\split_vae\\datasource.py\", line 428, in _initialise\n",
      "    seg = self.process_validate_segment(seg, f)\n",
      "  File \"h:\\Projects\\split_vae\\datasource.py\", line 485, in process_validate_segment\n",
      "    'beats': get_beats(ecg_cleaned, self.hz, self.rr_seg_dim, n_beat=2) if self.is_ecg_beats else [],\n",
      "  File \"h:\\Projects\\split_vae\\datasource.py\", line 82, in get_beats\n",
      "    beats = nk.ecg_segment(y, rpeaks=None, sampling_rate=hz, show=False)\n",
      "  File \"c:\\Users\\s222165064\\.conda\\envs\\split_vae\\lib\\site-packages\\neurokit2\\ecg\\ecg_segment.py\", line 64, in ecg_segment\n",
      "    heartbeats = epochs_create(\n",
      "  File \"c:\\Users\\s222165064\\.conda\\envs\\split_vae\\lib\\site-packages\\neurokit2\\epochs\\epochs_create.py\", line 164, in epochs_create\n",
      "    epoch_max_duration = int(max((i * sampling_rate for i in parameters[\"duration\"])))\n",
      "ValueError: cannot convert float NaN to integer\n",
      "\n",
      "Traceback (most recent call last):\n",
      "  File \"h:\\Projects\\split_vae\\datasource.py\", line 428, in _initialise\n",
      "    seg = self.process_validate_segment(seg, f)\n",
      "  File \"h:\\Projects\\split_vae\\datasource.py\", line 485, in process_validate_segment\n",
      "    'beats': get_beats(ecg_cleaned, self.hz, self.rr_seg_dim, n_beat=2) if self.is_ecg_beats else [],\n",
      "  File \"h:\\Projects\\split_vae\\datasource.py\", line 82, in get_beats\n",
      "    beats = nk.ecg_segment(y, rpeaks=None, sampling_rate=hz, show=False)\n",
      "  File \"c:\\Users\\s222165064\\.conda\\envs\\split_vae\\lib\\site-packages\\neurokit2\\ecg\\ecg_segment.py\", line 64, in ecg_segment\n",
      "    heartbeats = epochs_create(\n",
      "  File \"c:\\Users\\s222165064\\.conda\\envs\\split_vae\\lib\\site-packages\\neurokit2\\epochs\\epochs_create.py\", line 164, in epochs_create\n",
      "    epoch_max_duration = int(max((i * sampling_rate for i in parameters[\"duration\"])))\n",
      "ValueError: cannot convert float NaN to integer\n",
      "\n"
     ]
    },
    {
     "name": "stderr",
     "output_type": "stream",
     "text": [
      "c:\\Users\\s222165064\\.conda\\envs\\split_vae\\lib\\site-packages\\neurokit2\\signal\\signal_fixpeaks.py:307: RuntimeWarning: invalid value encountered in divide\n",
      "  mrrs /= th2\n",
      "c:\\Users\\s222165064\\.conda\\envs\\split_vae\\lib\\site-packages\\neurokit2\\signal\\signal_period.py:84: NeuroKitWarning: Too few peaks detected to compute the rate. Returning empty vector.\n",
      "  warn(\n",
      "c:\\Users\\s222165064\\.conda\\envs\\split_vae\\lib\\site-packages\\neurokit2\\signal\\signal_fixpeaks.py:307: RuntimeWarning: invalid value encountered in divide\n",
      "  mrrs /= th2\n",
      "c:\\Users\\s222165064\\.conda\\envs\\split_vae\\lib\\site-packages\\neurokit2\\signal\\signal_period.py:84: NeuroKitWarning: Too few peaks detected to compute the rate. Returning empty vector.\n",
      "  warn(\n"
     ]
    },
    {
     "name": "stdout",
     "output_type": "stream",
     "text": [
      "Traceback (most recent call last):\n",
      "  File \"h:\\Projects\\split_vae\\datasource.py\", line 428, in _initialise\n",
      "    seg = self.process_validate_segment(seg, f)\n",
      "  File \"h:\\Projects\\split_vae\\datasource.py\", line 485, in process_validate_segment\n",
      "    'beats': get_beats(ecg_cleaned, self.hz, self.rr_seg_dim, n_beat=2) if self.is_ecg_beats else [],\n",
      "  File \"h:\\Projects\\split_vae\\datasource.py\", line 82, in get_beats\n",
      "    beats = nk.ecg_segment(y, rpeaks=None, sampling_rate=hz, show=False)\n",
      "  File \"c:\\Users\\s222165064\\.conda\\envs\\split_vae\\lib\\site-packages\\neurokit2\\ecg\\ecg_segment.py\", line 64, in ecg_segment\n",
      "    heartbeats = epochs_create(\n",
      "  File \"c:\\Users\\s222165064\\.conda\\envs\\split_vae\\lib\\site-packages\\neurokit2\\epochs\\epochs_create.py\", line 164, in epochs_create\n",
      "    epoch_max_duration = int(max((i * sampling_rate for i in parameters[\"duration\"])))\n",
      "ValueError: cannot convert float NaN to integer\n",
      "\n",
      "Traceback (most recent call last):\n",
      "  File \"h:\\Projects\\split_vae\\datasource.py\", line 428, in _initialise\n",
      "    seg = self.process_validate_segment(seg, f)\n",
      "  File \"h:\\Projects\\split_vae\\datasource.py\", line 485, in process_validate_segment\n",
      "    'beats': get_beats(ecg_cleaned, self.hz, self.rr_seg_dim, n_beat=2) if self.is_ecg_beats else [],\n",
      "  File \"h:\\Projects\\split_vae\\datasource.py\", line 82, in get_beats\n",
      "    beats = nk.ecg_segment(y, rpeaks=None, sampling_rate=hz, show=False)\n",
      "  File \"c:\\Users\\s222165064\\.conda\\envs\\split_vae\\lib\\site-packages\\neurokit2\\ecg\\ecg_segment.py\", line 64, in ecg_segment\n",
      "    heartbeats = epochs_create(\n",
      "  File \"c:\\Users\\s222165064\\.conda\\envs\\split_vae\\lib\\site-packages\\neurokit2\\epochs\\epochs_create.py\", line 164, in epochs_create\n",
      "    epoch_max_duration = int(max((i * sampling_rate for i in parameters[\"duration\"])))\n",
      "ValueError: cannot convert float NaN to integer\n",
      "\n"
     ]
    },
    {
     "name": "stderr",
     "output_type": "stream",
     "text": [
      "c:\\Users\\s222165064\\.conda\\envs\\split_vae\\lib\\site-packages\\neurokit2\\signal\\signal_period.py:84: NeuroKitWarning: Too few peaks detected to compute the rate. Returning empty vector.\n",
      "  warn(\n",
      "c:\\Users\\s222165064\\.conda\\envs\\split_vae\\lib\\site-packages\\neurokit2\\signal\\signal_period.py:84: NeuroKitWarning: Too few peaks detected to compute the rate. Returning empty vector.\n",
      "  warn(\n",
      "c:\\Users\\s222165064\\.conda\\envs\\split_vae\\lib\\site-packages\\neurokit2\\signal\\signal_period.py:84: NeuroKitWarning: Too few peaks detected to compute the rate. Returning empty vector.\n",
      "  warn(\n"
     ]
    },
    {
     "name": "stdout",
     "output_type": "stream",
     "text": [
      "Traceback (most recent call last):\n",
      "  File \"h:\\Projects\\split_vae\\datasource.py\", line 428, in _initialise\n",
      "    seg = self.process_validate_segment(seg, f)\n",
      "  File \"h:\\Projects\\split_vae\\datasource.py\", line 485, in process_validate_segment\n",
      "    'beats': get_beats(ecg_cleaned, self.hz, self.rr_seg_dim, n_beat=2) if self.is_ecg_beats else [],\n",
      "  File \"h:\\Projects\\split_vae\\datasource.py\", line 82, in get_beats\n",
      "    beats = nk.ecg_segment(y, rpeaks=None, sampling_rate=hz, show=False)\n",
      "  File \"c:\\Users\\s222165064\\.conda\\envs\\split_vae\\lib\\site-packages\\neurokit2\\ecg\\ecg_segment.py\", line 64, in ecg_segment\n",
      "    heartbeats = epochs_create(\n",
      "  File \"c:\\Users\\s222165064\\.conda\\envs\\split_vae\\lib\\site-packages\\neurokit2\\epochs\\epochs_create.py\", line 164, in epochs_create\n",
      "    epoch_max_duration = int(max((i * sampling_rate for i in parameters[\"duration\"])))\n",
      "ValueError: cannot convert float NaN to integer\n",
      "\n",
      "Traceback (most recent call last):\n",
      "  File \"h:\\Projects\\split_vae\\datasource.py\", line 428, in _initialise\n",
      "    seg = self.process_validate_segment(seg, f)\n",
      "  File \"h:\\Projects\\split_vae\\datasource.py\", line 485, in process_validate_segment\n",
      "    'beats': get_beats(ecg_cleaned, self.hz, self.rr_seg_dim, n_beat=2) if self.is_ecg_beats else [],\n",
      "  File \"h:\\Projects\\split_vae\\datasource.py\", line 82, in get_beats\n",
      "    beats = nk.ecg_segment(y, rpeaks=None, sampling_rate=hz, show=False)\n",
      "  File \"c:\\Users\\s222165064\\.conda\\envs\\split_vae\\lib\\site-packages\\neurokit2\\ecg\\ecg_segment.py\", line 64, in ecg_segment\n",
      "    heartbeats = epochs_create(\n",
      "  File \"c:\\Users\\s222165064\\.conda\\envs\\split_vae\\lib\\site-packages\\neurokit2\\epochs\\epochs_create.py\", line 164, in epochs_create\n",
      "    epoch_max_duration = int(max((i * sampling_rate for i in parameters[\"duration\"])))\n",
      "ValueError: cannot convert float NaN to integer\n",
      "\n",
      "Traceback (most recent call last):\n",
      "  File \"h:\\Projects\\split_vae\\datasource.py\", line 428, in _initialise\n",
      "    seg = self.process_validate_segment(seg, f)\n",
      "  File \"h:\\Projects\\split_vae\\datasource.py\", line 485, in process_validate_segment\n",
      "    'beats': get_beats(ecg_cleaned, self.hz, self.rr_seg_dim, n_beat=2) if self.is_ecg_beats else [],\n",
      "  File \"h:\\Projects\\split_vae\\datasource.py\", line 82, in get_beats\n",
      "    beats = nk.ecg_segment(y, rpeaks=None, sampling_rate=hz, show=False)\n",
      "  File \"c:\\Users\\s222165064\\.conda\\envs\\split_vae\\lib\\site-packages\\neurokit2\\ecg\\ecg_segment.py\", line 64, in ecg_segment\n",
      "    heartbeats = epochs_create(\n",
      "  File \"c:\\Users\\s222165064\\.conda\\envs\\split_vae\\lib\\site-packages\\neurokit2\\epochs\\epochs_create.py\", line 164, in epochs_create\n",
      "    epoch_max_duration = int(max((i * sampling_rate for i in parameters[\"duration\"])))\n",
      "ValueError: cannot convert float NaN to integer\n",
      "\n"
     ]
    },
    {
     "name": "stderr",
     "output_type": "stream",
     "text": [
      "c:\\Users\\s222165064\\.conda\\envs\\split_vae\\lib\\site-packages\\neurokit2\\signal\\signal_period.py:84: NeuroKitWarning: Too few peaks detected to compute the rate. Returning empty vector.\n",
      "  warn(\n",
      "c:\\Users\\s222165064\\.conda\\envs\\split_vae\\lib\\site-packages\\numpy\\core\\fromnumeric.py:3504: RuntimeWarning: Mean of empty slice.\n",
      "  return _methods._mean(a, axis=axis, dtype=dtype,\n",
      "c:\\Users\\s222165064\\.conda\\envs\\split_vae\\lib\\site-packages\\numpy\\core\\_methods.py:129: RuntimeWarning: invalid value encountered in scalar divide\n",
      "  ret = ret.dtype.type(ret / rcount)\n",
      "c:\\Users\\s222165064\\.conda\\envs\\split_vae\\lib\\site-packages\\neurokit2\\signal\\signal_period.py:84: NeuroKitWarning: Too few peaks detected to compute the rate. Returning empty vector.\n",
      "  warn(\n"
     ]
    },
    {
     "name": "stdout",
     "output_type": "stream",
     "text": [
      "Traceback (most recent call last):\n",
      "  File \"h:\\Projects\\split_vae\\datasource.py\", line 428, in _initialise\n",
      "    seg = self.process_validate_segment(seg, f)\n",
      "  File \"h:\\Projects\\split_vae\\datasource.py\", line 485, in process_validate_segment\n",
      "    'beats': get_beats(ecg_cleaned, self.hz, self.rr_seg_dim, n_beat=2) if self.is_ecg_beats else [],\n",
      "  File \"h:\\Projects\\split_vae\\datasource.py\", line 82, in get_beats\n",
      "    beats = nk.ecg_segment(y, rpeaks=None, sampling_rate=hz, show=False)\n",
      "  File \"c:\\Users\\s222165064\\.conda\\envs\\split_vae\\lib\\site-packages\\neurokit2\\ecg\\ecg_segment.py\", line 64, in ecg_segment\n",
      "    heartbeats = epochs_create(\n",
      "  File \"c:\\Users\\s222165064\\.conda\\envs\\split_vae\\lib\\site-packages\\neurokit2\\epochs\\epochs_create.py\", line 164, in epochs_create\n",
      "    epoch_max_duration = int(max((i * sampling_rate for i in parameters[\"duration\"])))\n",
      "ValueError: cannot convert float NaN to integer\n",
      "\n",
      "Traceback (most recent call last):\n",
      "  File \"h:\\Projects\\split_vae\\datasource.py\", line 428, in _initialise\n",
      "    seg = self.process_validate_segment(seg, f)\n",
      "  File \"h:\\Projects\\split_vae\\datasource.py\", line 485, in process_validate_segment\n",
      "    'beats': get_beats(ecg_cleaned, self.hz, self.rr_seg_dim, n_beat=2) if self.is_ecg_beats else [],\n",
      "  File \"h:\\Projects\\split_vae\\datasource.py\", line 82, in get_beats\n",
      "    beats = nk.ecg_segment(y, rpeaks=None, sampling_rate=hz, show=False)\n",
      "  File \"c:\\Users\\s222165064\\.conda\\envs\\split_vae\\lib\\site-packages\\neurokit2\\ecg\\ecg_segment.py\", line 64, in ecg_segment\n",
      "    heartbeats = epochs_create(\n",
      "  File \"c:\\Users\\s222165064\\.conda\\envs\\split_vae\\lib\\site-packages\\neurokit2\\epochs\\epochs_create.py\", line 164, in epochs_create\n",
      "    epoch_max_duration = int(max((i * sampling_rate for i in parameters[\"duration\"])))\n",
      "ValueError: cannot convert float NaN to integer\n",
      "\n"
     ]
    },
    {
     "name": "stderr",
     "output_type": "stream",
     "text": [
      "c:\\Users\\s222165064\\.conda\\envs\\split_vae\\lib\\site-packages\\neurokit2\\signal\\signal_fixpeaks.py:307: RuntimeWarning: invalid value encountered in divide\n",
      "  mrrs /= th2\n",
      "c:\\Users\\s222165064\\.conda\\envs\\split_vae\\lib\\site-packages\\neurokit2\\signal\\signal_period.py:84: NeuroKitWarning: Too few peaks detected to compute the rate. Returning empty vector.\n",
      "  warn(\n"
     ]
    },
    {
     "name": "stdout",
     "output_type": "stream",
     "text": [
      "Traceback (most recent call last):\n",
      "  File \"h:\\Projects\\split_vae\\datasource.py\", line 428, in _initialise\n",
      "    seg = self.process_validate_segment(seg, f)\n",
      "  File \"h:\\Projects\\split_vae\\datasource.py\", line 485, in process_validate_segment\n",
      "    'beats': get_beats(ecg_cleaned, self.hz, self.rr_seg_dim, n_beat=2) if self.is_ecg_beats else [],\n",
      "  File \"h:\\Projects\\split_vae\\datasource.py\", line 82, in get_beats\n",
      "    beats = nk.ecg_segment(y, rpeaks=None, sampling_rate=hz, show=False)\n",
      "  File \"c:\\Users\\s222165064\\.conda\\envs\\split_vae\\lib\\site-packages\\neurokit2\\ecg\\ecg_segment.py\", line 64, in ecg_segment\n",
      "    heartbeats = epochs_create(\n",
      "  File \"c:\\Users\\s222165064\\.conda\\envs\\split_vae\\lib\\site-packages\\neurokit2\\epochs\\epochs_create.py\", line 164, in epochs_create\n",
      "    epoch_max_duration = int(max((i * sampling_rate for i in parameters[\"duration\"])))\n",
      "ValueError: cannot convert float NaN to integer\n",
      "\n"
     ]
    },
    {
     "name": "stderr",
     "output_type": "stream",
     "text": [
      "c:\\Users\\s222165064\\.conda\\envs\\split_vae\\lib\\site-packages\\neurokit2\\signal\\signal_period.py:84: NeuroKitWarning: Too few peaks detected to compute the rate. Returning empty vector.\n",
      "  warn(\n",
      "c:\\Users\\s222165064\\.conda\\envs\\split_vae\\lib\\site-packages\\neurokit2\\signal\\signal_period.py:84: NeuroKitWarning: Too few peaks detected to compute the rate. Returning empty vector.\n",
      "  warn(\n"
     ]
    },
    {
     "name": "stdout",
     "output_type": "stream",
     "text": [
      "Traceback (most recent call last):\n",
      "  File \"h:\\Projects\\split_vae\\datasource.py\", line 428, in _initialise\n",
      "    seg = self.process_validate_segment(seg, f)\n",
      "  File \"h:\\Projects\\split_vae\\datasource.py\", line 485, in process_validate_segment\n",
      "    'beats': get_beats(ecg_cleaned, self.hz, self.rr_seg_dim, n_beat=2) if self.is_ecg_beats else [],\n",
      "  File \"h:\\Projects\\split_vae\\datasource.py\", line 82, in get_beats\n",
      "    beats = nk.ecg_segment(y, rpeaks=None, sampling_rate=hz, show=False)\n",
      "  File \"c:\\Users\\s222165064\\.conda\\envs\\split_vae\\lib\\site-packages\\neurokit2\\ecg\\ecg_segment.py\", line 64, in ecg_segment\n",
      "    heartbeats = epochs_create(\n",
      "  File \"c:\\Users\\s222165064\\.conda\\envs\\split_vae\\lib\\site-packages\\neurokit2\\epochs\\epochs_create.py\", line 164, in epochs_create\n",
      "    epoch_max_duration = int(max((i * sampling_rate for i in parameters[\"duration\"])))\n",
      "ValueError: cannot convert float NaN to integer\n",
      "\n",
      "Traceback (most recent call last):\n",
      "  File \"h:\\Projects\\split_vae\\datasource.py\", line 428, in _initialise\n",
      "    seg = self.process_validate_segment(seg, f)\n",
      "  File \"h:\\Projects\\split_vae\\datasource.py\", line 485, in process_validate_segment\n",
      "    'beats': get_beats(ecg_cleaned, self.hz, self.rr_seg_dim, n_beat=2) if self.is_ecg_beats else [],\n",
      "  File \"h:\\Projects\\split_vae\\datasource.py\", line 82, in get_beats\n",
      "    beats = nk.ecg_segment(y, rpeaks=None, sampling_rate=hz, show=False)\n",
      "  File \"c:\\Users\\s222165064\\.conda\\envs\\split_vae\\lib\\site-packages\\neurokit2\\ecg\\ecg_segment.py\", line 64, in ecg_segment\n",
      "    heartbeats = epochs_create(\n",
      "  File \"c:\\Users\\s222165064\\.conda\\envs\\split_vae\\lib\\site-packages\\neurokit2\\epochs\\epochs_create.py\", line 164, in epochs_create\n",
      "    epoch_max_duration = int(max((i * sampling_rate for i in parameters[\"duration\"])))\n",
      "ValueError: cannot convert float NaN to integer\n",
      "\n"
     ]
    },
    {
     "name": "stderr",
     "output_type": "stream",
     "text": [
      "c:\\Users\\s222165064\\.conda\\envs\\split_vae\\lib\\site-packages\\neurokit2\\signal\\signal_period.py:84: NeuroKitWarning: Too few peaks detected to compute the rate. Returning empty vector.\n",
      "  warn(\n",
      "c:\\Users\\s222165064\\.conda\\envs\\split_vae\\lib\\site-packages\\numpy\\core\\fromnumeric.py:3504: RuntimeWarning: Mean of empty slice.\n",
      "  return _methods._mean(a, axis=axis, dtype=dtype,\n",
      "c:\\Users\\s222165064\\.conda\\envs\\split_vae\\lib\\site-packages\\numpy\\core\\_methods.py:129: RuntimeWarning: invalid value encountered in scalar divide\n",
      "  ret = ret.dtype.type(ret / rcount)\n",
      "c:\\Users\\s222165064\\.conda\\envs\\split_vae\\lib\\site-packages\\neurokit2\\signal\\signal_period.py:84: NeuroKitWarning: Too few peaks detected to compute the rate. Returning empty vector.\n",
      "  warn(\n",
      "c:\\Users\\s222165064\\.conda\\envs\\split_vae\\lib\\site-packages\\neurokit2\\signal\\signal_period.py:84: NeuroKitWarning: Too few peaks detected to compute the rate. Returning empty vector.\n",
      "  warn(\n",
      "c:\\Users\\s222165064\\.conda\\envs\\split_vae\\lib\\site-packages\\neurokit2\\signal\\signal_fixpeaks.py:307: RuntimeWarning: invalid value encountered in divide\n",
      "  mrrs /= th2\n",
      "c:\\Users\\s222165064\\.conda\\envs\\split_vae\\lib\\site-packages\\neurokit2\\signal\\signal_period.py:84: NeuroKitWarning: Too few peaks detected to compute the rate. Returning empty vector.\n",
      "  warn(\n"
     ]
    },
    {
     "name": "stdout",
     "output_type": "stream",
     "text": [
      "Traceback (most recent call last):\n",
      "  File \"h:\\Projects\\split_vae\\datasource.py\", line 428, in _initialise\n",
      "    seg = self.process_validate_segment(seg, f)\n",
      "  File \"h:\\Projects\\split_vae\\datasource.py\", line 485, in process_validate_segment\n",
      "    'beats': get_beats(ecg_cleaned, self.hz, self.rr_seg_dim, n_beat=2) if self.is_ecg_beats else [],\n",
      "  File \"h:\\Projects\\split_vae\\datasource.py\", line 82, in get_beats\n",
      "    beats = nk.ecg_segment(y, rpeaks=None, sampling_rate=hz, show=False)\n",
      "  File \"c:\\Users\\s222165064\\.conda\\envs\\split_vae\\lib\\site-packages\\neurokit2\\ecg\\ecg_segment.py\", line 64, in ecg_segment\n",
      "    heartbeats = epochs_create(\n",
      "  File \"c:\\Users\\s222165064\\.conda\\envs\\split_vae\\lib\\site-packages\\neurokit2\\epochs\\epochs_create.py\", line 164, in epochs_create\n",
      "    epoch_max_duration = int(max((i * sampling_rate for i in parameters[\"duration\"])))\n",
      "ValueError: cannot convert float NaN to integer\n",
      "\n",
      "Traceback (most recent call last):\n",
      "  File \"h:\\Projects\\split_vae\\datasource.py\", line 428, in _initialise\n",
      "    seg = self.process_validate_segment(seg, f)\n",
      "  File \"h:\\Projects\\split_vae\\datasource.py\", line 485, in process_validate_segment\n",
      "    'beats': get_beats(ecg_cleaned, self.hz, self.rr_seg_dim, n_beat=2) if self.is_ecg_beats else [],\n",
      "  File \"h:\\Projects\\split_vae\\datasource.py\", line 82, in get_beats\n",
      "    beats = nk.ecg_segment(y, rpeaks=None, sampling_rate=hz, show=False)\n",
      "  File \"c:\\Users\\s222165064\\.conda\\envs\\split_vae\\lib\\site-packages\\neurokit2\\ecg\\ecg_segment.py\", line 64, in ecg_segment\n",
      "    heartbeats = epochs_create(\n",
      "  File \"c:\\Users\\s222165064\\.conda\\envs\\split_vae\\lib\\site-packages\\neurokit2\\epochs\\epochs_create.py\", line 164, in epochs_create\n",
      "    epoch_max_duration = int(max((i * sampling_rate for i in parameters[\"duration\"])))\n",
      "ValueError: cannot convert float NaN to integer\n",
      "\n",
      "Traceback (most recent call last):\n",
      "  File \"h:\\Projects\\split_vae\\datasource.py\", line 428, in _initialise\n",
      "    seg = self.process_validate_segment(seg, f)\n",
      "  File \"h:\\Projects\\split_vae\\datasource.py\", line 485, in process_validate_segment\n",
      "    'beats': get_beats(ecg_cleaned, self.hz, self.rr_seg_dim, n_beat=2) if self.is_ecg_beats else [],\n",
      "  File \"h:\\Projects\\split_vae\\datasource.py\", line 82, in get_beats\n",
      "    beats = nk.ecg_segment(y, rpeaks=None, sampling_rate=hz, show=False)\n",
      "  File \"c:\\Users\\s222165064\\.conda\\envs\\split_vae\\lib\\site-packages\\neurokit2\\ecg\\ecg_segment.py\", line 64, in ecg_segment\n",
      "    heartbeats = epochs_create(\n",
      "  File \"c:\\Users\\s222165064\\.conda\\envs\\split_vae\\lib\\site-packages\\neurokit2\\epochs\\epochs_create.py\", line 164, in epochs_create\n",
      "    epoch_max_duration = int(max((i * sampling_rate for i in parameters[\"duration\"])))\n",
      "ValueError: cannot convert float NaN to integer\n",
      "\n",
      "Traceback (most recent call last):\n",
      "  File \"h:\\Projects\\split_vae\\datasource.py\", line 428, in _initialise\n",
      "    seg = self.process_validate_segment(seg, f)\n",
      "  File \"h:\\Projects\\split_vae\\datasource.py\", line 485, in process_validate_segment\n",
      "    'beats': get_beats(ecg_cleaned, self.hz, self.rr_seg_dim, n_beat=2) if self.is_ecg_beats else [],\n",
      "  File \"h:\\Projects\\split_vae\\datasource.py\", line 82, in get_beats\n",
      "    beats = nk.ecg_segment(y, rpeaks=None, sampling_rate=hz, show=False)\n",
      "  File \"c:\\Users\\s222165064\\.conda\\envs\\split_vae\\lib\\site-packages\\neurokit2\\ecg\\ecg_segment.py\", line 64, in ecg_segment\n",
      "    heartbeats = epochs_create(\n",
      "  File \"c:\\Users\\s222165064\\.conda\\envs\\split_vae\\lib\\site-packages\\neurokit2\\epochs\\epochs_create.py\", line 164, in epochs_create\n",
      "    epoch_max_duration = int(max((i * sampling_rate for i in parameters[\"duration\"])))\n",
      "ValueError: cannot convert float NaN to integer\n",
      "\n"
     ]
    },
    {
     "name": "stderr",
     "output_type": "stream",
     "text": [
      "c:\\Users\\s222165064\\.conda\\envs\\split_vae\\lib\\site-packages\\neurokit2\\signal\\signal_fixpeaks.py:307: RuntimeWarning: invalid value encountered in divide\n",
      "  mrrs /= th2\n",
      "c:\\Users\\s222165064\\.conda\\envs\\split_vae\\lib\\site-packages\\neurokit2\\signal\\signal_period.py:84: NeuroKitWarning: Too few peaks detected to compute the rate. Returning empty vector.\n",
      "  warn(\n"
     ]
    },
    {
     "name": "stdout",
     "output_type": "stream",
     "text": [
      "Traceback (most recent call last):\n",
      "  File \"h:\\Projects\\split_vae\\datasource.py\", line 428, in _initialise\n",
      "    seg = self.process_validate_segment(seg, f)\n",
      "  File \"h:\\Projects\\split_vae\\datasource.py\", line 485, in process_validate_segment\n",
      "    'beats': get_beats(ecg_cleaned, self.hz, self.rr_seg_dim, n_beat=2) if self.is_ecg_beats else [],\n",
      "  File \"h:\\Projects\\split_vae\\datasource.py\", line 82, in get_beats\n",
      "    beats = nk.ecg_segment(y, rpeaks=None, sampling_rate=hz, show=False)\n",
      "  File \"c:\\Users\\s222165064\\.conda\\envs\\split_vae\\lib\\site-packages\\neurokit2\\ecg\\ecg_segment.py\", line 64, in ecg_segment\n",
      "    heartbeats = epochs_create(\n",
      "  File \"c:\\Users\\s222165064\\.conda\\envs\\split_vae\\lib\\site-packages\\neurokit2\\epochs\\epochs_create.py\", line 164, in epochs_create\n",
      "    epoch_max_duration = int(max((i * sampling_rate for i in parameters[\"duration\"])))\n",
      "ValueError: cannot convert float NaN to integer\n",
      "\n"
     ]
    },
    {
     "name": "stderr",
     "output_type": "stream",
     "text": [
      "c:\\Users\\s222165064\\.conda\\envs\\split_vae\\lib\\site-packages\\neurokit2\\signal\\signal_fixpeaks.py:307: RuntimeWarning: invalid value encountered in divide\n",
      "  mrrs /= th2\n",
      "c:\\Users\\s222165064\\.conda\\envs\\split_vae\\lib\\site-packages\\neurokit2\\signal\\signal_period.py:84: NeuroKitWarning: Too few peaks detected to compute the rate. Returning empty vector.\n",
      "  warn(\n",
      "c:\\Users\\s222165064\\.conda\\envs\\split_vae\\lib\\site-packages\\neurokit2\\signal\\signal_fixpeaks.py:307: RuntimeWarning: invalid value encountered in divide\n",
      "  mrrs /= th2\n",
      "c:\\Users\\s222165064\\.conda\\envs\\split_vae\\lib\\site-packages\\neurokit2\\signal\\signal_period.py:84: NeuroKitWarning: Too few peaks detected to compute the rate. Returning empty vector.\n",
      "  warn(\n"
     ]
    },
    {
     "name": "stdout",
     "output_type": "stream",
     "text": [
      "Traceback (most recent call last):\n",
      "  File \"h:\\Projects\\split_vae\\datasource.py\", line 428, in _initialise\n",
      "    seg = self.process_validate_segment(seg, f)\n",
      "  File \"h:\\Projects\\split_vae\\datasource.py\", line 485, in process_validate_segment\n",
      "    'beats': get_beats(ecg_cleaned, self.hz, self.rr_seg_dim, n_beat=2) if self.is_ecg_beats else [],\n",
      "  File \"h:\\Projects\\split_vae\\datasource.py\", line 82, in get_beats\n",
      "    beats = nk.ecg_segment(y, rpeaks=None, sampling_rate=hz, show=False)\n",
      "  File \"c:\\Users\\s222165064\\.conda\\envs\\split_vae\\lib\\site-packages\\neurokit2\\ecg\\ecg_segment.py\", line 64, in ecg_segment\n",
      "    heartbeats = epochs_create(\n",
      "  File \"c:\\Users\\s222165064\\.conda\\envs\\split_vae\\lib\\site-packages\\neurokit2\\epochs\\epochs_create.py\", line 164, in epochs_create\n",
      "    epoch_max_duration = int(max((i * sampling_rate for i in parameters[\"duration\"])))\n",
      "ValueError: cannot convert float NaN to integer\n",
      "\n",
      "Traceback (most recent call last):\n",
      "  File \"h:\\Projects\\split_vae\\datasource.py\", line 428, in _initialise\n",
      "    seg = self.process_validate_segment(seg, f)\n",
      "  File \"h:\\Projects\\split_vae\\datasource.py\", line 485, in process_validate_segment\n",
      "    'beats': get_beats(ecg_cleaned, self.hz, self.rr_seg_dim, n_beat=2) if self.is_ecg_beats else [],\n",
      "  File \"h:\\Projects\\split_vae\\datasource.py\", line 82, in get_beats\n",
      "    beats = nk.ecg_segment(y, rpeaks=None, sampling_rate=hz, show=False)\n",
      "  File \"c:\\Users\\s222165064\\.conda\\envs\\split_vae\\lib\\site-packages\\neurokit2\\ecg\\ecg_segment.py\", line 64, in ecg_segment\n",
      "    heartbeats = epochs_create(\n",
      "  File \"c:\\Users\\s222165064\\.conda\\envs\\split_vae\\lib\\site-packages\\neurokit2\\epochs\\epochs_create.py\", line 164, in epochs_create\n",
      "    epoch_max_duration = int(max((i * sampling_rate for i in parameters[\"duration\"])))\n",
      "ValueError: cannot convert float NaN to integer\n",
      "\n"
     ]
    },
    {
     "name": "stderr",
     "output_type": "stream",
     "text": [
      "c:\\Users\\s222165064\\.conda\\envs\\split_vae\\lib\\site-packages\\neurokit2\\signal\\signal_period.py:84: NeuroKitWarning: Too few peaks detected to compute the rate. Returning empty vector.\n",
      "  warn(\n",
      "c:\\Users\\s222165064\\.conda\\envs\\split_vae\\lib\\site-packages\\neurokit2\\signal\\signal_fixpeaks.py:307: RuntimeWarning: invalid value encountered in divide\n",
      "  mrrs /= th2\n",
      "c:\\Users\\s222165064\\.conda\\envs\\split_vae\\lib\\site-packages\\neurokit2\\signal\\signal_period.py:84: NeuroKitWarning: Too few peaks detected to compute the rate. Returning empty vector.\n",
      "  warn(\n"
     ]
    },
    {
     "name": "stdout",
     "output_type": "stream",
     "text": [
      "Traceback (most recent call last):\n",
      "  File \"h:\\Projects\\split_vae\\datasource.py\", line 428, in _initialise\n",
      "    seg = self.process_validate_segment(seg, f)\n",
      "  File \"h:\\Projects\\split_vae\\datasource.py\", line 485, in process_validate_segment\n",
      "    'beats': get_beats(ecg_cleaned, self.hz, self.rr_seg_dim, n_beat=2) if self.is_ecg_beats else [],\n",
      "  File \"h:\\Projects\\split_vae\\datasource.py\", line 82, in get_beats\n",
      "    beats = nk.ecg_segment(y, rpeaks=None, sampling_rate=hz, show=False)\n",
      "  File \"c:\\Users\\s222165064\\.conda\\envs\\split_vae\\lib\\site-packages\\neurokit2\\ecg\\ecg_segment.py\", line 64, in ecg_segment\n",
      "    heartbeats = epochs_create(\n",
      "  File \"c:\\Users\\s222165064\\.conda\\envs\\split_vae\\lib\\site-packages\\neurokit2\\epochs\\epochs_create.py\", line 164, in epochs_create\n",
      "    epoch_max_duration = int(max((i * sampling_rate for i in parameters[\"duration\"])))\n",
      "ValueError: cannot convert float NaN to integer\n",
      "\n",
      "Traceback (most recent call last):\n",
      "  File \"h:\\Projects\\split_vae\\datasource.py\", line 428, in _initialise\n",
      "    seg = self.process_validate_segment(seg, f)\n",
      "  File \"h:\\Projects\\split_vae\\datasource.py\", line 485, in process_validate_segment\n",
      "    'beats': get_beats(ecg_cleaned, self.hz, self.rr_seg_dim, n_beat=2) if self.is_ecg_beats else [],\n",
      "  File \"h:\\Projects\\split_vae\\datasource.py\", line 82, in get_beats\n",
      "    beats = nk.ecg_segment(y, rpeaks=None, sampling_rate=hz, show=False)\n",
      "  File \"c:\\Users\\s222165064\\.conda\\envs\\split_vae\\lib\\site-packages\\neurokit2\\ecg\\ecg_segment.py\", line 64, in ecg_segment\n",
      "    heartbeats = epochs_create(\n",
      "  File \"c:\\Users\\s222165064\\.conda\\envs\\split_vae\\lib\\site-packages\\neurokit2\\epochs\\epochs_create.py\", line 164, in epochs_create\n",
      "    epoch_max_duration = int(max((i * sampling_rate for i in parameters[\"duration\"])))\n",
      "ValueError: cannot convert float NaN to integer\n",
      "\n"
     ]
    },
    {
     "name": "stderr",
     "output_type": "stream",
     "text": [
      "c:\\Users\\s222165064\\.conda\\envs\\split_vae\\lib\\site-packages\\numpy\\core\\fromnumeric.py:3504: RuntimeWarning: Mean of empty slice.\n",
      "  return _methods._mean(a, axis=axis, dtype=dtype,\n",
      "c:\\Users\\s222165064\\.conda\\envs\\split_vae\\lib\\site-packages\\numpy\\core\\_methods.py:129: RuntimeWarning: invalid value encountered in scalar divide\n",
      "  ret = ret.dtype.type(ret / rcount)\n",
      "c:\\Users\\s222165064\\.conda\\envs\\split_vae\\lib\\site-packages\\neurokit2\\signal\\signal_period.py:84: NeuroKitWarning: Too few peaks detected to compute the rate. Returning empty vector.\n",
      "  warn(\n",
      "c:\\Users\\s222165064\\.conda\\envs\\split_vae\\lib\\site-packages\\numpy\\core\\fromnumeric.py:3504: RuntimeWarning: Mean of empty slice.\n",
      "  return _methods._mean(a, axis=axis, dtype=dtype,\n",
      "c:\\Users\\s222165064\\.conda\\envs\\split_vae\\lib\\site-packages\\numpy\\core\\_methods.py:129: RuntimeWarning: invalid value encountered in scalar divide\n",
      "  ret = ret.dtype.type(ret / rcount)\n",
      "c:\\Users\\s222165064\\.conda\\envs\\split_vae\\lib\\site-packages\\neurokit2\\signal\\signal_period.py:84: NeuroKitWarning: Too few peaks detected to compute the rate. Returning empty vector.\n",
      "  warn(\n",
      "c:\\Users\\s222165064\\.conda\\envs\\split_vae\\lib\\site-packages\\neurokit2\\signal\\signal_period.py:84: NeuroKitWarning: Too few peaks detected to compute the rate. Returning empty vector.\n",
      "  warn(\n"
     ]
    },
    {
     "name": "stdout",
     "output_type": "stream",
     "text": [
      "Traceback (most recent call last):\n",
      "  File \"h:\\Projects\\split_vae\\datasource.py\", line 428, in _initialise\n",
      "    seg = self.process_validate_segment(seg, f)\n",
      "  File \"h:\\Projects\\split_vae\\datasource.py\", line 485, in process_validate_segment\n",
      "    'beats': get_beats(ecg_cleaned, self.hz, self.rr_seg_dim, n_beat=2) if self.is_ecg_beats else [],\n",
      "  File \"h:\\Projects\\split_vae\\datasource.py\", line 82, in get_beats\n",
      "    beats = nk.ecg_segment(y, rpeaks=None, sampling_rate=hz, show=False)\n",
      "  File \"c:\\Users\\s222165064\\.conda\\envs\\split_vae\\lib\\site-packages\\neurokit2\\ecg\\ecg_segment.py\", line 64, in ecg_segment\n",
      "    heartbeats = epochs_create(\n",
      "  File \"c:\\Users\\s222165064\\.conda\\envs\\split_vae\\lib\\site-packages\\neurokit2\\epochs\\epochs_create.py\", line 164, in epochs_create\n",
      "    epoch_max_duration = int(max((i * sampling_rate for i in parameters[\"duration\"])))\n",
      "ValueError: cannot convert float NaN to integer\n",
      "\n",
      "Traceback (most recent call last):\n",
      "  File \"h:\\Projects\\split_vae\\datasource.py\", line 428, in _initialise\n",
      "    seg = self.process_validate_segment(seg, f)\n",
      "  File \"h:\\Projects\\split_vae\\datasource.py\", line 485, in process_validate_segment\n",
      "    'beats': get_beats(ecg_cleaned, self.hz, self.rr_seg_dim, n_beat=2) if self.is_ecg_beats else [],\n",
      "  File \"h:\\Projects\\split_vae\\datasource.py\", line 82, in get_beats\n",
      "    beats = nk.ecg_segment(y, rpeaks=None, sampling_rate=hz, show=False)\n",
      "  File \"c:\\Users\\s222165064\\.conda\\envs\\split_vae\\lib\\site-packages\\neurokit2\\ecg\\ecg_segment.py\", line 64, in ecg_segment\n",
      "    heartbeats = epochs_create(\n",
      "  File \"c:\\Users\\s222165064\\.conda\\envs\\split_vae\\lib\\site-packages\\neurokit2\\epochs\\epochs_create.py\", line 154, in epochs_create\n",
      "    parameters = listify(\n",
      "  File \"c:\\Users\\s222165064\\.conda\\envs\\split_vae\\lib\\site-packages\\neurokit2\\misc\\listify.py\", line 31, in listify\n",
      "    args[key] = _multiply_list(value, maxi)\n",
      "  File \"c:\\Users\\s222165064\\.conda\\envs\\split_vae\\lib\\site-packages\\neurokit2\\misc\\listify.py\", line 39, in _multiply_list\n",
      "    q, r = divmod(length, len(lst))\n",
      "ZeroDivisionError: integer division or modulo by zero\n",
      "\n",
      "Traceback (most recent call last):\n",
      "  File \"h:\\Projects\\split_vae\\datasource.py\", line 428, in _initialise\n",
      "    seg = self.process_validate_segment(seg, f)\n",
      "  File \"h:\\Projects\\split_vae\\datasource.py\", line 485, in process_validate_segment\n",
      "    'beats': get_beats(ecg_cleaned, self.hz, self.rr_seg_dim, n_beat=2) if self.is_ecg_beats else [],\n",
      "  File \"h:\\Projects\\split_vae\\datasource.py\", line 82, in get_beats\n",
      "    beats = nk.ecg_segment(y, rpeaks=None, sampling_rate=hz, show=False)\n",
      "  File \"c:\\Users\\s222165064\\.conda\\envs\\split_vae\\lib\\site-packages\\neurokit2\\ecg\\ecg_segment.py\", line 64, in ecg_segment\n",
      "    heartbeats = epochs_create(\n",
      "  File \"c:\\Users\\s222165064\\.conda\\envs\\split_vae\\lib\\site-packages\\neurokit2\\epochs\\epochs_create.py\", line 164, in epochs_create\n",
      "    epoch_max_duration = int(max((i * sampling_rate for i in parameters[\"duration\"])))\n",
      "ValueError: cannot convert float NaN to integer\n",
      "\n"
     ]
    },
    {
     "name": "stderr",
     "output_type": "stream",
     "text": [
      "c:\\Users\\s222165064\\.conda\\envs\\split_vae\\lib\\site-packages\\neurokit2\\signal\\signal_period.py:84: NeuroKitWarning: Too few peaks detected to compute the rate. Returning empty vector.\n",
      "  warn(\n"
     ]
    },
    {
     "name": "stdout",
     "output_type": "stream",
     "text": [
      "Traceback (most recent call last):\n",
      "  File \"h:\\Projects\\split_vae\\datasource.py\", line 428, in _initialise\n",
      "    seg = self.process_validate_segment(seg, f)\n",
      "  File \"h:\\Projects\\split_vae\\datasource.py\", line 485, in process_validate_segment\n",
      "    'beats': get_beats(ecg_cleaned, self.hz, self.rr_seg_dim, n_beat=2) if self.is_ecg_beats else [],\n",
      "  File \"h:\\Projects\\split_vae\\datasource.py\", line 82, in get_beats\n",
      "    beats = nk.ecg_segment(y, rpeaks=None, sampling_rate=hz, show=False)\n",
      "  File \"c:\\Users\\s222165064\\.conda\\envs\\split_vae\\lib\\site-packages\\neurokit2\\ecg\\ecg_segment.py\", line 64, in ecg_segment\n",
      "    heartbeats = epochs_create(\n",
      "  File \"c:\\Users\\s222165064\\.conda\\envs\\split_vae\\lib\\site-packages\\neurokit2\\epochs\\epochs_create.py\", line 164, in epochs_create\n",
      "    epoch_max_duration = int(max((i * sampling_rate for i in parameters[\"duration\"])))\n",
      "ValueError: cannot convert float NaN to integer\n",
      "\n"
     ]
    },
    {
     "name": "stderr",
     "output_type": "stream",
     "text": [
      "c:\\Users\\s222165064\\.conda\\envs\\split_vae\\lib\\site-packages\\neurokit2\\signal\\signal_period.py:84: NeuroKitWarning: Too few peaks detected to compute the rate. Returning empty vector.\n",
      "  warn(\n"
     ]
    },
    {
     "name": "stdout",
     "output_type": "stream",
     "text": [
      "Traceback (most recent call last):\n",
      "  File \"h:\\Projects\\split_vae\\datasource.py\", line 428, in _initialise\n",
      "    seg = self.process_validate_segment(seg, f)\n",
      "  File \"h:\\Projects\\split_vae\\datasource.py\", line 485, in process_validate_segment\n",
      "    'beats': get_beats(ecg_cleaned, self.hz, self.rr_seg_dim, n_beat=2) if self.is_ecg_beats else [],\n",
      "  File \"h:\\Projects\\split_vae\\datasource.py\", line 82, in get_beats\n",
      "    beats = nk.ecg_segment(y, rpeaks=None, sampling_rate=hz, show=False)\n",
      "  File \"c:\\Users\\s222165064\\.conda\\envs\\split_vae\\lib\\site-packages\\neurokit2\\ecg\\ecg_segment.py\", line 64, in ecg_segment\n",
      "    heartbeats = epochs_create(\n",
      "  File \"c:\\Users\\s222165064\\.conda\\envs\\split_vae\\lib\\site-packages\\neurokit2\\epochs\\epochs_create.py\", line 164, in epochs_create\n",
      "    epoch_max_duration = int(max((i * sampling_rate for i in parameters[\"duration\"])))\n",
      "ValueError: cannot convert float NaN to integer\n",
      "\n"
     ]
    },
    {
     "name": "stderr",
     "output_type": "stream",
     "text": [
      "c:\\Users\\s222165064\\.conda\\envs\\split_vae\\lib\\site-packages\\neurokit2\\signal\\signal_period.py:84: NeuroKitWarning: Too few peaks detected to compute the rate. Returning empty vector.\n",
      "  warn(\n"
     ]
    },
    {
     "name": "stdout",
     "output_type": "stream",
     "text": [
      "Traceback (most recent call last):\n",
      "  File \"h:\\Projects\\split_vae\\datasource.py\", line 428, in _initialise\n",
      "    seg = self.process_validate_segment(seg, f)\n",
      "  File \"h:\\Projects\\split_vae\\datasource.py\", line 485, in process_validate_segment\n",
      "    'beats': get_beats(ecg_cleaned, self.hz, self.rr_seg_dim, n_beat=2) if self.is_ecg_beats else [],\n",
      "  File \"h:\\Projects\\split_vae\\datasource.py\", line 82, in get_beats\n",
      "    beats = nk.ecg_segment(y, rpeaks=None, sampling_rate=hz, show=False)\n",
      "  File \"c:\\Users\\s222165064\\.conda\\envs\\split_vae\\lib\\site-packages\\neurokit2\\ecg\\ecg_segment.py\", line 64, in ecg_segment\n",
      "    heartbeats = epochs_create(\n",
      "  File \"c:\\Users\\s222165064\\.conda\\envs\\split_vae\\lib\\site-packages\\neurokit2\\epochs\\epochs_create.py\", line 164, in epochs_create\n",
      "    epoch_max_duration = int(max((i * sampling_rate for i in parameters[\"duration\"])))\n",
      "ValueError: cannot convert float NaN to integer\n",
      "\n"
     ]
    },
    {
     "name": "stderr",
     "output_type": "stream",
     "text": [
      "2024-09-26 11:32:43,694 - __main__ - DEBUG - \tn_seg:1120, n_evt:208, annot_dist:{0: 426, 1: 109, 2: 330, 3: 214, 5: 120}, clz_lbl_dist:{0: 347, 1: 653, 2: 120}, remain:2900\n",
      "2024-09-26 11:32:43,698 - __main__ - DEBUG - Loading mesa-sleep-0155...\n"
     ]
    },
    {
     "name": "stdout",
     "output_type": "stream",
     "text": [
      "Extracting EDF parameters from E:\\s222165064\\data\\mesa\\polysomnography\\set1x20\\mesa-sleep-0155.edf...\n",
      "EDF file detected\n",
      "Setting channel info structure...\n",
      "Creating raw.info structure...\n"
     ]
    },
    {
     "name": "stderr",
     "output_type": "stream",
     "text": [
      "2024-09-26 11:32:43,789 - __main__ - DEBUG - channels: ['EKG', 'EOG-L', 'EOG-R', 'EMG', 'EEG1', 'EEG2', 'EEG3', 'Pres', 'Flow', 'Snore', 'Thor', 'Abdo', 'Leg', 'Therm', 'Pos', 'EKG_Off', 'EOG-L_Off', 'EOG-R_Off', 'EMG_Off', 'EEG1_Off', 'EEG2_Off', 'EEG3_Off', 'Pleth', 'OxStatus', 'SpO2', 'HR', 'DHR']\n"
     ]
    },
    {
     "name": "stdout",
     "output_type": "stream",
     "text": [
      "NOTE: pick_channels() is a legacy function. New code should use inst.pick(...).\n"
     ]
    },
    {
     "name": "stderr",
     "output_type": "stream",
     "text": [
      "2024-09-26 11:32:44,854 - __main__ - DEBUG - channels: ['EKG'], search:ekg, src_hz:256\n",
      "2024-09-26 11:32:46,106 - __main__ - DEBUG - [mesa-sleep-0155] 206 events, age:1\n",
      "c:\\Users\\s222165064\\.conda\\envs\\split_vae\\lib\\site-packages\\neurokit2\\signal\\signal_fixpeaks.py:307: RuntimeWarning: divide by zero encountered in divide\n",
      "  mrrs /= th2\n",
      "c:\\Users\\s222165064\\.conda\\envs\\split_vae\\lib\\site-packages\\neurokit2\\signal\\signal_fixpeaks.py:307: RuntimeWarning: invalid value encountered in divide\n",
      "  mrrs /= th2\n",
      "2024-09-26 11:35:28,381 - __main__ - DEBUG - \tn_seg:1080, n_evt:206, annot_dist:{0: 271, 1: 101, 2: 531, 3: 11, 5: 166}, clz_lbl_dist:{0: 271, 1: 643, 2: 166}, remain:0\n",
      "2024-09-26 11:35:28,385 - __main__ - DEBUG - Loading mesa-sleep-0236...\n"
     ]
    },
    {
     "name": "stdout",
     "output_type": "stream",
     "text": [
      "Extracting EDF parameters from E:\\s222165064\\data\\mesa\\polysomnography\\set1x20\\mesa-sleep-0236.edf...\n",
      "EDF file detected\n",
      "Setting channel info structure...\n",
      "Creating raw.info structure...\n"
     ]
    },
    {
     "name": "stderr",
     "output_type": "stream",
     "text": [
      "2024-09-26 11:35:28,477 - __main__ - DEBUG - channels: ['EKG', 'EOG-L', 'EOG-R', 'EMG', 'EEG1', 'EEG2', 'EEG3', 'Pres', 'Flow', 'Snore', 'Thor', 'Abdo', 'Leg', 'Therm', 'Pos', 'EKG_Off', 'EOG-L_Off', 'EOG-R_Off', 'EMG_Off', 'EEG1_Off', 'EEG2_Off', 'EEG3_Off', 'Pleth', 'OxStatus', 'SpO2', 'HR', 'DHR']\n"
     ]
    },
    {
     "name": "stdout",
     "output_type": "stream",
     "text": [
      "NOTE: pick_channels() is a legacy function. New code should use inst.pick(...).\n"
     ]
    },
    {
     "name": "stderr",
     "output_type": "stream",
     "text": [
      "2024-09-26 11:35:29,449 - __main__ - DEBUG - channels: ['EKG'], search:ekg, src_hz:256\n",
      "2024-09-26 11:35:35,867 - __main__ - DEBUG - [mesa-sleep-0236] 158 events, age:1\n",
      "c:\\Users\\s222165064\\.conda\\envs\\split_vae\\lib\\site-packages\\neurokit2\\signal\\signal_fixpeaks.py:307: RuntimeWarning: invalid value encountered in divide\n",
      "  mrrs /= th2\n",
      "c:\\Users\\s222165064\\.conda\\envs\\split_vae\\lib\\site-packages\\neurokit2\\signal\\signal_period.py:84: NeuroKitWarning: Too few peaks detected to compute the rate. Returning empty vector.\n",
      "  warn(\n"
     ]
    },
    {
     "name": "stdout",
     "output_type": "stream",
     "text": [
      "Traceback (most recent call last):\n",
      "  File \"h:\\Projects\\split_vae\\datasource.py\", line 428, in _initialise\n",
      "    seg = self.process_validate_segment(seg, f)\n",
      "  File \"h:\\Projects\\split_vae\\datasource.py\", line 485, in process_validate_segment\n",
      "    'beats': get_beats(ecg_cleaned, self.hz, self.rr_seg_dim, n_beat=2) if self.is_ecg_beats else [],\n",
      "  File \"h:\\Projects\\split_vae\\datasource.py\", line 82, in get_beats\n",
      "    beats = nk.ecg_segment(y, rpeaks=None, sampling_rate=hz, show=False)\n",
      "  File \"c:\\Users\\s222165064\\.conda\\envs\\split_vae\\lib\\site-packages\\neurokit2\\ecg\\ecg_segment.py\", line 64, in ecg_segment\n",
      "    heartbeats = epochs_create(\n",
      "  File \"c:\\Users\\s222165064\\.conda\\envs\\split_vae\\lib\\site-packages\\neurokit2\\epochs\\epochs_create.py\", line 164, in epochs_create\n",
      "    epoch_max_duration = int(max((i * sampling_rate for i in parameters[\"duration\"])))\n",
      "ValueError: cannot convert float NaN to integer\n",
      "\n"
     ]
    },
    {
     "name": "stderr",
     "output_type": "stream",
     "text": [
      "c:\\Users\\s222165064\\.conda\\envs\\split_vae\\lib\\site-packages\\numpy\\core\\fromnumeric.py:3504: RuntimeWarning: Mean of empty slice.\n",
      "  return _methods._mean(a, axis=axis, dtype=dtype,\n",
      "c:\\Users\\s222165064\\.conda\\envs\\split_vae\\lib\\site-packages\\numpy\\core\\_methods.py:129: RuntimeWarning: invalid value encountered in scalar divide\n",
      "  ret = ret.dtype.type(ret / rcount)\n",
      "c:\\Users\\s222165064\\.conda\\envs\\split_vae\\lib\\site-packages\\neurokit2\\signal\\signal_period.py:84: NeuroKitWarning: Too few peaks detected to compute the rate. Returning empty vector.\n",
      "  warn(\n",
      "c:\\Users\\s222165064\\.conda\\envs\\split_vae\\lib\\site-packages\\numpy\\core\\fromnumeric.py:3504: RuntimeWarning: Mean of empty slice.\n",
      "  return _methods._mean(a, axis=axis, dtype=dtype,\n",
      "c:\\Users\\s222165064\\.conda\\envs\\split_vae\\lib\\site-packages\\numpy\\core\\_methods.py:129: RuntimeWarning: invalid value encountered in scalar divide\n",
      "  ret = ret.dtype.type(ret / rcount)\n",
      "c:\\Users\\s222165064\\.conda\\envs\\split_vae\\lib\\site-packages\\neurokit2\\signal\\signal_period.py:84: NeuroKitWarning: Too few peaks detected to compute the rate. Returning empty vector.\n",
      "  warn(\n",
      "c:\\Users\\s222165064\\.conda\\envs\\split_vae\\lib\\site-packages\\numpy\\core\\fromnumeric.py:3504: RuntimeWarning: Mean of empty slice.\n",
      "  return _methods._mean(a, axis=axis, dtype=dtype,\n",
      "c:\\Users\\s222165064\\.conda\\envs\\split_vae\\lib\\site-packages\\numpy\\core\\_methods.py:129: RuntimeWarning: invalid value encountered in scalar divide\n",
      "  ret = ret.dtype.type(ret / rcount)\n",
      "c:\\Users\\s222165064\\.conda\\envs\\split_vae\\lib\\site-packages\\numpy\\core\\fromnumeric.py:3504: RuntimeWarning: Mean of empty slice.\n",
      "  return _methods._mean(a, axis=axis, dtype=dtype,\n",
      "c:\\Users\\s222165064\\.conda\\envs\\split_vae\\lib\\site-packages\\numpy\\core\\_methods.py:129: RuntimeWarning: invalid value encountered in scalar divide\n",
      "  ret = ret.dtype.type(ret / rcount)\n"
     ]
    },
    {
     "name": "stdout",
     "output_type": "stream",
     "text": [
      "Traceback (most recent call last):\n",
      "  File \"h:\\Projects\\split_vae\\datasource.py\", line 428, in _initialise\n",
      "    seg = self.process_validate_segment(seg, f)\n",
      "  File \"h:\\Projects\\split_vae\\datasource.py\", line 485, in process_validate_segment\n",
      "    'beats': get_beats(ecg_cleaned, self.hz, self.rr_seg_dim, n_beat=2) if self.is_ecg_beats else [],\n",
      "  File \"h:\\Projects\\split_vae\\datasource.py\", line 82, in get_beats\n",
      "    beats = nk.ecg_segment(y, rpeaks=None, sampling_rate=hz, show=False)\n",
      "  File \"c:\\Users\\s222165064\\.conda\\envs\\split_vae\\lib\\site-packages\\neurokit2\\ecg\\ecg_segment.py\", line 64, in ecg_segment\n",
      "    heartbeats = epochs_create(\n",
      "  File \"c:\\Users\\s222165064\\.conda\\envs\\split_vae\\lib\\site-packages\\neurokit2\\epochs\\epochs_create.py\", line 154, in epochs_create\n",
      "    parameters = listify(\n",
      "  File \"c:\\Users\\s222165064\\.conda\\envs\\split_vae\\lib\\site-packages\\neurokit2\\misc\\listify.py\", line 31, in listify\n",
      "    args[key] = _multiply_list(value, maxi)\n",
      "  File \"c:\\Users\\s222165064\\.conda\\envs\\split_vae\\lib\\site-packages\\neurokit2\\misc\\listify.py\", line 39, in _multiply_list\n",
      "    q, r = divmod(length, len(lst))\n",
      "ZeroDivisionError: integer division or modulo by zero\n",
      "\n",
      "Traceback (most recent call last):\n",
      "  File \"h:\\Projects\\split_vae\\datasource.py\", line 428, in _initialise\n",
      "    seg = self.process_validate_segment(seg, f)\n",
      "  File \"h:\\Projects\\split_vae\\datasource.py\", line 485, in process_validate_segment\n",
      "    'beats': get_beats(ecg_cleaned, self.hz, self.rr_seg_dim, n_beat=2) if self.is_ecg_beats else [],\n",
      "  File \"h:\\Projects\\split_vae\\datasource.py\", line 82, in get_beats\n",
      "    beats = nk.ecg_segment(y, rpeaks=None, sampling_rate=hz, show=False)\n",
      "  File \"c:\\Users\\s222165064\\.conda\\envs\\split_vae\\lib\\site-packages\\neurokit2\\ecg\\ecg_segment.py\", line 64, in ecg_segment\n",
      "    heartbeats = epochs_create(\n",
      "  File \"c:\\Users\\s222165064\\.conda\\envs\\split_vae\\lib\\site-packages\\neurokit2\\epochs\\epochs_create.py\", line 154, in epochs_create\n",
      "    parameters = listify(\n",
      "  File \"c:\\Users\\s222165064\\.conda\\envs\\split_vae\\lib\\site-packages\\neurokit2\\misc\\listify.py\", line 31, in listify\n",
      "    args[key] = _multiply_list(value, maxi)\n",
      "  File \"c:\\Users\\s222165064\\.conda\\envs\\split_vae\\lib\\site-packages\\neurokit2\\misc\\listify.py\", line 39, in _multiply_list\n",
      "    q, r = divmod(length, len(lst))\n",
      "ZeroDivisionError: integer division or modulo by zero\n",
      "\n"
     ]
    },
    {
     "name": "stderr",
     "output_type": "stream",
     "text": [
      "c:\\Users\\s222165064\\.conda\\envs\\split_vae\\lib\\site-packages\\numpy\\core\\fromnumeric.py:3504: RuntimeWarning: Mean of empty slice.\n",
      "  return _methods._mean(a, axis=axis, dtype=dtype,\n",
      "c:\\Users\\s222165064\\.conda\\envs\\split_vae\\lib\\site-packages\\numpy\\core\\_methods.py:129: RuntimeWarning: invalid value encountered in scalar divide\n",
      "  ret = ret.dtype.type(ret / rcount)\n",
      "c:\\Users\\s222165064\\.conda\\envs\\split_vae\\lib\\site-packages\\numpy\\core\\fromnumeric.py:3504: RuntimeWarning: Mean of empty slice.\n",
      "  return _methods._mean(a, axis=axis, dtype=dtype,\n",
      "c:\\Users\\s222165064\\.conda\\envs\\split_vae\\lib\\site-packages\\numpy\\core\\_methods.py:129: RuntimeWarning: invalid value encountered in scalar divide\n",
      "  ret = ret.dtype.type(ret / rcount)\n",
      "c:\\Users\\s222165064\\.conda\\envs\\split_vae\\lib\\site-packages\\neurokit2\\signal\\signal_period.py:84: NeuroKitWarning: Too few peaks detected to compute the rate. Returning empty vector.\n",
      "  warn(\n"
     ]
    },
    {
     "name": "stdout",
     "output_type": "stream",
     "text": [
      "Traceback (most recent call last):\n",
      "  File \"h:\\Projects\\split_vae\\datasource.py\", line 428, in _initialise\n",
      "    seg = self.process_validate_segment(seg, f)\n",
      "  File \"h:\\Projects\\split_vae\\datasource.py\", line 485, in process_validate_segment\n",
      "    'beats': get_beats(ecg_cleaned, self.hz, self.rr_seg_dim, n_beat=2) if self.is_ecg_beats else [],\n",
      "  File \"h:\\Projects\\split_vae\\datasource.py\", line 82, in get_beats\n",
      "    beats = nk.ecg_segment(y, rpeaks=None, sampling_rate=hz, show=False)\n",
      "  File \"c:\\Users\\s222165064\\.conda\\envs\\split_vae\\lib\\site-packages\\neurokit2\\ecg\\ecg_segment.py\", line 64, in ecg_segment\n",
      "    heartbeats = epochs_create(\n",
      "  File \"c:\\Users\\s222165064\\.conda\\envs\\split_vae\\lib\\site-packages\\neurokit2\\epochs\\epochs_create.py\", line 154, in epochs_create\n",
      "    parameters = listify(\n",
      "  File \"c:\\Users\\s222165064\\.conda\\envs\\split_vae\\lib\\site-packages\\neurokit2\\misc\\listify.py\", line 31, in listify\n",
      "    args[key] = _multiply_list(value, maxi)\n",
      "  File \"c:\\Users\\s222165064\\.conda\\envs\\split_vae\\lib\\site-packages\\neurokit2\\misc\\listify.py\", line 39, in _multiply_list\n",
      "    q, r = divmod(length, len(lst))\n",
      "ZeroDivisionError: integer division or modulo by zero\n",
      "\n"
     ]
    },
    {
     "name": "stderr",
     "output_type": "stream",
     "text": [
      "c:\\Users\\s222165064\\.conda\\envs\\split_vae\\lib\\site-packages\\numpy\\core\\fromnumeric.py:3504: RuntimeWarning: Mean of empty slice.\n",
      "  return _methods._mean(a, axis=axis, dtype=dtype,\n",
      "c:\\Users\\s222165064\\.conda\\envs\\split_vae\\lib\\site-packages\\numpy\\core\\_methods.py:129: RuntimeWarning: invalid value encountered in scalar divide\n",
      "  ret = ret.dtype.type(ret / rcount)\n",
      "c:\\Users\\s222165064\\.conda\\envs\\split_vae\\lib\\site-packages\\numpy\\core\\fromnumeric.py:3504: RuntimeWarning: Mean of empty slice.\n",
      "  return _methods._mean(a, axis=axis, dtype=dtype,\n",
      "c:\\Users\\s222165064\\.conda\\envs\\split_vae\\lib\\site-packages\\numpy\\core\\_methods.py:129: RuntimeWarning: invalid value encountered in scalar divide\n",
      "  ret = ret.dtype.type(ret / rcount)\n",
      "c:\\Users\\s222165064\\.conda\\envs\\split_vae\\lib\\site-packages\\numpy\\core\\fromnumeric.py:3504: RuntimeWarning: Mean of empty slice.\n",
      "  return _methods._mean(a, axis=axis, dtype=dtype,\n",
      "c:\\Users\\s222165064\\.conda\\envs\\split_vae\\lib\\site-packages\\numpy\\core\\_methods.py:129: RuntimeWarning: invalid value encountered in scalar divide\n",
      "  ret = ret.dtype.type(ret / rcount)\n",
      "c:\\Users\\s222165064\\.conda\\envs\\split_vae\\lib\\site-packages\\numpy\\core\\fromnumeric.py:3504: RuntimeWarning: Mean of empty slice.\n",
      "  return _methods._mean(a, axis=axis, dtype=dtype,\n",
      "c:\\Users\\s222165064\\.conda\\envs\\split_vae\\lib\\site-packages\\numpy\\core\\_methods.py:129: RuntimeWarning: invalid value encountered in scalar divide\n",
      "  ret = ret.dtype.type(ret / rcount)\n",
      "c:\\Users\\s222165064\\.conda\\envs\\split_vae\\lib\\site-packages\\numpy\\core\\fromnumeric.py:3504: RuntimeWarning: Mean of empty slice.\n",
      "  return _methods._mean(a, axis=axis, dtype=dtype,\n",
      "c:\\Users\\s222165064\\.conda\\envs\\split_vae\\lib\\site-packages\\numpy\\core\\_methods.py:129: RuntimeWarning: invalid value encountered in scalar divide\n",
      "  ret = ret.dtype.type(ret / rcount)\n",
      "c:\\Users\\s222165064\\.conda\\envs\\split_vae\\lib\\site-packages\\neurokit2\\signal\\signal_period.py:84: NeuroKitWarning: Too few peaks detected to compute the rate. Returning empty vector.\n",
      "  warn(\n",
      "c:\\Users\\s222165064\\.conda\\envs\\split_vae\\lib\\site-packages\\numpy\\core\\fromnumeric.py:3504: RuntimeWarning: Mean of empty slice.\n",
      "  return _methods._mean(a, axis=axis, dtype=dtype,\n",
      "c:\\Users\\s222165064\\.conda\\envs\\split_vae\\lib\\site-packages\\numpy\\core\\_methods.py:129: RuntimeWarning: invalid value encountered in scalar divide\n",
      "  ret = ret.dtype.type(ret / rcount)\n",
      "c:\\Users\\s222165064\\.conda\\envs\\split_vae\\lib\\site-packages\\neurokit2\\signal\\signal_period.py:84: NeuroKitWarning: Too few peaks detected to compute the rate. Returning empty vector.\n",
      "  warn(\n",
      "c:\\Users\\s222165064\\.conda\\envs\\split_vae\\lib\\site-packages\\numpy\\core\\fromnumeric.py:3504: RuntimeWarning: Mean of empty slice.\n",
      "  return _methods._mean(a, axis=axis, dtype=dtype,\n",
      "c:\\Users\\s222165064\\.conda\\envs\\split_vae\\lib\\site-packages\\numpy\\core\\_methods.py:129: RuntimeWarning: invalid value encountered in scalar divide\n",
      "  ret = ret.dtype.type(ret / rcount)\n"
     ]
    },
    {
     "name": "stdout",
     "output_type": "stream",
     "text": [
      "Traceback (most recent call last):\n",
      "  File \"h:\\Projects\\split_vae\\datasource.py\", line 428, in _initialise\n",
      "    seg = self.process_validate_segment(seg, f)\n",
      "  File \"h:\\Projects\\split_vae\\datasource.py\", line 485, in process_validate_segment\n",
      "    'beats': get_beats(ecg_cleaned, self.hz, self.rr_seg_dim, n_beat=2) if self.is_ecg_beats else [],\n",
      "  File \"h:\\Projects\\split_vae\\datasource.py\", line 82, in get_beats\n",
      "    beats = nk.ecg_segment(y, rpeaks=None, sampling_rate=hz, show=False)\n",
      "  File \"c:\\Users\\s222165064\\.conda\\envs\\split_vae\\lib\\site-packages\\neurokit2\\ecg\\ecg_segment.py\", line 64, in ecg_segment\n",
      "    heartbeats = epochs_create(\n",
      "  File \"c:\\Users\\s222165064\\.conda\\envs\\split_vae\\lib\\site-packages\\neurokit2\\epochs\\epochs_create.py\", line 154, in epochs_create\n",
      "    parameters = listify(\n",
      "  File \"c:\\Users\\s222165064\\.conda\\envs\\split_vae\\lib\\site-packages\\neurokit2\\misc\\listify.py\", line 31, in listify\n",
      "    args[key] = _multiply_list(value, maxi)\n",
      "  File \"c:\\Users\\s222165064\\.conda\\envs\\split_vae\\lib\\site-packages\\neurokit2\\misc\\listify.py\", line 39, in _multiply_list\n",
      "    q, r = divmod(length, len(lst))\n",
      "ZeroDivisionError: integer division or modulo by zero\n",
      "\n",
      "Traceback (most recent call last):\n",
      "  File \"h:\\Projects\\split_vae\\datasource.py\", line 428, in _initialise\n",
      "    seg = self.process_validate_segment(seg, f)\n",
      "  File \"h:\\Projects\\split_vae\\datasource.py\", line 485, in process_validate_segment\n",
      "    'beats': get_beats(ecg_cleaned, self.hz, self.rr_seg_dim, n_beat=2) if self.is_ecg_beats else [],\n",
      "  File \"h:\\Projects\\split_vae\\datasource.py\", line 82, in get_beats\n",
      "    beats = nk.ecg_segment(y, rpeaks=None, sampling_rate=hz, show=False)\n",
      "  File \"c:\\Users\\s222165064\\.conda\\envs\\split_vae\\lib\\site-packages\\neurokit2\\ecg\\ecg_segment.py\", line 64, in ecg_segment\n",
      "    heartbeats = epochs_create(\n",
      "  File \"c:\\Users\\s222165064\\.conda\\envs\\split_vae\\lib\\site-packages\\neurokit2\\epochs\\epochs_create.py\", line 154, in epochs_create\n",
      "    parameters = listify(\n",
      "  File \"c:\\Users\\s222165064\\.conda\\envs\\split_vae\\lib\\site-packages\\neurokit2\\misc\\listify.py\", line 31, in listify\n",
      "    args[key] = _multiply_list(value, maxi)\n",
      "  File \"c:\\Users\\s222165064\\.conda\\envs\\split_vae\\lib\\site-packages\\neurokit2\\misc\\listify.py\", line 39, in _multiply_list\n",
      "    q, r = divmod(length, len(lst))\n",
      "ZeroDivisionError: integer division or modulo by zero\n",
      "\n"
     ]
    },
    {
     "name": "stderr",
     "output_type": "stream",
     "text": [
      "c:\\Users\\s222165064\\.conda\\envs\\split_vae\\lib\\site-packages\\numpy\\core\\fromnumeric.py:3504: RuntimeWarning: Mean of empty slice.\n",
      "  return _methods._mean(a, axis=axis, dtype=dtype,\n",
      "c:\\Users\\s222165064\\.conda\\envs\\split_vae\\lib\\site-packages\\numpy\\core\\_methods.py:129: RuntimeWarning: invalid value encountered in scalar divide\n",
      "  ret = ret.dtype.type(ret / rcount)\n",
      "c:\\Users\\s222165064\\.conda\\envs\\split_vae\\lib\\site-packages\\numpy\\core\\fromnumeric.py:3504: RuntimeWarning: Mean of empty slice.\n",
      "  return _methods._mean(a, axis=axis, dtype=dtype,\n",
      "c:\\Users\\s222165064\\.conda\\envs\\split_vae\\lib\\site-packages\\numpy\\core\\_methods.py:129: RuntimeWarning: invalid value encountered in scalar divide\n",
      "  ret = ret.dtype.type(ret / rcount)\n",
      "c:\\Users\\s222165064\\.conda\\envs\\split_vae\\lib\\site-packages\\numpy\\core\\fromnumeric.py:3504: RuntimeWarning: Mean of empty slice.\n",
      "  return _methods._mean(a, axis=axis, dtype=dtype,\n",
      "c:\\Users\\s222165064\\.conda\\envs\\split_vae\\lib\\site-packages\\numpy\\core\\_methods.py:129: RuntimeWarning: invalid value encountered in scalar divide\n",
      "  ret = ret.dtype.type(ret / rcount)\n",
      "c:\\Users\\s222165064\\.conda\\envs\\split_vae\\lib\\site-packages\\numpy\\core\\fromnumeric.py:3504: RuntimeWarning: Mean of empty slice.\n",
      "  return _methods._mean(a, axis=axis, dtype=dtype,\n",
      "c:\\Users\\s222165064\\.conda\\envs\\split_vae\\lib\\site-packages\\numpy\\core\\_methods.py:129: RuntimeWarning: invalid value encountered in scalar divide\n",
      "  ret = ret.dtype.type(ret / rcount)\n",
      "c:\\Users\\s222165064\\.conda\\envs\\split_vae\\lib\\site-packages\\numpy\\core\\fromnumeric.py:3504: RuntimeWarning: Mean of empty slice.\n",
      "  return _methods._mean(a, axis=axis, dtype=dtype,\n",
      "c:\\Users\\s222165064\\.conda\\envs\\split_vae\\lib\\site-packages\\numpy\\core\\_methods.py:129: RuntimeWarning: invalid value encountered in scalar divide\n",
      "  ret = ret.dtype.type(ret / rcount)\n",
      "c:\\Users\\s222165064\\.conda\\envs\\split_vae\\lib\\site-packages\\numpy\\core\\fromnumeric.py:3504: RuntimeWarning: Mean of empty slice.\n",
      "  return _methods._mean(a, axis=axis, dtype=dtype,\n",
      "c:\\Users\\s222165064\\.conda\\envs\\split_vae\\lib\\site-packages\\numpy\\core\\_methods.py:129: RuntimeWarning: invalid value encountered in scalar divide\n",
      "  ret = ret.dtype.type(ret / rcount)\n",
      "c:\\Users\\s222165064\\.conda\\envs\\split_vae\\lib\\site-packages\\numpy\\core\\fromnumeric.py:3504: RuntimeWarning: Mean of empty slice.\n",
      "  return _methods._mean(a, axis=axis, dtype=dtype,\n",
      "c:\\Users\\s222165064\\.conda\\envs\\split_vae\\lib\\site-packages\\numpy\\core\\_methods.py:129: RuntimeWarning: invalid value encountered in scalar divide\n",
      "  ret = ret.dtype.type(ret / rcount)\n",
      "c:\\Users\\s222165064\\.conda\\envs\\split_vae\\lib\\site-packages\\numpy\\core\\fromnumeric.py:3504: RuntimeWarning: Mean of empty slice.\n",
      "  return _methods._mean(a, axis=axis, dtype=dtype,\n",
      "c:\\Users\\s222165064\\.conda\\envs\\split_vae\\lib\\site-packages\\numpy\\core\\_methods.py:129: RuntimeWarning: invalid value encountered in scalar divide\n",
      "  ret = ret.dtype.type(ret / rcount)\n",
      "c:\\Users\\s222165064\\.conda\\envs\\split_vae\\lib\\site-packages\\numpy\\core\\fromnumeric.py:3504: RuntimeWarning: Mean of empty slice.\n",
      "  return _methods._mean(a, axis=axis, dtype=dtype,\n",
      "c:\\Users\\s222165064\\.conda\\envs\\split_vae\\lib\\site-packages\\numpy\\core\\_methods.py:129: RuntimeWarning: invalid value encountered in scalar divide\n",
      "  ret = ret.dtype.type(ret / rcount)\n",
      "c:\\Users\\s222165064\\.conda\\envs\\split_vae\\lib\\site-packages\\numpy\\core\\fromnumeric.py:3504: RuntimeWarning: Mean of empty slice.\n",
      "  return _methods._mean(a, axis=axis, dtype=dtype,\n",
      "c:\\Users\\s222165064\\.conda\\envs\\split_vae\\lib\\site-packages\\numpy\\core\\_methods.py:129: RuntimeWarning: invalid value encountered in scalar divide\n",
      "  ret = ret.dtype.type(ret / rcount)\n",
      "2024-09-26 11:37:37,525 - __main__ - DEBUG - \tn_seg:871, n_evt:158, annot_dist:{0: 477, 1: 60, 2: 348, 5: 71, 3: 3}, clz_lbl_dist:{0: 389, 1: 411, 2: 71}, remain:2900\n",
      "2024-09-26 11:37:37,527 - __main__ - DEBUG - Loading mesa-sleep-0271...\n"
     ]
    },
    {
     "name": "stdout",
     "output_type": "stream",
     "text": [
      "Extracting EDF parameters from E:\\s222165064\\data\\mesa\\polysomnography\\set1x20\\mesa-sleep-0271.edf...\n",
      "EDF file detected\n",
      "Setting channel info structure...\n",
      "Creating raw.info structure...\n"
     ]
    },
    {
     "name": "stderr",
     "output_type": "stream",
     "text": [
      "2024-09-26 11:37:37,614 - __main__ - DEBUG - channels: ['EKG', 'EOG-L', 'EOG-R', 'EMG', 'EEG1', 'EEG2', 'EEG3', 'Pres', 'Flow', 'Snore', 'Thor', 'Abdo', 'Leg', 'Therm', 'Pos', 'EKG_Off', 'EOG-L_Off', 'EOG-R_Off', 'EMG_Off', 'EEG1_Off', 'EEG2_Off', 'EEG3_Off', 'Pleth', 'OxStatus', 'SpO2', 'HR', 'DHR']\n"
     ]
    },
    {
     "name": "stdout",
     "output_type": "stream",
     "text": [
      "NOTE: pick_channels() is a legacy function. New code should use inst.pick(...).\n"
     ]
    },
    {
     "name": "stderr",
     "output_type": "stream",
     "text": [
      "2024-09-26 11:37:38,772 - __main__ - DEBUG - channels: ['EKG'], search:ekg, src_hz:256\n",
      "2024-09-26 11:37:48,276 - __main__ - DEBUG - [mesa-sleep-0271] 168 events, age:0\n",
      "c:\\Users\\s222165064\\.conda\\envs\\split_vae\\lib\\site-packages\\neurokit2\\signal\\signal_fixpeaks.py:307: RuntimeWarning: divide by zero encountered in divide\n",
      "  mrrs /= th2\n",
      "c:\\Users\\s222165064\\.conda\\envs\\split_vae\\lib\\site-packages\\neurokit2\\signal\\signal_fixpeaks.py:307: RuntimeWarning: invalid value encountered in divide\n",
      "  mrrs /= th2\n",
      "2024-09-26 11:40:37,518 - __main__ - DEBUG - \tn_seg:1074, n_evt:168, annot_dist:{0: 348, 1: 51, 2: 622, 3: 49, 5: 129}, clz_lbl_dist:{0: 223, 1: 722, 2: 129}, remain:2900\n",
      "2024-09-26 11:40:37,521 - __main__ - DEBUG - Loading mesa-sleep-0312...\n"
     ]
    },
    {
     "name": "stdout",
     "output_type": "stream",
     "text": [
      "Extracting EDF parameters from E:\\s222165064\\data\\mesa\\polysomnography\\set1x20\\mesa-sleep-0312.edf...\n",
      "EDF file detected\n",
      "Setting channel info structure...\n",
      "Creating raw.info structure...\n"
     ]
    },
    {
     "name": "stderr",
     "output_type": "stream",
     "text": [
      "2024-09-26 11:40:37,619 - __main__ - DEBUG - channels: ['EKG', 'EOG-L', 'EOG-R', 'EMG', 'EEG1', 'EEG2', 'EEG3', 'Pres', 'Flow', 'Snore', 'Thor', 'Abdo', 'Leg', 'Therm', 'Pos', 'EKG_Off', 'EOG-L_Off', 'EOG-R_Off', 'EMG_Off', 'EEG1_Off', 'EEG2_Off', 'EEG3_Off', 'Pleth', 'OxStatus', 'SpO2', 'HR', 'DHR']\n"
     ]
    },
    {
     "name": "stdout",
     "output_type": "stream",
     "text": [
      "NOTE: pick_channels() is a legacy function. New code should use inst.pick(...).\n"
     ]
    },
    {
     "name": "stderr",
     "output_type": "stream",
     "text": [
      "2024-09-26 11:40:38,816 - __main__ - DEBUG - channels: ['EKG'], search:ekg, src_hz:256\n",
      "2024-09-26 11:40:40,112 - __main__ - DEBUG - [mesa-sleep-0312] 189 events, age:1\n",
      "2024-09-26 11:43:45,725 - __main__ - DEBUG - \tn_seg:1197, n_evt:189, annot_dist:{0: 712, 2: 315, 1: 124, 3: 2, 5: 47}, clz_lbl_dist:{0: 709, 1: 441, 2: 47}, remain:0\n",
      "2024-09-26 11:43:45,729 - __main__ - DEBUG - Loading mesa-sleep-0332...\n"
     ]
    },
    {
     "name": "stdout",
     "output_type": "stream",
     "text": [
      "Extracting EDF parameters from E:\\s222165064\\data\\mesa\\polysomnography\\set1x20\\mesa-sleep-0332.edf...\n",
      "EDF file detected\n",
      "Setting channel info structure...\n",
      "Creating raw.info structure...\n"
     ]
    },
    {
     "name": "stderr",
     "output_type": "stream",
     "text": [
      "2024-09-26 11:43:45,873 - __main__ - DEBUG - channels: ['EKG', 'EOG-L', 'EOG-R', 'EMG', 'EEG1', 'EEG2', 'EEG3', 'Pres', 'Flow', 'Snore', 'Thor', 'Abdo', 'Leg', 'Therm', 'Pos', 'EKG_Off', 'EOG-L_Off', 'EOG-R_Off', 'EMG_Off', 'EEG1_Off', 'EEG2_Off', 'EEG3_Off', 'Pleth', 'OxStatus', 'SpO2', 'HR', 'DHR']\n"
     ]
    },
    {
     "name": "stdout",
     "output_type": "stream",
     "text": [
      "NOTE: pick_channels() is a legacy function. New code should use inst.pick(...).\n"
     ]
    },
    {
     "name": "stderr",
     "output_type": "stream",
     "text": [
      "2024-09-26 11:43:47,627 - __main__ - DEBUG - channels: ['EKG'], search:ekg, src_hz:256\n",
      "2024-09-26 11:43:55,276 - __main__ - DEBUG - [mesa-sleep-0332] 562 events, age:1\n",
      "2024-09-26 11:49:30,313 - __main__ - DEBUG - \tn_seg:1281, n_evt:562, annot_dist:{0: 748, 2: 406, 1: 398, 5: 127}, clz_lbl_dist:{0: 540, 1: 657, 2: 84}, remain:2900\n",
      "2024-09-26 11:49:30,317 - __main__ - DEBUG - Loading mesa-sleep-0419...\n"
     ]
    },
    {
     "name": "stdout",
     "output_type": "stream",
     "text": [
      "Extracting EDF parameters from E:\\s222165064\\data\\mesa\\polysomnography\\set1x20\\mesa-sleep-0419.edf...\n",
      "EDF file detected\n",
      "Setting channel info structure...\n",
      "Creating raw.info structure...\n"
     ]
    },
    {
     "name": "stderr",
     "output_type": "stream",
     "text": [
      "2024-09-26 11:49:30,407 - __main__ - DEBUG - channels: ['EKG', 'EOG-L', 'EOG-R', 'EMG', 'EEG1', 'EEG2', 'EEG3', 'Pres', 'Flow', 'Snore', 'Thor', 'Abdo', 'Leg', 'Therm', 'Pos', 'EKG_Off', 'EOG-L_Off', 'EOG-R_Off', 'EMG_Off', 'EEG1_Off', 'EEG2_Off', 'EEG3_Off', 'Pleth', 'OxStatus', 'SpO2', 'HR', 'DHR']\n"
     ]
    },
    {
     "name": "stdout",
     "output_type": "stream",
     "text": [
      "NOTE: pick_channels() is a legacy function. New code should use inst.pick(...).\n"
     ]
    },
    {
     "name": "stderr",
     "output_type": "stream",
     "text": [
      "2024-09-26 11:49:31,922 - __main__ - DEBUG - channels: ['EKG'], search:ekg, src_hz:256\n",
      "2024-09-26 11:49:58,073 - __main__ - DEBUG - [mesa-sleep-0419] 158 events, age:0\n",
      "c:\\Users\\s222165064\\.conda\\envs\\split_vae\\lib\\site-packages\\neurokit2\\signal\\signal_fixpeaks.py:307: RuntimeWarning: divide by zero encountered in divide\n",
      "  mrrs /= th2\n",
      "c:\\Users\\s222165064\\.conda\\envs\\split_vae\\lib\\site-packages\\neurokit2\\signal\\signal_fixpeaks.py:307: RuntimeWarning: invalid value encountered in divide\n",
      "  mrrs /= th2\n",
      "c:\\Users\\s222165064\\.conda\\envs\\split_vae\\lib\\site-packages\\neurokit2\\signal\\signal_fixpeaks.py:307: RuntimeWarning: divide by zero encountered in divide\n",
      "  mrrs /= th2\n",
      "c:\\Users\\s222165064\\.conda\\envs\\split_vae\\lib\\site-packages\\neurokit2\\signal\\signal_fixpeaks.py:307: RuntimeWarning: invalid value encountered in divide\n",
      "  mrrs /= th2\n",
      "c:\\Users\\s222165064\\.conda\\envs\\split_vae\\lib\\site-packages\\neurokit2\\signal\\signal_fixpeaks.py:307: RuntimeWarning: divide by zero encountered in divide\n",
      "  mrrs /= th2\n",
      "c:\\Users\\s222165064\\.conda\\envs\\split_vae\\lib\\site-packages\\neurokit2\\signal\\signal_fixpeaks.py:307: RuntimeWarning: invalid value encountered in divide\n",
      "  mrrs /= th2\n",
      "c:\\Users\\s222165064\\.conda\\envs\\split_vae\\lib\\site-packages\\neurokit2\\signal\\signal_fixpeaks.py:307: RuntimeWarning: divide by zero encountered in divide\n",
      "  mrrs /= th2\n",
      "c:\\Users\\s222165064\\.conda\\envs\\split_vae\\lib\\site-packages\\neurokit2\\signal\\signal_fixpeaks.py:307: RuntimeWarning: invalid value encountered in divide\n",
      "  mrrs /= th2\n",
      "c:\\Users\\s222165064\\.conda\\envs\\split_vae\\lib\\site-packages\\neurokit2\\signal\\signal_fixpeaks.py:307: RuntimeWarning: divide by zero encountered in divide\n",
      "  mrrs /= th2\n",
      "c:\\Users\\s222165064\\.conda\\envs\\split_vae\\lib\\site-packages\\neurokit2\\signal\\signal_fixpeaks.py:307: RuntimeWarning: invalid value encountered in divide\n",
      "  mrrs /= th2\n",
      "c:\\Users\\s222165064\\.conda\\envs\\split_vae\\lib\\site-packages\\neurokit2\\signal\\signal_fixpeaks.py:307: RuntimeWarning: divide by zero encountered in divide\n",
      "  mrrs /= th2\n",
      "c:\\Users\\s222165064\\.conda\\envs\\split_vae\\lib\\site-packages\\neurokit2\\signal\\signal_fixpeaks.py:307: RuntimeWarning: invalid value encountered in divide\n",
      "  mrrs /= th2\n",
      "2024-09-26 11:53:31,393 - __main__ - DEBUG - \tn_seg:1321, n_evt:158, annot_dist:{0: 632, 1: 81, 2: 513, 3: 45, 5: 168}, clz_lbl_dist:{0: 514, 1: 639, 2: 168}, remain:2900\n",
      "2024-09-26 11:53:31,397 - __main__ - DEBUG - Loading mesa-sleep-0537...\n"
     ]
    },
    {
     "name": "stdout",
     "output_type": "stream",
     "text": [
      "Extracting EDF parameters from E:\\s222165064\\data\\mesa\\polysomnography\\set1x20\\mesa-sleep-0537.edf...\n",
      "EDF file detected\n",
      "Setting channel info structure...\n",
      "Creating raw.info structure...\n"
     ]
    },
    {
     "name": "stderr",
     "output_type": "stream",
     "text": [
      "2024-09-26 11:53:31,476 - __main__ - DEBUG - channels: ['EKG', 'EOG-L', 'EOG-R', 'EMG', 'EEG1', 'EEG2', 'EEG3', 'Pres', 'Flow', 'Snore', 'Thor', 'Abdo', 'Leg', 'Therm', 'Pos', 'EKG_Off', 'EOG-L_Off', 'EOG-R_Off', 'EMG_Off', 'EEG1_Off', 'EEG2_Off', 'EEG3_Off', 'Pleth', 'OxStatus', 'SpO2', 'HR', 'DHR']\n"
     ]
    },
    {
     "name": "stdout",
     "output_type": "stream",
     "text": [
      "NOTE: pick_channels() is a legacy function. New code should use inst.pick(...).\n"
     ]
    },
    {
     "name": "stderr",
     "output_type": "stream",
     "text": [
      "2024-09-26 11:53:32,520 - __main__ - DEBUG - channels: ['EKG'], search:ekg, src_hz:256\n",
      "2024-09-26 11:53:33,816 - __main__ - DEBUG - [mesa-sleep-0537] 98 events, age:0\n",
      "c:\\Users\\s222165064\\.conda\\envs\\split_vae\\lib\\site-packages\\neurokit2\\signal\\signal_fixpeaks.py:307: RuntimeWarning: divide by zero encountered in divide\n",
      "  mrrs /= th2\n",
      "c:\\Users\\s222165064\\.conda\\envs\\split_vae\\lib\\site-packages\\neurokit2\\signal\\signal_fixpeaks.py:307: RuntimeWarning: invalid value encountered in divide\n",
      "  mrrs /= th2\n",
      "2024-09-26 11:56:27,646 - __main__ - DEBUG - \tn_seg:1060, n_evt:98, annot_dist:{0: 539, 1: 44, 2: 369, 3: 13, 5: 115}, clz_lbl_dist:{0: 519, 1: 426, 2: 115}, remain:0\n",
      "2024-09-26 11:56:27,650 - __main__ - DEBUG - Loading mesa-sleep-0558...\n"
     ]
    },
    {
     "name": "stdout",
     "output_type": "stream",
     "text": [
      "Extracting EDF parameters from E:\\s222165064\\data\\mesa\\polysomnography\\set1x20\\mesa-sleep-0558.edf...\n",
      "EDF file detected\n",
      "Setting channel info structure...\n",
      "Creating raw.info structure...\n"
     ]
    },
    {
     "name": "stderr",
     "output_type": "stream",
     "text": [
      "2024-09-26 11:56:27,717 - __main__ - DEBUG - channels: ['EKG', 'EOG-L', 'EOG-R', 'EMG', 'EEG1', 'EEG2', 'EEG3', 'Pres', 'Flow', 'Snore', 'Thor', 'Abdo', 'Leg', 'Therm', 'Pos', 'EKG_Off', 'EOG-L_Off', 'EOG-R_Off', 'EMG_Off', 'EEG1_Off', 'EEG2_Off', 'EEG3_Off', 'Pleth', 'OxStatus', 'SpO2', 'HR', 'DHR']\n"
     ]
    },
    {
     "name": "stdout",
     "output_type": "stream",
     "text": [
      "NOTE: pick_channels() is a legacy function. New code should use inst.pick(...).\n"
     ]
    },
    {
     "name": "stderr",
     "output_type": "stream",
     "text": [
      "2024-09-26 11:56:28,909 - __main__ - DEBUG - channels: ['EKG'], search:ekg, src_hz:256\n",
      "2024-09-26 11:56:38,794 - __main__ - DEBUG - [mesa-sleep-0558] 131 events, age:1\n",
      "2024-09-26 11:58:55,348 - __main__ - DEBUG - \tn_seg:863, n_evt:131, annot_dist:{0: 658, 1: 44, 2: 293, 3: 194, 5: 70}, clz_lbl_dist:{0: 430, 1: 365, 2: 68}, remain:2900\n",
      "2024-09-26 11:58:55,350 - __main__ - DEBUG - Loading mesa-sleep-0643...\n"
     ]
    },
    {
     "name": "stdout",
     "output_type": "stream",
     "text": [
      "Extracting EDF parameters from E:\\s222165064\\data\\mesa\\polysomnography\\set1x20\\mesa-sleep-0643.edf...\n",
      "EDF file detected\n",
      "Setting channel info structure...\n",
      "Creating raw.info structure...\n"
     ]
    },
    {
     "name": "stderr",
     "output_type": "stream",
     "text": [
      "2024-09-26 11:58:55,455 - __main__ - DEBUG - channels: ['EKG', 'EOG-L', 'EOG-R', 'EMG', 'EEG1', 'EEG2', 'EEG3', 'Pres', 'Flow', 'Snore', 'Thor', 'Abdo', 'Leg', 'Therm', 'Pos', 'EKG_Off', 'EOG-L_Off', 'EOG-R_Off', 'EMG_Off', 'EEG1_Off', 'EEG2_Off', 'EEG3_Off', 'Pleth', 'OxStatus', 'SpO2', 'HR', 'DHR']\n"
     ]
    },
    {
     "name": "stdout",
     "output_type": "stream",
     "text": [
      "NOTE: pick_channels() is a legacy function. New code should use inst.pick(...).\n"
     ]
    },
    {
     "name": "stderr",
     "output_type": "stream",
     "text": [
      "2024-09-26 11:58:56,714 - __main__ - DEBUG - channels: ['EKG'], search:ekg, src_hz:256\n",
      "2024-09-26 11:59:07,561 - __main__ - DEBUG - [mesa-sleep-0643] 151 events, age:0\n",
      "c:\\Users\\s222165064\\.conda\\envs\\split_vae\\lib\\site-packages\\neurokit2\\signal\\signal_period.py:84: NeuroKitWarning: Too few peaks detected to compute the rate. Returning empty vector.\n",
      "  warn(\n"
     ]
    },
    {
     "name": "stdout",
     "output_type": "stream",
     "text": [
      "Traceback (most recent call last):\n",
      "  File \"h:\\Projects\\split_vae\\datasource.py\", line 428, in _initialise\n",
      "    seg = self.process_validate_segment(seg, f)\n",
      "  File \"h:\\Projects\\split_vae\\datasource.py\", line 485, in process_validate_segment\n",
      "    'beats': get_beats(ecg_cleaned, self.hz, self.rr_seg_dim, n_beat=2) if self.is_ecg_beats else [],\n",
      "  File \"h:\\Projects\\split_vae\\datasource.py\", line 82, in get_beats\n",
      "    beats = nk.ecg_segment(y, rpeaks=None, sampling_rate=hz, show=False)\n",
      "  File \"c:\\Users\\s222165064\\.conda\\envs\\split_vae\\lib\\site-packages\\neurokit2\\ecg\\ecg_segment.py\", line 64, in ecg_segment\n",
      "    heartbeats = epochs_create(\n",
      "  File \"c:\\Users\\s222165064\\.conda\\envs\\split_vae\\lib\\site-packages\\neurokit2\\epochs\\epochs_create.py\", line 164, in epochs_create\n",
      "    epoch_max_duration = int(max((i * sampling_rate for i in parameters[\"duration\"])))\n",
      "ValueError: cannot convert float NaN to integer\n",
      "\n"
     ]
    },
    {
     "name": "stderr",
     "output_type": "stream",
     "text": [
      "c:\\Users\\s222165064\\.conda\\envs\\split_vae\\lib\\site-packages\\neurokit2\\signal\\signal_period.py:84: NeuroKitWarning: Too few peaks detected to compute the rate. Returning empty vector.\n",
      "  warn(\n"
     ]
    },
    {
     "name": "stdout",
     "output_type": "stream",
     "text": [
      "Traceback (most recent call last):\n",
      "  File \"h:\\Projects\\split_vae\\datasource.py\", line 428, in _initialise\n",
      "    seg = self.process_validate_segment(seg, f)\n",
      "  File \"h:\\Projects\\split_vae\\datasource.py\", line 485, in process_validate_segment\n",
      "    'beats': get_beats(ecg_cleaned, self.hz, self.rr_seg_dim, n_beat=2) if self.is_ecg_beats else [],\n",
      "  File \"h:\\Projects\\split_vae\\datasource.py\", line 82, in get_beats\n",
      "    beats = nk.ecg_segment(y, rpeaks=None, sampling_rate=hz, show=False)\n",
      "  File \"c:\\Users\\s222165064\\.conda\\envs\\split_vae\\lib\\site-packages\\neurokit2\\ecg\\ecg_segment.py\", line 64, in ecg_segment\n",
      "    heartbeats = epochs_create(\n",
      "  File \"c:\\Users\\s222165064\\.conda\\envs\\split_vae\\lib\\site-packages\\neurokit2\\epochs\\epochs_create.py\", line 164, in epochs_create\n",
      "    epoch_max_duration = int(max((i * sampling_rate for i in parameters[\"duration\"])))\n",
      "ValueError: cannot convert float NaN to integer\n",
      "\n"
     ]
    },
    {
     "name": "stderr",
     "output_type": "stream",
     "text": [
      "c:\\Users\\s222165064\\.conda\\envs\\split_vae\\lib\\site-packages\\neurokit2\\signal\\signal_period.py:84: NeuroKitWarning: Too few peaks detected to compute the rate. Returning empty vector.\n",
      "  warn(\n"
     ]
    },
    {
     "name": "stdout",
     "output_type": "stream",
     "text": [
      "Traceback (most recent call last):\n",
      "  File \"h:\\Projects\\split_vae\\datasource.py\", line 428, in _initialise\n",
      "    seg = self.process_validate_segment(seg, f)\n",
      "  File \"h:\\Projects\\split_vae\\datasource.py\", line 485, in process_validate_segment\n",
      "    'beats': get_beats(ecg_cleaned, self.hz, self.rr_seg_dim, n_beat=2) if self.is_ecg_beats else [],\n",
      "  File \"h:\\Projects\\split_vae\\datasource.py\", line 82, in get_beats\n",
      "    beats = nk.ecg_segment(y, rpeaks=None, sampling_rate=hz, show=False)\n",
      "  File \"c:\\Users\\s222165064\\.conda\\envs\\split_vae\\lib\\site-packages\\neurokit2\\ecg\\ecg_segment.py\", line 64, in ecg_segment\n",
      "    heartbeats = epochs_create(\n",
      "  File \"c:\\Users\\s222165064\\.conda\\envs\\split_vae\\lib\\site-packages\\neurokit2\\epochs\\epochs_create.py\", line 164, in epochs_create\n",
      "    epoch_max_duration = int(max((i * sampling_rate for i in parameters[\"duration\"])))\n",
      "ValueError: cannot convert float NaN to integer\n",
      "\n"
     ]
    },
    {
     "name": "stderr",
     "output_type": "stream",
     "text": [
      "c:\\Users\\s222165064\\.conda\\envs\\split_vae\\lib\\site-packages\\neurokit2\\signal\\signal_period.py:84: NeuroKitWarning: Too few peaks detected to compute the rate. Returning empty vector.\n",
      "  warn(\n",
      "c:\\Users\\s222165064\\.conda\\envs\\split_vae\\lib\\site-packages\\neurokit2\\signal\\signal_period.py:84: NeuroKitWarning: Too few peaks detected to compute the rate. Returning empty vector.\n",
      "  warn(\n"
     ]
    },
    {
     "name": "stdout",
     "output_type": "stream",
     "text": [
      "Traceback (most recent call last):\n",
      "  File \"h:\\Projects\\split_vae\\datasource.py\", line 428, in _initialise\n",
      "    seg = self.process_validate_segment(seg, f)\n",
      "  File \"h:\\Projects\\split_vae\\datasource.py\", line 485, in process_validate_segment\n",
      "    'beats': get_beats(ecg_cleaned, self.hz, self.rr_seg_dim, n_beat=2) if self.is_ecg_beats else [],\n",
      "  File \"h:\\Projects\\split_vae\\datasource.py\", line 82, in get_beats\n",
      "    beats = nk.ecg_segment(y, rpeaks=None, sampling_rate=hz, show=False)\n",
      "  File \"c:\\Users\\s222165064\\.conda\\envs\\split_vae\\lib\\site-packages\\neurokit2\\ecg\\ecg_segment.py\", line 64, in ecg_segment\n",
      "    heartbeats = epochs_create(\n",
      "  File \"c:\\Users\\s222165064\\.conda\\envs\\split_vae\\lib\\site-packages\\neurokit2\\epochs\\epochs_create.py\", line 164, in epochs_create\n",
      "    epoch_max_duration = int(max((i * sampling_rate for i in parameters[\"duration\"])))\n",
      "ValueError: cannot convert float NaN to integer\n",
      "\n",
      "Traceback (most recent call last):\n",
      "  File \"h:\\Projects\\split_vae\\datasource.py\", line 428, in _initialise\n",
      "    seg = self.process_validate_segment(seg, f)\n",
      "  File \"h:\\Projects\\split_vae\\datasource.py\", line 485, in process_validate_segment\n",
      "    'beats': get_beats(ecg_cleaned, self.hz, self.rr_seg_dim, n_beat=2) if self.is_ecg_beats else [],\n",
      "  File \"h:\\Projects\\split_vae\\datasource.py\", line 82, in get_beats\n",
      "    beats = nk.ecg_segment(y, rpeaks=None, sampling_rate=hz, show=False)\n",
      "  File \"c:\\Users\\s222165064\\.conda\\envs\\split_vae\\lib\\site-packages\\neurokit2\\ecg\\ecg_segment.py\", line 64, in ecg_segment\n",
      "    heartbeats = epochs_create(\n",
      "  File \"c:\\Users\\s222165064\\.conda\\envs\\split_vae\\lib\\site-packages\\neurokit2\\epochs\\epochs_create.py\", line 164, in epochs_create\n",
      "    epoch_max_duration = int(max((i * sampling_rate for i in parameters[\"duration\"])))\n",
      "ValueError: cannot convert float NaN to integer\n",
      "\n"
     ]
    },
    {
     "name": "stderr",
     "output_type": "stream",
     "text": [
      "c:\\Users\\s222165064\\.conda\\envs\\split_vae\\lib\\site-packages\\neurokit2\\signal\\signal_fixpeaks.py:307: RuntimeWarning: invalid value encountered in divide\n",
      "  mrrs /= th2\n",
      "c:\\Users\\s222165064\\.conda\\envs\\split_vae\\lib\\site-packages\\neurokit2\\signal\\signal_period.py:84: NeuroKitWarning: Too few peaks detected to compute the rate. Returning empty vector.\n",
      "  warn(\n"
     ]
    },
    {
     "name": "stdout",
     "output_type": "stream",
     "text": [
      "Traceback (most recent call last):\n",
      "  File \"h:\\Projects\\split_vae\\datasource.py\", line 428, in _initialise\n",
      "    seg = self.process_validate_segment(seg, f)\n",
      "  File \"h:\\Projects\\split_vae\\datasource.py\", line 485, in process_validate_segment\n",
      "    'beats': get_beats(ecg_cleaned, self.hz, self.rr_seg_dim, n_beat=2) if self.is_ecg_beats else [],\n",
      "  File \"h:\\Projects\\split_vae\\datasource.py\", line 82, in get_beats\n",
      "    beats = nk.ecg_segment(y, rpeaks=None, sampling_rate=hz, show=False)\n",
      "  File \"c:\\Users\\s222165064\\.conda\\envs\\split_vae\\lib\\site-packages\\neurokit2\\ecg\\ecg_segment.py\", line 64, in ecg_segment\n",
      "    heartbeats = epochs_create(\n",
      "  File \"c:\\Users\\s222165064\\.conda\\envs\\split_vae\\lib\\site-packages\\neurokit2\\epochs\\epochs_create.py\", line 164, in epochs_create\n",
      "    epoch_max_duration = int(max((i * sampling_rate for i in parameters[\"duration\"])))\n",
      "ValueError: cannot convert float NaN to integer\n",
      "\n"
     ]
    },
    {
     "name": "stderr",
     "output_type": "stream",
     "text": [
      "c:\\Users\\s222165064\\.conda\\envs\\split_vae\\lib\\site-packages\\neurokit2\\signal\\signal_period.py:84: NeuroKitWarning: Too few peaks detected to compute the rate. Returning empty vector.\n",
      "  warn(\n"
     ]
    },
    {
     "name": "stdout",
     "output_type": "stream",
     "text": [
      "Traceback (most recent call last):\n",
      "  File \"h:\\Projects\\split_vae\\datasource.py\", line 428, in _initialise\n",
      "    seg = self.process_validate_segment(seg, f)\n",
      "  File \"h:\\Projects\\split_vae\\datasource.py\", line 485, in process_validate_segment\n",
      "    'beats': get_beats(ecg_cleaned, self.hz, self.rr_seg_dim, n_beat=2) if self.is_ecg_beats else [],\n",
      "  File \"h:\\Projects\\split_vae\\datasource.py\", line 82, in get_beats\n",
      "    beats = nk.ecg_segment(y, rpeaks=None, sampling_rate=hz, show=False)\n",
      "  File \"c:\\Users\\s222165064\\.conda\\envs\\split_vae\\lib\\site-packages\\neurokit2\\ecg\\ecg_segment.py\", line 64, in ecg_segment\n",
      "    heartbeats = epochs_create(\n",
      "  File \"c:\\Users\\s222165064\\.conda\\envs\\split_vae\\lib\\site-packages\\neurokit2\\epochs\\epochs_create.py\", line 164, in epochs_create\n",
      "    epoch_max_duration = int(max((i * sampling_rate for i in parameters[\"duration\"])))\n",
      "ValueError: cannot convert float NaN to integer\n",
      "\n"
     ]
    },
    {
     "name": "stderr",
     "output_type": "stream",
     "text": [
      "c:\\Users\\s222165064\\.conda\\envs\\split_vae\\lib\\site-packages\\neurokit2\\signal\\signal_period.py:84: NeuroKitWarning: Too few peaks detected to compute the rate. Returning empty vector.\n",
      "  warn(\n"
     ]
    },
    {
     "name": "stdout",
     "output_type": "stream",
     "text": [
      "Traceback (most recent call last):\n",
      "  File \"h:\\Projects\\split_vae\\datasource.py\", line 428, in _initialise\n",
      "    seg = self.process_validate_segment(seg, f)\n",
      "  File \"h:\\Projects\\split_vae\\datasource.py\", line 485, in process_validate_segment\n",
      "    'beats': get_beats(ecg_cleaned, self.hz, self.rr_seg_dim, n_beat=2) if self.is_ecg_beats else [],\n",
      "  File \"h:\\Projects\\split_vae\\datasource.py\", line 82, in get_beats\n",
      "    beats = nk.ecg_segment(y, rpeaks=None, sampling_rate=hz, show=False)\n",
      "  File \"c:\\Users\\s222165064\\.conda\\envs\\split_vae\\lib\\site-packages\\neurokit2\\ecg\\ecg_segment.py\", line 64, in ecg_segment\n",
      "    heartbeats = epochs_create(\n",
      "  File \"c:\\Users\\s222165064\\.conda\\envs\\split_vae\\lib\\site-packages\\neurokit2\\epochs\\epochs_create.py\", line 164, in epochs_create\n",
      "    epoch_max_duration = int(max((i * sampling_rate for i in parameters[\"duration\"])))\n",
      "ValueError: cannot convert float NaN to integer\n",
      "\n"
     ]
    },
    {
     "name": "stderr",
     "output_type": "stream",
     "text": [
      "c:\\Users\\s222165064\\.conda\\envs\\split_vae\\lib\\site-packages\\neurokit2\\signal\\signal_period.py:84: NeuroKitWarning: Too few peaks detected to compute the rate. Returning empty vector.\n",
      "  warn(\n"
     ]
    },
    {
     "name": "stdout",
     "output_type": "stream",
     "text": [
      "Traceback (most recent call last):\n",
      "  File \"h:\\Projects\\split_vae\\datasource.py\", line 428, in _initialise\n",
      "    seg = self.process_validate_segment(seg, f)\n",
      "  File \"h:\\Projects\\split_vae\\datasource.py\", line 485, in process_validate_segment\n",
      "    'beats': get_beats(ecg_cleaned, self.hz, self.rr_seg_dim, n_beat=2) if self.is_ecg_beats else [],\n",
      "  File \"h:\\Projects\\split_vae\\datasource.py\", line 82, in get_beats\n",
      "    beats = nk.ecg_segment(y, rpeaks=None, sampling_rate=hz, show=False)\n",
      "  File \"c:\\Users\\s222165064\\.conda\\envs\\split_vae\\lib\\site-packages\\neurokit2\\ecg\\ecg_segment.py\", line 64, in ecg_segment\n",
      "    heartbeats = epochs_create(\n",
      "  File \"c:\\Users\\s222165064\\.conda\\envs\\split_vae\\lib\\site-packages\\neurokit2\\epochs\\epochs_create.py\", line 164, in epochs_create\n",
      "    epoch_max_duration = int(max((i * sampling_rate for i in parameters[\"duration\"])))\n",
      "ValueError: cannot convert float NaN to integer\n",
      "\n"
     ]
    },
    {
     "name": "stderr",
     "output_type": "stream",
     "text": [
      "c:\\Users\\s222165064\\.conda\\envs\\split_vae\\lib\\site-packages\\neurokit2\\signal\\signal_period.py:84: NeuroKitWarning: Too few peaks detected to compute the rate. Returning empty vector.\n",
      "  warn(\n"
     ]
    },
    {
     "name": "stdout",
     "output_type": "stream",
     "text": [
      "Traceback (most recent call last):\n",
      "  File \"h:\\Projects\\split_vae\\datasource.py\", line 428, in _initialise\n",
      "    seg = self.process_validate_segment(seg, f)\n",
      "  File \"h:\\Projects\\split_vae\\datasource.py\", line 485, in process_validate_segment\n",
      "    'beats': get_beats(ecg_cleaned, self.hz, self.rr_seg_dim, n_beat=2) if self.is_ecg_beats else [],\n",
      "  File \"h:\\Projects\\split_vae\\datasource.py\", line 82, in get_beats\n",
      "    beats = nk.ecg_segment(y, rpeaks=None, sampling_rate=hz, show=False)\n",
      "  File \"c:\\Users\\s222165064\\.conda\\envs\\split_vae\\lib\\site-packages\\neurokit2\\ecg\\ecg_segment.py\", line 64, in ecg_segment\n",
      "    heartbeats = epochs_create(\n",
      "  File \"c:\\Users\\s222165064\\.conda\\envs\\split_vae\\lib\\site-packages\\neurokit2\\epochs\\epochs_create.py\", line 164, in epochs_create\n",
      "    epoch_max_duration = int(max((i * sampling_rate for i in parameters[\"duration\"])))\n",
      "ValueError: cannot convert float NaN to integer\n",
      "\n"
     ]
    },
    {
     "name": "stderr",
     "output_type": "stream",
     "text": [
      "c:\\Users\\s222165064\\.conda\\envs\\split_vae\\lib\\site-packages\\neurokit2\\signal\\signal_period.py:84: NeuroKitWarning: Too few peaks detected to compute the rate. Returning empty vector.\n",
      "  warn(\n",
      "c:\\Users\\s222165064\\.conda\\envs\\split_vae\\lib\\site-packages\\neurokit2\\signal\\signal_period.py:84: NeuroKitWarning: Too few peaks detected to compute the rate. Returning empty vector.\n",
      "  warn(\n"
     ]
    },
    {
     "name": "stdout",
     "output_type": "stream",
     "text": [
      "Traceback (most recent call last):\n",
      "  File \"h:\\Projects\\split_vae\\datasource.py\", line 428, in _initialise\n",
      "    seg = self.process_validate_segment(seg, f)\n",
      "  File \"h:\\Projects\\split_vae\\datasource.py\", line 485, in process_validate_segment\n",
      "    'beats': get_beats(ecg_cleaned, self.hz, self.rr_seg_dim, n_beat=2) if self.is_ecg_beats else [],\n",
      "  File \"h:\\Projects\\split_vae\\datasource.py\", line 82, in get_beats\n",
      "    beats = nk.ecg_segment(y, rpeaks=None, sampling_rate=hz, show=False)\n",
      "  File \"c:\\Users\\s222165064\\.conda\\envs\\split_vae\\lib\\site-packages\\neurokit2\\ecg\\ecg_segment.py\", line 64, in ecg_segment\n",
      "    heartbeats = epochs_create(\n",
      "  File \"c:\\Users\\s222165064\\.conda\\envs\\split_vae\\lib\\site-packages\\neurokit2\\epochs\\epochs_create.py\", line 164, in epochs_create\n",
      "    epoch_max_duration = int(max((i * sampling_rate for i in parameters[\"duration\"])))\n",
      "ValueError: cannot convert float NaN to integer\n",
      "\n",
      "Traceback (most recent call last):\n",
      "  File \"h:\\Projects\\split_vae\\datasource.py\", line 428, in _initialise\n",
      "    seg = self.process_validate_segment(seg, f)\n",
      "  File \"h:\\Projects\\split_vae\\datasource.py\", line 485, in process_validate_segment\n",
      "    'beats': get_beats(ecg_cleaned, self.hz, self.rr_seg_dim, n_beat=2) if self.is_ecg_beats else [],\n",
      "  File \"h:\\Projects\\split_vae\\datasource.py\", line 82, in get_beats\n",
      "    beats = nk.ecg_segment(y, rpeaks=None, sampling_rate=hz, show=False)\n",
      "  File \"c:\\Users\\s222165064\\.conda\\envs\\split_vae\\lib\\site-packages\\neurokit2\\ecg\\ecg_segment.py\", line 64, in ecg_segment\n",
      "    heartbeats = epochs_create(\n",
      "  File \"c:\\Users\\s222165064\\.conda\\envs\\split_vae\\lib\\site-packages\\neurokit2\\epochs\\epochs_create.py\", line 164, in epochs_create\n",
      "    epoch_max_duration = int(max((i * sampling_rate for i in parameters[\"duration\"])))\n",
      "ValueError: cannot convert float NaN to integer\n",
      "\n"
     ]
    },
    {
     "name": "stderr",
     "output_type": "stream",
     "text": [
      "c:\\Users\\s222165064\\.conda\\envs\\split_vae\\lib\\site-packages\\neurokit2\\signal\\signal_fixpeaks.py:307: RuntimeWarning: invalid value encountered in divide\n",
      "  mrrs /= th2\n",
      "c:\\Users\\s222165064\\.conda\\envs\\split_vae\\lib\\site-packages\\neurokit2\\signal\\signal_period.py:84: NeuroKitWarning: Too few peaks detected to compute the rate. Returning empty vector.\n",
      "  warn(\n",
      "c:\\Users\\s222165064\\.conda\\envs\\split_vae\\lib\\site-packages\\neurokit2\\signal\\signal_fixpeaks.py:307: RuntimeWarning: invalid value encountered in divide\n",
      "  mrrs /= th2\n",
      "c:\\Users\\s222165064\\.conda\\envs\\split_vae\\lib\\site-packages\\neurokit2\\signal\\signal_period.py:84: NeuroKitWarning: Too few peaks detected to compute the rate. Returning empty vector.\n",
      "  warn(\n",
      "c:\\Users\\s222165064\\.conda\\envs\\split_vae\\lib\\site-packages\\neurokit2\\signal\\signal_period.py:84: NeuroKitWarning: Too few peaks detected to compute the rate. Returning empty vector.\n",
      "  warn(\n"
     ]
    },
    {
     "name": "stdout",
     "output_type": "stream",
     "text": [
      "Traceback (most recent call last):\n",
      "  File \"h:\\Projects\\split_vae\\datasource.py\", line 428, in _initialise\n",
      "    seg = self.process_validate_segment(seg, f)\n",
      "  File \"h:\\Projects\\split_vae\\datasource.py\", line 485, in process_validate_segment\n",
      "    'beats': get_beats(ecg_cleaned, self.hz, self.rr_seg_dim, n_beat=2) if self.is_ecg_beats else [],\n",
      "  File \"h:\\Projects\\split_vae\\datasource.py\", line 82, in get_beats\n",
      "    beats = nk.ecg_segment(y, rpeaks=None, sampling_rate=hz, show=False)\n",
      "  File \"c:\\Users\\s222165064\\.conda\\envs\\split_vae\\lib\\site-packages\\neurokit2\\ecg\\ecg_segment.py\", line 64, in ecg_segment\n",
      "    heartbeats = epochs_create(\n",
      "  File \"c:\\Users\\s222165064\\.conda\\envs\\split_vae\\lib\\site-packages\\neurokit2\\epochs\\epochs_create.py\", line 164, in epochs_create\n",
      "    epoch_max_duration = int(max((i * sampling_rate for i in parameters[\"duration\"])))\n",
      "ValueError: cannot convert float NaN to integer\n",
      "\n",
      "Traceback (most recent call last):\n",
      "  File \"h:\\Projects\\split_vae\\datasource.py\", line 428, in _initialise\n",
      "    seg = self.process_validate_segment(seg, f)\n",
      "  File \"h:\\Projects\\split_vae\\datasource.py\", line 485, in process_validate_segment\n",
      "    'beats': get_beats(ecg_cleaned, self.hz, self.rr_seg_dim, n_beat=2) if self.is_ecg_beats else [],\n",
      "  File \"h:\\Projects\\split_vae\\datasource.py\", line 82, in get_beats\n",
      "    beats = nk.ecg_segment(y, rpeaks=None, sampling_rate=hz, show=False)\n",
      "  File \"c:\\Users\\s222165064\\.conda\\envs\\split_vae\\lib\\site-packages\\neurokit2\\ecg\\ecg_segment.py\", line 64, in ecg_segment\n",
      "    heartbeats = epochs_create(\n",
      "  File \"c:\\Users\\s222165064\\.conda\\envs\\split_vae\\lib\\site-packages\\neurokit2\\epochs\\epochs_create.py\", line 164, in epochs_create\n",
      "    epoch_max_duration = int(max((i * sampling_rate for i in parameters[\"duration\"])))\n",
      "ValueError: cannot convert float NaN to integer\n",
      "\n",
      "Traceback (most recent call last):\n",
      "  File \"h:\\Projects\\split_vae\\datasource.py\", line 428, in _initialise\n",
      "    seg = self.process_validate_segment(seg, f)\n",
      "  File \"h:\\Projects\\split_vae\\datasource.py\", line 485, in process_validate_segment\n",
      "    'beats': get_beats(ecg_cleaned, self.hz, self.rr_seg_dim, n_beat=2) if self.is_ecg_beats else [],\n",
      "  File \"h:\\Projects\\split_vae\\datasource.py\", line 82, in get_beats\n",
      "    beats = nk.ecg_segment(y, rpeaks=None, sampling_rate=hz, show=False)\n",
      "  File \"c:\\Users\\s222165064\\.conda\\envs\\split_vae\\lib\\site-packages\\neurokit2\\ecg\\ecg_segment.py\", line 64, in ecg_segment\n",
      "    heartbeats = epochs_create(\n",
      "  File \"c:\\Users\\s222165064\\.conda\\envs\\split_vae\\lib\\site-packages\\neurokit2\\epochs\\epochs_create.py\", line 164, in epochs_create\n",
      "    epoch_max_duration = int(max((i * sampling_rate for i in parameters[\"duration\"])))\n",
      "ValueError: cannot convert float NaN to integer\n",
      "\n"
     ]
    },
    {
     "name": "stderr",
     "output_type": "stream",
     "text": [
      "c:\\Users\\s222165064\\.conda\\envs\\split_vae\\lib\\site-packages\\neurokit2\\signal\\signal_fixpeaks.py:307: RuntimeWarning: invalid value encountered in divide\n",
      "  mrrs /= th2\n",
      "c:\\Users\\s222165064\\.conda\\envs\\split_vae\\lib\\site-packages\\neurokit2\\signal\\signal_period.py:84: NeuroKitWarning: Too few peaks detected to compute the rate. Returning empty vector.\n",
      "  warn(\n",
      "c:\\Users\\s222165064\\.conda\\envs\\split_vae\\lib\\site-packages\\neurokit2\\signal\\signal_period.py:84: NeuroKitWarning: Too few peaks detected to compute the rate. Returning empty vector.\n",
      "  warn(\n",
      "c:\\Users\\s222165064\\.conda\\envs\\split_vae\\lib\\site-packages\\neurokit2\\signal\\signal_fixpeaks.py:307: RuntimeWarning: invalid value encountered in divide\n",
      "  mrrs /= th2\n",
      "c:\\Users\\s222165064\\.conda\\envs\\split_vae\\lib\\site-packages\\neurokit2\\signal\\signal_period.py:84: NeuroKitWarning: Too few peaks detected to compute the rate. Returning empty vector.\n",
      "  warn(\n"
     ]
    },
    {
     "name": "stdout",
     "output_type": "stream",
     "text": [
      "Traceback (most recent call last):\n",
      "  File \"h:\\Projects\\split_vae\\datasource.py\", line 428, in _initialise\n",
      "    seg = self.process_validate_segment(seg, f)\n",
      "  File \"h:\\Projects\\split_vae\\datasource.py\", line 485, in process_validate_segment\n",
      "    'beats': get_beats(ecg_cleaned, self.hz, self.rr_seg_dim, n_beat=2) if self.is_ecg_beats else [],\n",
      "  File \"h:\\Projects\\split_vae\\datasource.py\", line 82, in get_beats\n",
      "    beats = nk.ecg_segment(y, rpeaks=None, sampling_rate=hz, show=False)\n",
      "  File \"c:\\Users\\s222165064\\.conda\\envs\\split_vae\\lib\\site-packages\\neurokit2\\ecg\\ecg_segment.py\", line 64, in ecg_segment\n",
      "    heartbeats = epochs_create(\n",
      "  File \"c:\\Users\\s222165064\\.conda\\envs\\split_vae\\lib\\site-packages\\neurokit2\\epochs\\epochs_create.py\", line 164, in epochs_create\n",
      "    epoch_max_duration = int(max((i * sampling_rate for i in parameters[\"duration\"])))\n",
      "ValueError: cannot convert float NaN to integer\n",
      "\n",
      "Traceback (most recent call last):\n",
      "  File \"h:\\Projects\\split_vae\\datasource.py\", line 428, in _initialise\n",
      "    seg = self.process_validate_segment(seg, f)\n",
      "  File \"h:\\Projects\\split_vae\\datasource.py\", line 485, in process_validate_segment\n",
      "    'beats': get_beats(ecg_cleaned, self.hz, self.rr_seg_dim, n_beat=2) if self.is_ecg_beats else [],\n",
      "  File \"h:\\Projects\\split_vae\\datasource.py\", line 82, in get_beats\n",
      "    beats = nk.ecg_segment(y, rpeaks=None, sampling_rate=hz, show=False)\n",
      "  File \"c:\\Users\\s222165064\\.conda\\envs\\split_vae\\lib\\site-packages\\neurokit2\\ecg\\ecg_segment.py\", line 64, in ecg_segment\n",
      "    heartbeats = epochs_create(\n",
      "  File \"c:\\Users\\s222165064\\.conda\\envs\\split_vae\\lib\\site-packages\\neurokit2\\epochs\\epochs_create.py\", line 164, in epochs_create\n",
      "    epoch_max_duration = int(max((i * sampling_rate for i in parameters[\"duration\"])))\n",
      "ValueError: cannot convert float NaN to integer\n",
      "\n",
      "Traceback (most recent call last):\n",
      "  File \"h:\\Projects\\split_vae\\datasource.py\", line 428, in _initialise\n",
      "    seg = self.process_validate_segment(seg, f)\n",
      "  File \"h:\\Projects\\split_vae\\datasource.py\", line 485, in process_validate_segment\n",
      "    'beats': get_beats(ecg_cleaned, self.hz, self.rr_seg_dim, n_beat=2) if self.is_ecg_beats else [],\n",
      "  File \"h:\\Projects\\split_vae\\datasource.py\", line 82, in get_beats\n",
      "    beats = nk.ecg_segment(y, rpeaks=None, sampling_rate=hz, show=False)\n",
      "  File \"c:\\Users\\s222165064\\.conda\\envs\\split_vae\\lib\\site-packages\\neurokit2\\ecg\\ecg_segment.py\", line 64, in ecg_segment\n",
      "    heartbeats = epochs_create(\n",
      "  File \"c:\\Users\\s222165064\\.conda\\envs\\split_vae\\lib\\site-packages\\neurokit2\\epochs\\epochs_create.py\", line 164, in epochs_create\n",
      "    epoch_max_duration = int(max((i * sampling_rate for i in parameters[\"duration\"])))\n",
      "ValueError: cannot convert float NaN to integer\n",
      "\n"
     ]
    },
    {
     "name": "stderr",
     "output_type": "stream",
     "text": [
      "c:\\Users\\s222165064\\.conda\\envs\\split_vae\\lib\\site-packages\\numpy\\core\\fromnumeric.py:3504: RuntimeWarning: Mean of empty slice.\n",
      "  return _methods._mean(a, axis=axis, dtype=dtype,\n",
      "c:\\Users\\s222165064\\.conda\\envs\\split_vae\\lib\\site-packages\\numpy\\core\\_methods.py:129: RuntimeWarning: invalid value encountered in scalar divide\n",
      "  ret = ret.dtype.type(ret / rcount)\n",
      "c:\\Users\\s222165064\\.conda\\envs\\split_vae\\lib\\site-packages\\neurokit2\\signal\\signal_period.py:84: NeuroKitWarning: Too few peaks detected to compute the rate. Returning empty vector.\n",
      "  warn(\n",
      "c:\\Users\\s222165064\\.conda\\envs\\split_vae\\lib\\site-packages\\neurokit2\\signal\\signal_period.py:84: NeuroKitWarning: Too few peaks detected to compute the rate. Returning empty vector.\n",
      "  warn(\n",
      "c:\\Users\\s222165064\\.conda\\envs\\split_vae\\lib\\site-packages\\numpy\\core\\fromnumeric.py:3504: RuntimeWarning: Mean of empty slice.\n",
      "  return _methods._mean(a, axis=axis, dtype=dtype,\n",
      "c:\\Users\\s222165064\\.conda\\envs\\split_vae\\lib\\site-packages\\numpy\\core\\_methods.py:129: RuntimeWarning: invalid value encountered in scalar divide\n",
      "  ret = ret.dtype.type(ret / rcount)\n",
      "c:\\Users\\s222165064\\.conda\\envs\\split_vae\\lib\\site-packages\\neurokit2\\signal\\signal_period.py:84: NeuroKitWarning: Too few peaks detected to compute the rate. Returning empty vector.\n",
      "  warn(\n"
     ]
    },
    {
     "name": "stdout",
     "output_type": "stream",
     "text": [
      "Traceback (most recent call last):\n",
      "  File \"h:\\Projects\\split_vae\\datasource.py\", line 428, in _initialise\n",
      "    seg = self.process_validate_segment(seg, f)\n",
      "  File \"h:\\Projects\\split_vae\\datasource.py\", line 485, in process_validate_segment\n",
      "    'beats': get_beats(ecg_cleaned, self.hz, self.rr_seg_dim, n_beat=2) if self.is_ecg_beats else [],\n",
      "  File \"h:\\Projects\\split_vae\\datasource.py\", line 82, in get_beats\n",
      "    beats = nk.ecg_segment(y, rpeaks=None, sampling_rate=hz, show=False)\n",
      "  File \"c:\\Users\\s222165064\\.conda\\envs\\split_vae\\lib\\site-packages\\neurokit2\\ecg\\ecg_segment.py\", line 64, in ecg_segment\n",
      "    heartbeats = epochs_create(\n",
      "  File \"c:\\Users\\s222165064\\.conda\\envs\\split_vae\\lib\\site-packages\\neurokit2\\epochs\\epochs_create.py\", line 164, in epochs_create\n",
      "    epoch_max_duration = int(max((i * sampling_rate for i in parameters[\"duration\"])))\n",
      "ValueError: cannot convert float NaN to integer\n",
      "\n",
      "Traceback (most recent call last):\n",
      "  File \"h:\\Projects\\split_vae\\datasource.py\", line 428, in _initialise\n",
      "    seg = self.process_validate_segment(seg, f)\n",
      "  File \"h:\\Projects\\split_vae\\datasource.py\", line 485, in process_validate_segment\n",
      "    'beats': get_beats(ecg_cleaned, self.hz, self.rr_seg_dim, n_beat=2) if self.is_ecg_beats else [],\n",
      "  File \"h:\\Projects\\split_vae\\datasource.py\", line 82, in get_beats\n",
      "    beats = nk.ecg_segment(y, rpeaks=None, sampling_rate=hz, show=False)\n",
      "  File \"c:\\Users\\s222165064\\.conda\\envs\\split_vae\\lib\\site-packages\\neurokit2\\ecg\\ecg_segment.py\", line 64, in ecg_segment\n",
      "    heartbeats = epochs_create(\n",
      "  File \"c:\\Users\\s222165064\\.conda\\envs\\split_vae\\lib\\site-packages\\neurokit2\\epochs\\epochs_create.py\", line 164, in epochs_create\n",
      "    epoch_max_duration = int(max((i * sampling_rate for i in parameters[\"duration\"])))\n",
      "ValueError: cannot convert float NaN to integer\n",
      "\n",
      "Traceback (most recent call last):\n",
      "  File \"h:\\Projects\\split_vae\\datasource.py\", line 428, in _initialise\n",
      "    seg = self.process_validate_segment(seg, f)\n",
      "  File \"h:\\Projects\\split_vae\\datasource.py\", line 485, in process_validate_segment\n",
      "    'beats': get_beats(ecg_cleaned, self.hz, self.rr_seg_dim, n_beat=2) if self.is_ecg_beats else [],\n",
      "  File \"h:\\Projects\\split_vae\\datasource.py\", line 82, in get_beats\n",
      "    beats = nk.ecg_segment(y, rpeaks=None, sampling_rate=hz, show=False)\n",
      "  File \"c:\\Users\\s222165064\\.conda\\envs\\split_vae\\lib\\site-packages\\neurokit2\\ecg\\ecg_segment.py\", line 64, in ecg_segment\n",
      "    heartbeats = epochs_create(\n",
      "  File \"c:\\Users\\s222165064\\.conda\\envs\\split_vae\\lib\\site-packages\\neurokit2\\epochs\\epochs_create.py\", line 164, in epochs_create\n",
      "    epoch_max_duration = int(max((i * sampling_rate for i in parameters[\"duration\"])))\n",
      "ValueError: cannot convert float NaN to integer\n",
      "\n"
     ]
    },
    {
     "name": "stderr",
     "output_type": "stream",
     "text": [
      "c:\\Users\\s222165064\\.conda\\envs\\split_vae\\lib\\site-packages\\neurokit2\\signal\\signal_period.py:84: NeuroKitWarning: Too few peaks detected to compute the rate. Returning empty vector.\n",
      "  warn(\n"
     ]
    },
    {
     "name": "stdout",
     "output_type": "stream",
     "text": [
      "Traceback (most recent call last):\n",
      "  File \"h:\\Projects\\split_vae\\datasource.py\", line 428, in _initialise\n",
      "    seg = self.process_validate_segment(seg, f)\n",
      "  File \"h:\\Projects\\split_vae\\datasource.py\", line 485, in process_validate_segment\n",
      "    'beats': get_beats(ecg_cleaned, self.hz, self.rr_seg_dim, n_beat=2) if self.is_ecg_beats else [],\n",
      "  File \"h:\\Projects\\split_vae\\datasource.py\", line 82, in get_beats\n",
      "    beats = nk.ecg_segment(y, rpeaks=None, sampling_rate=hz, show=False)\n",
      "  File \"c:\\Users\\s222165064\\.conda\\envs\\split_vae\\lib\\site-packages\\neurokit2\\ecg\\ecg_segment.py\", line 64, in ecg_segment\n",
      "    heartbeats = epochs_create(\n",
      "  File \"c:\\Users\\s222165064\\.conda\\envs\\split_vae\\lib\\site-packages\\neurokit2\\epochs\\epochs_create.py\", line 164, in epochs_create\n",
      "    epoch_max_duration = int(max((i * sampling_rate for i in parameters[\"duration\"])))\n",
      "ValueError: cannot convert float NaN to integer\n",
      "\n"
     ]
    },
    {
     "name": "stderr",
     "output_type": "stream",
     "text": [
      "c:\\Users\\s222165064\\.conda\\envs\\split_vae\\lib\\site-packages\\neurokit2\\signal\\signal_period.py:84: NeuroKitWarning: Too few peaks detected to compute the rate. Returning empty vector.\n",
      "  warn(\n",
      "c:\\Users\\s222165064\\.conda\\envs\\split_vae\\lib\\site-packages\\neurokit2\\signal\\signal_fixpeaks.py:307: RuntimeWarning: invalid value encountered in divide\n",
      "  mrrs /= th2\n",
      "c:\\Users\\s222165064\\.conda\\envs\\split_vae\\lib\\site-packages\\neurokit2\\signal\\signal_period.py:84: NeuroKitWarning: Too few peaks detected to compute the rate. Returning empty vector.\n",
      "  warn(\n"
     ]
    },
    {
     "name": "stdout",
     "output_type": "stream",
     "text": [
      "Traceback (most recent call last):\n",
      "  File \"h:\\Projects\\split_vae\\datasource.py\", line 428, in _initialise\n",
      "    seg = self.process_validate_segment(seg, f)\n",
      "  File \"h:\\Projects\\split_vae\\datasource.py\", line 485, in process_validate_segment\n",
      "    'beats': get_beats(ecg_cleaned, self.hz, self.rr_seg_dim, n_beat=2) if self.is_ecg_beats else [],\n",
      "  File \"h:\\Projects\\split_vae\\datasource.py\", line 82, in get_beats\n",
      "    beats = nk.ecg_segment(y, rpeaks=None, sampling_rate=hz, show=False)\n",
      "  File \"c:\\Users\\s222165064\\.conda\\envs\\split_vae\\lib\\site-packages\\neurokit2\\ecg\\ecg_segment.py\", line 64, in ecg_segment\n",
      "    heartbeats = epochs_create(\n",
      "  File \"c:\\Users\\s222165064\\.conda\\envs\\split_vae\\lib\\site-packages\\neurokit2\\epochs\\epochs_create.py\", line 164, in epochs_create\n",
      "    epoch_max_duration = int(max((i * sampling_rate for i in parameters[\"duration\"])))\n",
      "ValueError: cannot convert float NaN to integer\n",
      "\n",
      "Traceback (most recent call last):\n",
      "  File \"h:\\Projects\\split_vae\\datasource.py\", line 428, in _initialise\n",
      "    seg = self.process_validate_segment(seg, f)\n",
      "  File \"h:\\Projects\\split_vae\\datasource.py\", line 485, in process_validate_segment\n",
      "    'beats': get_beats(ecg_cleaned, self.hz, self.rr_seg_dim, n_beat=2) if self.is_ecg_beats else [],\n",
      "  File \"h:\\Projects\\split_vae\\datasource.py\", line 82, in get_beats\n",
      "    beats = nk.ecg_segment(y, rpeaks=None, sampling_rate=hz, show=False)\n",
      "  File \"c:\\Users\\s222165064\\.conda\\envs\\split_vae\\lib\\site-packages\\neurokit2\\ecg\\ecg_segment.py\", line 64, in ecg_segment\n",
      "    heartbeats = epochs_create(\n",
      "  File \"c:\\Users\\s222165064\\.conda\\envs\\split_vae\\lib\\site-packages\\neurokit2\\epochs\\epochs_create.py\", line 164, in epochs_create\n",
      "    epoch_max_duration = int(max((i * sampling_rate for i in parameters[\"duration\"])))\n",
      "ValueError: cannot convert float NaN to integer\n",
      "\n"
     ]
    },
    {
     "name": "stderr",
     "output_type": "stream",
     "text": [
      "c:\\Users\\s222165064\\.conda\\envs\\split_vae\\lib\\site-packages\\neurokit2\\signal\\signal_fixpeaks.py:307: RuntimeWarning: invalid value encountered in divide\n",
      "  mrrs /= th2\n",
      "c:\\Users\\s222165064\\.conda\\envs\\split_vae\\lib\\site-packages\\neurokit2\\signal\\signal_period.py:84: NeuroKitWarning: Too few peaks detected to compute the rate. Returning empty vector.\n",
      "  warn(\n",
      "c:\\Users\\s222165064\\.conda\\envs\\split_vae\\lib\\site-packages\\neurokit2\\signal\\signal_period.py:84: NeuroKitWarning: Too few peaks detected to compute the rate. Returning empty vector.\n",
      "  warn(\n"
     ]
    },
    {
     "name": "stdout",
     "output_type": "stream",
     "text": [
      "Traceback (most recent call last):\n",
      "  File \"h:\\Projects\\split_vae\\datasource.py\", line 428, in _initialise\n",
      "    seg = self.process_validate_segment(seg, f)\n",
      "  File \"h:\\Projects\\split_vae\\datasource.py\", line 485, in process_validate_segment\n",
      "    'beats': get_beats(ecg_cleaned, self.hz, self.rr_seg_dim, n_beat=2) if self.is_ecg_beats else [],\n",
      "  File \"h:\\Projects\\split_vae\\datasource.py\", line 82, in get_beats\n",
      "    beats = nk.ecg_segment(y, rpeaks=None, sampling_rate=hz, show=False)\n",
      "  File \"c:\\Users\\s222165064\\.conda\\envs\\split_vae\\lib\\site-packages\\neurokit2\\ecg\\ecg_segment.py\", line 64, in ecg_segment\n",
      "    heartbeats = epochs_create(\n",
      "  File \"c:\\Users\\s222165064\\.conda\\envs\\split_vae\\lib\\site-packages\\neurokit2\\epochs\\epochs_create.py\", line 164, in epochs_create\n",
      "    epoch_max_duration = int(max((i * sampling_rate for i in parameters[\"duration\"])))\n",
      "ValueError: cannot convert float NaN to integer\n",
      "\n",
      "Traceback (most recent call last):\n",
      "  File \"h:\\Projects\\split_vae\\datasource.py\", line 428, in _initialise\n",
      "    seg = self.process_validate_segment(seg, f)\n",
      "  File \"h:\\Projects\\split_vae\\datasource.py\", line 485, in process_validate_segment\n",
      "    'beats': get_beats(ecg_cleaned, self.hz, self.rr_seg_dim, n_beat=2) if self.is_ecg_beats else [],\n",
      "  File \"h:\\Projects\\split_vae\\datasource.py\", line 82, in get_beats\n",
      "    beats = nk.ecg_segment(y, rpeaks=None, sampling_rate=hz, show=False)\n",
      "  File \"c:\\Users\\s222165064\\.conda\\envs\\split_vae\\lib\\site-packages\\neurokit2\\ecg\\ecg_segment.py\", line 64, in ecg_segment\n",
      "    heartbeats = epochs_create(\n",
      "  File \"c:\\Users\\s222165064\\.conda\\envs\\split_vae\\lib\\site-packages\\neurokit2\\epochs\\epochs_create.py\", line 164, in epochs_create\n",
      "    epoch_max_duration = int(max((i * sampling_rate for i in parameters[\"duration\"])))\n",
      "ValueError: cannot convert float NaN to integer\n",
      "\n"
     ]
    },
    {
     "name": "stderr",
     "output_type": "stream",
     "text": [
      "c:\\Users\\s222165064\\.conda\\envs\\split_vae\\lib\\site-packages\\neurokit2\\signal\\signal_period.py:84: NeuroKitWarning: Too few peaks detected to compute the rate. Returning empty vector.\n",
      "  warn(\n"
     ]
    },
    {
     "name": "stdout",
     "output_type": "stream",
     "text": [
      "Traceback (most recent call last):\n",
      "  File \"h:\\Projects\\split_vae\\datasource.py\", line 428, in _initialise\n",
      "    seg = self.process_validate_segment(seg, f)\n",
      "  File \"h:\\Projects\\split_vae\\datasource.py\", line 485, in process_validate_segment\n",
      "    'beats': get_beats(ecg_cleaned, self.hz, self.rr_seg_dim, n_beat=2) if self.is_ecg_beats else [],\n",
      "  File \"h:\\Projects\\split_vae\\datasource.py\", line 82, in get_beats\n",
      "    beats = nk.ecg_segment(y, rpeaks=None, sampling_rate=hz, show=False)\n",
      "  File \"c:\\Users\\s222165064\\.conda\\envs\\split_vae\\lib\\site-packages\\neurokit2\\ecg\\ecg_segment.py\", line 64, in ecg_segment\n",
      "    heartbeats = epochs_create(\n",
      "  File \"c:\\Users\\s222165064\\.conda\\envs\\split_vae\\lib\\site-packages\\neurokit2\\epochs\\epochs_create.py\", line 164, in epochs_create\n",
      "    epoch_max_duration = int(max((i * sampling_rate for i in parameters[\"duration\"])))\n",
      "ValueError: cannot convert float NaN to integer\n",
      "\n"
     ]
    },
    {
     "name": "stderr",
     "output_type": "stream",
     "text": [
      "c:\\Users\\s222165064\\.conda\\envs\\split_vae\\lib\\site-packages\\numpy\\core\\fromnumeric.py:3504: RuntimeWarning: Mean of empty slice.\n",
      "  return _methods._mean(a, axis=axis, dtype=dtype,\n",
      "c:\\Users\\s222165064\\.conda\\envs\\split_vae\\lib\\site-packages\\numpy\\core\\_methods.py:129: RuntimeWarning: invalid value encountered in scalar divide\n",
      "  ret = ret.dtype.type(ret / rcount)\n",
      "c:\\Users\\s222165064\\.conda\\envs\\split_vae\\lib\\site-packages\\neurokit2\\signal\\signal_period.py:84: NeuroKitWarning: Too few peaks detected to compute the rate. Returning empty vector.\n",
      "  warn(\n",
      "c:\\Users\\s222165064\\.conda\\envs\\split_vae\\lib\\site-packages\\neurokit2\\signal\\signal_fixpeaks.py:307: RuntimeWarning: invalid value encountered in divide\n",
      "  mrrs /= th2\n",
      "c:\\Users\\s222165064\\.conda\\envs\\split_vae\\lib\\site-packages\\neurokit2\\signal\\signal_period.py:84: NeuroKitWarning: Too few peaks detected to compute the rate. Returning empty vector.\n",
      "  warn(\n"
     ]
    },
    {
     "name": "stdout",
     "output_type": "stream",
     "text": [
      "Traceback (most recent call last):\n",
      "  File \"h:\\Projects\\split_vae\\datasource.py\", line 428, in _initialise\n",
      "    seg = self.process_validate_segment(seg, f)\n",
      "  File \"h:\\Projects\\split_vae\\datasource.py\", line 485, in process_validate_segment\n",
      "    'beats': get_beats(ecg_cleaned, self.hz, self.rr_seg_dim, n_beat=2) if self.is_ecg_beats else [],\n",
      "  File \"h:\\Projects\\split_vae\\datasource.py\", line 82, in get_beats\n",
      "    beats = nk.ecg_segment(y, rpeaks=None, sampling_rate=hz, show=False)\n",
      "  File \"c:\\Users\\s222165064\\.conda\\envs\\split_vae\\lib\\site-packages\\neurokit2\\ecg\\ecg_segment.py\", line 64, in ecg_segment\n",
      "    heartbeats = epochs_create(\n",
      "  File \"c:\\Users\\s222165064\\.conda\\envs\\split_vae\\lib\\site-packages\\neurokit2\\epochs\\epochs_create.py\", line 164, in epochs_create\n",
      "    epoch_max_duration = int(max((i * sampling_rate for i in parameters[\"duration\"])))\n",
      "ValueError: cannot convert float NaN to integer\n",
      "\n",
      "Traceback (most recent call last):\n",
      "  File \"h:\\Projects\\split_vae\\datasource.py\", line 428, in _initialise\n",
      "    seg = self.process_validate_segment(seg, f)\n",
      "  File \"h:\\Projects\\split_vae\\datasource.py\", line 485, in process_validate_segment\n",
      "    'beats': get_beats(ecg_cleaned, self.hz, self.rr_seg_dim, n_beat=2) if self.is_ecg_beats else [],\n",
      "  File \"h:\\Projects\\split_vae\\datasource.py\", line 82, in get_beats\n",
      "    beats = nk.ecg_segment(y, rpeaks=None, sampling_rate=hz, show=False)\n",
      "  File \"c:\\Users\\s222165064\\.conda\\envs\\split_vae\\lib\\site-packages\\neurokit2\\ecg\\ecg_segment.py\", line 64, in ecg_segment\n",
      "    heartbeats = epochs_create(\n",
      "  File \"c:\\Users\\s222165064\\.conda\\envs\\split_vae\\lib\\site-packages\\neurokit2\\epochs\\epochs_create.py\", line 164, in epochs_create\n",
      "    epoch_max_duration = int(max((i * sampling_rate for i in parameters[\"duration\"])))\n",
      "ValueError: cannot convert float NaN to integer\n",
      "\n"
     ]
    },
    {
     "name": "stderr",
     "output_type": "stream",
     "text": [
      "c:\\Users\\s222165064\\.conda\\envs\\split_vae\\lib\\site-packages\\neurokit2\\signal\\signal_period.py:84: NeuroKitWarning: Too few peaks detected to compute the rate. Returning empty vector.\n",
      "  warn(\n"
     ]
    },
    {
     "name": "stdout",
     "output_type": "stream",
     "text": [
      "Traceback (most recent call last):\n",
      "  File \"h:\\Projects\\split_vae\\datasource.py\", line 428, in _initialise\n",
      "    seg = self.process_validate_segment(seg, f)\n",
      "  File \"h:\\Projects\\split_vae\\datasource.py\", line 485, in process_validate_segment\n",
      "    'beats': get_beats(ecg_cleaned, self.hz, self.rr_seg_dim, n_beat=2) if self.is_ecg_beats else [],\n",
      "  File \"h:\\Projects\\split_vae\\datasource.py\", line 82, in get_beats\n",
      "    beats = nk.ecg_segment(y, rpeaks=None, sampling_rate=hz, show=False)\n",
      "  File \"c:\\Users\\s222165064\\.conda\\envs\\split_vae\\lib\\site-packages\\neurokit2\\ecg\\ecg_segment.py\", line 64, in ecg_segment\n",
      "    heartbeats = epochs_create(\n",
      "  File \"c:\\Users\\s222165064\\.conda\\envs\\split_vae\\lib\\site-packages\\neurokit2\\epochs\\epochs_create.py\", line 164, in epochs_create\n",
      "    epoch_max_duration = int(max((i * sampling_rate for i in parameters[\"duration\"])))\n",
      "ValueError: cannot convert float NaN to integer\n",
      "\n"
     ]
    },
    {
     "name": "stderr",
     "output_type": "stream",
     "text": [
      "c:\\Users\\s222165064\\.conda\\envs\\split_vae\\lib\\site-packages\\neurokit2\\signal\\signal_fixpeaks.py:307: RuntimeWarning: invalid value encountered in divide\n",
      "  mrrs /= th2\n",
      "c:\\Users\\s222165064\\.conda\\envs\\split_vae\\lib\\site-packages\\neurokit2\\signal\\signal_period.py:84: NeuroKitWarning: Too few peaks detected to compute the rate. Returning empty vector.\n",
      "  warn(\n"
     ]
    },
    {
     "name": "stdout",
     "output_type": "stream",
     "text": [
      "Traceback (most recent call last):\n",
      "  File \"h:\\Projects\\split_vae\\datasource.py\", line 428, in _initialise\n",
      "    seg = self.process_validate_segment(seg, f)\n",
      "  File \"h:\\Projects\\split_vae\\datasource.py\", line 485, in process_validate_segment\n",
      "    'beats': get_beats(ecg_cleaned, self.hz, self.rr_seg_dim, n_beat=2) if self.is_ecg_beats else [],\n",
      "  File \"h:\\Projects\\split_vae\\datasource.py\", line 82, in get_beats\n",
      "    beats = nk.ecg_segment(y, rpeaks=None, sampling_rate=hz, show=False)\n",
      "  File \"c:\\Users\\s222165064\\.conda\\envs\\split_vae\\lib\\site-packages\\neurokit2\\ecg\\ecg_segment.py\", line 64, in ecg_segment\n",
      "    heartbeats = epochs_create(\n",
      "  File \"c:\\Users\\s222165064\\.conda\\envs\\split_vae\\lib\\site-packages\\neurokit2\\epochs\\epochs_create.py\", line 164, in epochs_create\n",
      "    epoch_max_duration = int(max((i * sampling_rate for i in parameters[\"duration\"])))\n",
      "ValueError: cannot convert float NaN to integer\n",
      "\n"
     ]
    },
    {
     "name": "stderr",
     "output_type": "stream",
     "text": [
      "c:\\Users\\s222165064\\.conda\\envs\\split_vae\\lib\\site-packages\\neurokit2\\signal\\signal_period.py:84: NeuroKitWarning: Too few peaks detected to compute the rate. Returning empty vector.\n",
      "  warn(\n",
      "c:\\Users\\s222165064\\.conda\\envs\\split_vae\\lib\\site-packages\\neurokit2\\signal\\signal_period.py:84: NeuroKitWarning: Too few peaks detected to compute the rate. Returning empty vector.\n",
      "  warn(\n"
     ]
    },
    {
     "name": "stdout",
     "output_type": "stream",
     "text": [
      "Traceback (most recent call last):\n",
      "  File \"h:\\Projects\\split_vae\\datasource.py\", line 428, in _initialise\n",
      "    seg = self.process_validate_segment(seg, f)\n",
      "  File \"h:\\Projects\\split_vae\\datasource.py\", line 485, in process_validate_segment\n",
      "    'beats': get_beats(ecg_cleaned, self.hz, self.rr_seg_dim, n_beat=2) if self.is_ecg_beats else [],\n",
      "  File \"h:\\Projects\\split_vae\\datasource.py\", line 82, in get_beats\n",
      "    beats = nk.ecg_segment(y, rpeaks=None, sampling_rate=hz, show=False)\n",
      "  File \"c:\\Users\\s222165064\\.conda\\envs\\split_vae\\lib\\site-packages\\neurokit2\\ecg\\ecg_segment.py\", line 64, in ecg_segment\n",
      "    heartbeats = epochs_create(\n",
      "  File \"c:\\Users\\s222165064\\.conda\\envs\\split_vae\\lib\\site-packages\\neurokit2\\epochs\\epochs_create.py\", line 164, in epochs_create\n",
      "    epoch_max_duration = int(max((i * sampling_rate for i in parameters[\"duration\"])))\n",
      "ValueError: cannot convert float NaN to integer\n",
      "\n",
      "Traceback (most recent call last):\n",
      "  File \"h:\\Projects\\split_vae\\datasource.py\", line 428, in _initialise\n",
      "    seg = self.process_validate_segment(seg, f)\n",
      "  File \"h:\\Projects\\split_vae\\datasource.py\", line 485, in process_validate_segment\n",
      "    'beats': get_beats(ecg_cleaned, self.hz, self.rr_seg_dim, n_beat=2) if self.is_ecg_beats else [],\n",
      "  File \"h:\\Projects\\split_vae\\datasource.py\", line 82, in get_beats\n",
      "    beats = nk.ecg_segment(y, rpeaks=None, sampling_rate=hz, show=False)\n",
      "  File \"c:\\Users\\s222165064\\.conda\\envs\\split_vae\\lib\\site-packages\\neurokit2\\ecg\\ecg_segment.py\", line 64, in ecg_segment\n",
      "    heartbeats = epochs_create(\n",
      "  File \"c:\\Users\\s222165064\\.conda\\envs\\split_vae\\lib\\site-packages\\neurokit2\\epochs\\epochs_create.py\", line 164, in epochs_create\n",
      "    epoch_max_duration = int(max((i * sampling_rate for i in parameters[\"duration\"])))\n",
      "ValueError: cannot convert float NaN to integer\n",
      "\n"
     ]
    },
    {
     "name": "stderr",
     "output_type": "stream",
     "text": [
      "c:\\Users\\s222165064\\.conda\\envs\\split_vae\\lib\\site-packages\\neurokit2\\signal\\signal_period.py:84: NeuroKitWarning: Too few peaks detected to compute the rate. Returning empty vector.\n",
      "  warn(\n",
      "c:\\Users\\s222165064\\.conda\\envs\\split_vae\\lib\\site-packages\\neurokit2\\signal\\signal_period.py:84: NeuroKitWarning: Too few peaks detected to compute the rate. Returning empty vector.\n",
      "  warn(\n"
     ]
    },
    {
     "name": "stdout",
     "output_type": "stream",
     "text": [
      "Traceback (most recent call last):\n",
      "  File \"h:\\Projects\\split_vae\\datasource.py\", line 428, in _initialise\n",
      "    seg = self.process_validate_segment(seg, f)\n",
      "  File \"h:\\Projects\\split_vae\\datasource.py\", line 485, in process_validate_segment\n",
      "    'beats': get_beats(ecg_cleaned, self.hz, self.rr_seg_dim, n_beat=2) if self.is_ecg_beats else [],\n",
      "  File \"h:\\Projects\\split_vae\\datasource.py\", line 82, in get_beats\n",
      "    beats = nk.ecg_segment(y, rpeaks=None, sampling_rate=hz, show=False)\n",
      "  File \"c:\\Users\\s222165064\\.conda\\envs\\split_vae\\lib\\site-packages\\neurokit2\\ecg\\ecg_segment.py\", line 64, in ecg_segment\n",
      "    heartbeats = epochs_create(\n",
      "  File \"c:\\Users\\s222165064\\.conda\\envs\\split_vae\\lib\\site-packages\\neurokit2\\epochs\\epochs_create.py\", line 164, in epochs_create\n",
      "    epoch_max_duration = int(max((i * sampling_rate for i in parameters[\"duration\"])))\n",
      "ValueError: cannot convert float NaN to integer\n",
      "\n",
      "Traceback (most recent call last):\n",
      "  File \"h:\\Projects\\split_vae\\datasource.py\", line 428, in _initialise\n",
      "    seg = self.process_validate_segment(seg, f)\n",
      "  File \"h:\\Projects\\split_vae\\datasource.py\", line 485, in process_validate_segment\n",
      "    'beats': get_beats(ecg_cleaned, self.hz, self.rr_seg_dim, n_beat=2) if self.is_ecg_beats else [],\n",
      "  File \"h:\\Projects\\split_vae\\datasource.py\", line 82, in get_beats\n",
      "    beats = nk.ecg_segment(y, rpeaks=None, sampling_rate=hz, show=False)\n",
      "  File \"c:\\Users\\s222165064\\.conda\\envs\\split_vae\\lib\\site-packages\\neurokit2\\ecg\\ecg_segment.py\", line 64, in ecg_segment\n",
      "    heartbeats = epochs_create(\n",
      "  File \"c:\\Users\\s222165064\\.conda\\envs\\split_vae\\lib\\site-packages\\neurokit2\\epochs\\epochs_create.py\", line 164, in epochs_create\n",
      "    epoch_max_duration = int(max((i * sampling_rate for i in parameters[\"duration\"])))\n",
      "ValueError: cannot convert float NaN to integer\n",
      "\n"
     ]
    },
    {
     "name": "stderr",
     "output_type": "stream",
     "text": [
      "c:\\Users\\s222165064\\.conda\\envs\\split_vae\\lib\\site-packages\\neurokit2\\signal\\signal_fixpeaks.py:307: RuntimeWarning: invalid value encountered in divide\n",
      "  mrrs /= th2\n",
      "c:\\Users\\s222165064\\.conda\\envs\\split_vae\\lib\\site-packages\\neurokit2\\signal\\signal_period.py:84: NeuroKitWarning: Too few peaks detected to compute the rate. Returning empty vector.\n",
      "  warn(\n",
      "c:\\Users\\s222165064\\.conda\\envs\\split_vae\\lib\\site-packages\\neurokit2\\signal\\signal_period.py:84: NeuroKitWarning: Too few peaks detected to compute the rate. Returning empty vector.\n",
      "  warn(\n"
     ]
    },
    {
     "name": "stdout",
     "output_type": "stream",
     "text": [
      "Traceback (most recent call last):\n",
      "  File \"h:\\Projects\\split_vae\\datasource.py\", line 428, in _initialise\n",
      "    seg = self.process_validate_segment(seg, f)\n",
      "  File \"h:\\Projects\\split_vae\\datasource.py\", line 485, in process_validate_segment\n",
      "    'beats': get_beats(ecg_cleaned, self.hz, self.rr_seg_dim, n_beat=2) if self.is_ecg_beats else [],\n",
      "  File \"h:\\Projects\\split_vae\\datasource.py\", line 82, in get_beats\n",
      "    beats = nk.ecg_segment(y, rpeaks=None, sampling_rate=hz, show=False)\n",
      "  File \"c:\\Users\\s222165064\\.conda\\envs\\split_vae\\lib\\site-packages\\neurokit2\\ecg\\ecg_segment.py\", line 64, in ecg_segment\n",
      "    heartbeats = epochs_create(\n",
      "  File \"c:\\Users\\s222165064\\.conda\\envs\\split_vae\\lib\\site-packages\\neurokit2\\epochs\\epochs_create.py\", line 164, in epochs_create\n",
      "    epoch_max_duration = int(max((i * sampling_rate for i in parameters[\"duration\"])))\n",
      "ValueError: cannot convert float NaN to integer\n",
      "\n",
      "Traceback (most recent call last):\n",
      "  File \"h:\\Projects\\split_vae\\datasource.py\", line 428, in _initialise\n",
      "    seg = self.process_validate_segment(seg, f)\n",
      "  File \"h:\\Projects\\split_vae\\datasource.py\", line 485, in process_validate_segment\n",
      "    'beats': get_beats(ecg_cleaned, self.hz, self.rr_seg_dim, n_beat=2) if self.is_ecg_beats else [],\n",
      "  File \"h:\\Projects\\split_vae\\datasource.py\", line 82, in get_beats\n",
      "    beats = nk.ecg_segment(y, rpeaks=None, sampling_rate=hz, show=False)\n",
      "  File \"c:\\Users\\s222165064\\.conda\\envs\\split_vae\\lib\\site-packages\\neurokit2\\ecg\\ecg_segment.py\", line 64, in ecg_segment\n",
      "    heartbeats = epochs_create(\n",
      "  File \"c:\\Users\\s222165064\\.conda\\envs\\split_vae\\lib\\site-packages\\neurokit2\\epochs\\epochs_create.py\", line 164, in epochs_create\n",
      "    epoch_max_duration = int(max((i * sampling_rate for i in parameters[\"duration\"])))\n",
      "ValueError: cannot convert float NaN to integer\n",
      "\n"
     ]
    },
    {
     "name": "stderr",
     "output_type": "stream",
     "text": [
      "c:\\Users\\s222165064\\.conda\\envs\\split_vae\\lib\\site-packages\\neurokit2\\signal\\signal_fixpeaks.py:307: RuntimeWarning: invalid value encountered in divide\n",
      "  mrrs /= th2\n",
      "c:\\Users\\s222165064\\.conda\\envs\\split_vae\\lib\\site-packages\\neurokit2\\signal\\signal_period.py:84: NeuroKitWarning: Too few peaks detected to compute the rate. Returning empty vector.\n",
      "  warn(\n",
      "c:\\Users\\s222165064\\.conda\\envs\\split_vae\\lib\\site-packages\\neurokit2\\signal\\signal_fixpeaks.py:307: RuntimeWarning: invalid value encountered in divide\n",
      "  mrrs /= th2\n",
      "c:\\Users\\s222165064\\.conda\\envs\\split_vae\\lib\\site-packages\\neurokit2\\signal\\signal_period.py:84: NeuroKitWarning: Too few peaks detected to compute the rate. Returning empty vector.\n",
      "  warn(\n"
     ]
    },
    {
     "name": "stdout",
     "output_type": "stream",
     "text": [
      "Traceback (most recent call last):\n",
      "  File \"h:\\Projects\\split_vae\\datasource.py\", line 428, in _initialise\n",
      "    seg = self.process_validate_segment(seg, f)\n",
      "  File \"h:\\Projects\\split_vae\\datasource.py\", line 485, in process_validate_segment\n",
      "    'beats': get_beats(ecg_cleaned, self.hz, self.rr_seg_dim, n_beat=2) if self.is_ecg_beats else [],\n",
      "  File \"h:\\Projects\\split_vae\\datasource.py\", line 82, in get_beats\n",
      "    beats = nk.ecg_segment(y, rpeaks=None, sampling_rate=hz, show=False)\n",
      "  File \"c:\\Users\\s222165064\\.conda\\envs\\split_vae\\lib\\site-packages\\neurokit2\\ecg\\ecg_segment.py\", line 64, in ecg_segment\n",
      "    heartbeats = epochs_create(\n",
      "  File \"c:\\Users\\s222165064\\.conda\\envs\\split_vae\\lib\\site-packages\\neurokit2\\epochs\\epochs_create.py\", line 164, in epochs_create\n",
      "    epoch_max_duration = int(max((i * sampling_rate for i in parameters[\"duration\"])))\n",
      "ValueError: cannot convert float NaN to integer\n",
      "\n",
      "Traceback (most recent call last):\n",
      "  File \"h:\\Projects\\split_vae\\datasource.py\", line 428, in _initialise\n",
      "    seg = self.process_validate_segment(seg, f)\n",
      "  File \"h:\\Projects\\split_vae\\datasource.py\", line 485, in process_validate_segment\n",
      "    'beats': get_beats(ecg_cleaned, self.hz, self.rr_seg_dim, n_beat=2) if self.is_ecg_beats else [],\n",
      "  File \"h:\\Projects\\split_vae\\datasource.py\", line 82, in get_beats\n",
      "    beats = nk.ecg_segment(y, rpeaks=None, sampling_rate=hz, show=False)\n",
      "  File \"c:\\Users\\s222165064\\.conda\\envs\\split_vae\\lib\\site-packages\\neurokit2\\ecg\\ecg_segment.py\", line 64, in ecg_segment\n",
      "    heartbeats = epochs_create(\n",
      "  File \"c:\\Users\\s222165064\\.conda\\envs\\split_vae\\lib\\site-packages\\neurokit2\\epochs\\epochs_create.py\", line 164, in epochs_create\n",
      "    epoch_max_duration = int(max((i * sampling_rate for i in parameters[\"duration\"])))\n",
      "ValueError: cannot convert float NaN to integer\n",
      "\n"
     ]
    },
    {
     "name": "stderr",
     "output_type": "stream",
     "text": [
      "c:\\Users\\s222165064\\.conda\\envs\\split_vae\\lib\\site-packages\\neurokit2\\signal\\signal_period.py:84: NeuroKitWarning: Too few peaks detected to compute the rate. Returning empty vector.\n",
      "  warn(\n"
     ]
    },
    {
     "name": "stdout",
     "output_type": "stream",
     "text": [
      "Traceback (most recent call last):\n",
      "  File \"h:\\Projects\\split_vae\\datasource.py\", line 428, in _initialise\n",
      "    seg = self.process_validate_segment(seg, f)\n",
      "  File \"h:\\Projects\\split_vae\\datasource.py\", line 485, in process_validate_segment\n",
      "    'beats': get_beats(ecg_cleaned, self.hz, self.rr_seg_dim, n_beat=2) if self.is_ecg_beats else [],\n",
      "  File \"h:\\Projects\\split_vae\\datasource.py\", line 82, in get_beats\n",
      "    beats = nk.ecg_segment(y, rpeaks=None, sampling_rate=hz, show=False)\n",
      "  File \"c:\\Users\\s222165064\\.conda\\envs\\split_vae\\lib\\site-packages\\neurokit2\\ecg\\ecg_segment.py\", line 64, in ecg_segment\n",
      "    heartbeats = epochs_create(\n",
      "  File \"c:\\Users\\s222165064\\.conda\\envs\\split_vae\\lib\\site-packages\\neurokit2\\epochs\\epochs_create.py\", line 164, in epochs_create\n",
      "    epoch_max_duration = int(max((i * sampling_rate for i in parameters[\"duration\"])))\n",
      "ValueError: cannot convert float NaN to integer\n",
      "\n"
     ]
    },
    {
     "name": "stderr",
     "output_type": "stream",
     "text": [
      "c:\\Users\\s222165064\\.conda\\envs\\split_vae\\lib\\site-packages\\numpy\\core\\fromnumeric.py:3504: RuntimeWarning: Mean of empty slice.\n",
      "  return _methods._mean(a, axis=axis, dtype=dtype,\n",
      "c:\\Users\\s222165064\\.conda\\envs\\split_vae\\lib\\site-packages\\numpy\\core\\_methods.py:129: RuntimeWarning: invalid value encountered in scalar divide\n",
      "  ret = ret.dtype.type(ret / rcount)\n",
      "c:\\Users\\s222165064\\.conda\\envs\\split_vae\\lib\\site-packages\\neurokit2\\signal\\signal_period.py:84: NeuroKitWarning: Too few peaks detected to compute the rate. Returning empty vector.\n",
      "  warn(\n",
      "c:\\Users\\s222165064\\.conda\\envs\\split_vae\\lib\\site-packages\\neurokit2\\signal\\signal_fixpeaks.py:307: RuntimeWarning: invalid value encountered in divide\n",
      "  mrrs /= th2\n",
      "c:\\Users\\s222165064\\.conda\\envs\\split_vae\\lib\\site-packages\\neurokit2\\signal\\signal_period.py:84: NeuroKitWarning: Too few peaks detected to compute the rate. Returning empty vector.\n",
      "  warn(\n"
     ]
    },
    {
     "name": "stdout",
     "output_type": "stream",
     "text": [
      "Traceback (most recent call last):\n",
      "  File \"h:\\Projects\\split_vae\\datasource.py\", line 428, in _initialise\n",
      "    seg = self.process_validate_segment(seg, f)\n",
      "  File \"h:\\Projects\\split_vae\\datasource.py\", line 485, in process_validate_segment\n",
      "    'beats': get_beats(ecg_cleaned, self.hz, self.rr_seg_dim, n_beat=2) if self.is_ecg_beats else [],\n",
      "  File \"h:\\Projects\\split_vae\\datasource.py\", line 82, in get_beats\n",
      "    beats = nk.ecg_segment(y, rpeaks=None, sampling_rate=hz, show=False)\n",
      "  File \"c:\\Users\\s222165064\\.conda\\envs\\split_vae\\lib\\site-packages\\neurokit2\\ecg\\ecg_segment.py\", line 64, in ecg_segment\n",
      "    heartbeats = epochs_create(\n",
      "  File \"c:\\Users\\s222165064\\.conda\\envs\\split_vae\\lib\\site-packages\\neurokit2\\epochs\\epochs_create.py\", line 164, in epochs_create\n",
      "    epoch_max_duration = int(max((i * sampling_rate for i in parameters[\"duration\"])))\n",
      "ValueError: cannot convert float NaN to integer\n",
      "\n",
      "Traceback (most recent call last):\n",
      "  File \"h:\\Projects\\split_vae\\datasource.py\", line 428, in _initialise\n",
      "    seg = self.process_validate_segment(seg, f)\n",
      "  File \"h:\\Projects\\split_vae\\datasource.py\", line 485, in process_validate_segment\n",
      "    'beats': get_beats(ecg_cleaned, self.hz, self.rr_seg_dim, n_beat=2) if self.is_ecg_beats else [],\n",
      "  File \"h:\\Projects\\split_vae\\datasource.py\", line 82, in get_beats\n",
      "    beats = nk.ecg_segment(y, rpeaks=None, sampling_rate=hz, show=False)\n",
      "  File \"c:\\Users\\s222165064\\.conda\\envs\\split_vae\\lib\\site-packages\\neurokit2\\ecg\\ecg_segment.py\", line 64, in ecg_segment\n",
      "    heartbeats = epochs_create(\n",
      "  File \"c:\\Users\\s222165064\\.conda\\envs\\split_vae\\lib\\site-packages\\neurokit2\\epochs\\epochs_create.py\", line 164, in epochs_create\n",
      "    epoch_max_duration = int(max((i * sampling_rate for i in parameters[\"duration\"])))\n",
      "ValueError: cannot convert float NaN to integer\n",
      "\n"
     ]
    },
    {
     "name": "stderr",
     "output_type": "stream",
     "text": [
      "c:\\Users\\s222165064\\.conda\\envs\\split_vae\\lib\\site-packages\\neurokit2\\signal\\signal_fixpeaks.py:307: RuntimeWarning: invalid value encountered in divide\n",
      "  mrrs /= th2\n",
      "c:\\Users\\s222165064\\.conda\\envs\\split_vae\\lib\\site-packages\\neurokit2\\signal\\signal_period.py:84: NeuroKitWarning: Too few peaks detected to compute the rate. Returning empty vector.\n",
      "  warn(\n",
      "c:\\Users\\s222165064\\.conda\\envs\\split_vae\\lib\\site-packages\\neurokit2\\signal\\signal_fixpeaks.py:307: RuntimeWarning: invalid value encountered in divide\n",
      "  mrrs /= th2\n",
      "c:\\Users\\s222165064\\.conda\\envs\\split_vae\\lib\\site-packages\\neurokit2\\signal\\signal_period.py:84: NeuroKitWarning: Too few peaks detected to compute the rate. Returning empty vector.\n",
      "  warn(\n"
     ]
    },
    {
     "name": "stdout",
     "output_type": "stream",
     "text": [
      "Traceback (most recent call last):\n",
      "  File \"h:\\Projects\\split_vae\\datasource.py\", line 428, in _initialise\n",
      "    seg = self.process_validate_segment(seg, f)\n",
      "  File \"h:\\Projects\\split_vae\\datasource.py\", line 485, in process_validate_segment\n",
      "    'beats': get_beats(ecg_cleaned, self.hz, self.rr_seg_dim, n_beat=2) if self.is_ecg_beats else [],\n",
      "  File \"h:\\Projects\\split_vae\\datasource.py\", line 82, in get_beats\n",
      "    beats = nk.ecg_segment(y, rpeaks=None, sampling_rate=hz, show=False)\n",
      "  File \"c:\\Users\\s222165064\\.conda\\envs\\split_vae\\lib\\site-packages\\neurokit2\\ecg\\ecg_segment.py\", line 64, in ecg_segment\n",
      "    heartbeats = epochs_create(\n",
      "  File \"c:\\Users\\s222165064\\.conda\\envs\\split_vae\\lib\\site-packages\\neurokit2\\epochs\\epochs_create.py\", line 164, in epochs_create\n",
      "    epoch_max_duration = int(max((i * sampling_rate for i in parameters[\"duration\"])))\n",
      "ValueError: cannot convert float NaN to integer\n",
      "\n",
      "Traceback (most recent call last):\n",
      "  File \"h:\\Projects\\split_vae\\datasource.py\", line 428, in _initialise\n",
      "    seg = self.process_validate_segment(seg, f)\n",
      "  File \"h:\\Projects\\split_vae\\datasource.py\", line 485, in process_validate_segment\n",
      "    'beats': get_beats(ecg_cleaned, self.hz, self.rr_seg_dim, n_beat=2) if self.is_ecg_beats else [],\n",
      "  File \"h:\\Projects\\split_vae\\datasource.py\", line 82, in get_beats\n",
      "    beats = nk.ecg_segment(y, rpeaks=None, sampling_rate=hz, show=False)\n",
      "  File \"c:\\Users\\s222165064\\.conda\\envs\\split_vae\\lib\\site-packages\\neurokit2\\ecg\\ecg_segment.py\", line 64, in ecg_segment\n",
      "    heartbeats = epochs_create(\n",
      "  File \"c:\\Users\\s222165064\\.conda\\envs\\split_vae\\lib\\site-packages\\neurokit2\\epochs\\epochs_create.py\", line 164, in epochs_create\n",
      "    epoch_max_duration = int(max((i * sampling_rate for i in parameters[\"duration\"])))\n",
      "ValueError: cannot convert float NaN to integer\n",
      "\n"
     ]
    },
    {
     "name": "stderr",
     "output_type": "stream",
     "text": [
      "c:\\Users\\s222165064\\.conda\\envs\\split_vae\\lib\\site-packages\\neurokit2\\signal\\signal_period.py:84: NeuroKitWarning: Too few peaks detected to compute the rate. Returning empty vector.\n",
      "  warn(\n",
      "c:\\Users\\s222165064\\.conda\\envs\\split_vae\\lib\\site-packages\\numpy\\core\\fromnumeric.py:3504: RuntimeWarning: Mean of empty slice.\n",
      "  return _methods._mean(a, axis=axis, dtype=dtype,\n",
      "c:\\Users\\s222165064\\.conda\\envs\\split_vae\\lib\\site-packages\\numpy\\core\\_methods.py:129: RuntimeWarning: invalid value encountered in scalar divide\n",
      "  ret = ret.dtype.type(ret / rcount)\n",
      "c:\\Users\\s222165064\\.conda\\envs\\split_vae\\lib\\site-packages\\neurokit2\\signal\\signal_period.py:84: NeuroKitWarning: Too few peaks detected to compute the rate. Returning empty vector.\n",
      "  warn(\n"
     ]
    },
    {
     "name": "stdout",
     "output_type": "stream",
     "text": [
      "Traceback (most recent call last):\n",
      "  File \"h:\\Projects\\split_vae\\datasource.py\", line 428, in _initialise\n",
      "    seg = self.process_validate_segment(seg, f)\n",
      "  File \"h:\\Projects\\split_vae\\datasource.py\", line 485, in process_validate_segment\n",
      "    'beats': get_beats(ecg_cleaned, self.hz, self.rr_seg_dim, n_beat=2) if self.is_ecg_beats else [],\n",
      "  File \"h:\\Projects\\split_vae\\datasource.py\", line 82, in get_beats\n",
      "    beats = nk.ecg_segment(y, rpeaks=None, sampling_rate=hz, show=False)\n",
      "  File \"c:\\Users\\s222165064\\.conda\\envs\\split_vae\\lib\\site-packages\\neurokit2\\ecg\\ecg_segment.py\", line 64, in ecg_segment\n",
      "    heartbeats = epochs_create(\n",
      "  File \"c:\\Users\\s222165064\\.conda\\envs\\split_vae\\lib\\site-packages\\neurokit2\\epochs\\epochs_create.py\", line 164, in epochs_create\n",
      "    epoch_max_duration = int(max((i * sampling_rate for i in parameters[\"duration\"])))\n",
      "ValueError: cannot convert float NaN to integer\n",
      "\n",
      "Traceback (most recent call last):\n",
      "  File \"h:\\Projects\\split_vae\\datasource.py\", line 428, in _initialise\n",
      "    seg = self.process_validate_segment(seg, f)\n",
      "  File \"h:\\Projects\\split_vae\\datasource.py\", line 485, in process_validate_segment\n",
      "    'beats': get_beats(ecg_cleaned, self.hz, self.rr_seg_dim, n_beat=2) if self.is_ecg_beats else [],\n",
      "  File \"h:\\Projects\\split_vae\\datasource.py\", line 82, in get_beats\n",
      "    beats = nk.ecg_segment(y, rpeaks=None, sampling_rate=hz, show=False)\n",
      "  File \"c:\\Users\\s222165064\\.conda\\envs\\split_vae\\lib\\site-packages\\neurokit2\\ecg\\ecg_segment.py\", line 64, in ecg_segment\n",
      "    heartbeats = epochs_create(\n",
      "  File \"c:\\Users\\s222165064\\.conda\\envs\\split_vae\\lib\\site-packages\\neurokit2\\epochs\\epochs_create.py\", line 164, in epochs_create\n",
      "    epoch_max_duration = int(max((i * sampling_rate for i in parameters[\"duration\"])))\n",
      "ValueError: cannot convert float NaN to integer\n",
      "\n"
     ]
    },
    {
     "name": "stderr",
     "output_type": "stream",
     "text": [
      "c:\\Users\\s222165064\\.conda\\envs\\split_vae\\lib\\site-packages\\neurokit2\\signal\\signal_fixpeaks.py:307: RuntimeWarning: invalid value encountered in divide\n",
      "  mrrs /= th2\n",
      "c:\\Users\\s222165064\\.conda\\envs\\split_vae\\lib\\site-packages\\neurokit2\\signal\\signal_period.py:84: NeuroKitWarning: Too few peaks detected to compute the rate. Returning empty vector.\n",
      "  warn(\n",
      "c:\\Users\\s222165064\\.conda\\envs\\split_vae\\lib\\site-packages\\neurokit2\\signal\\signal_period.py:84: NeuroKitWarning: Too few peaks detected to compute the rate. Returning empty vector.\n",
      "  warn(\n",
      "c:\\Users\\s222165064\\.conda\\envs\\split_vae\\lib\\site-packages\\neurokit2\\signal\\signal_period.py:84: NeuroKitWarning: Too few peaks detected to compute the rate. Returning empty vector.\n",
      "  warn(\n"
     ]
    },
    {
     "name": "stdout",
     "output_type": "stream",
     "text": [
      "Traceback (most recent call last):\n",
      "  File \"h:\\Projects\\split_vae\\datasource.py\", line 428, in _initialise\n",
      "    seg = self.process_validate_segment(seg, f)\n",
      "  File \"h:\\Projects\\split_vae\\datasource.py\", line 485, in process_validate_segment\n",
      "    'beats': get_beats(ecg_cleaned, self.hz, self.rr_seg_dim, n_beat=2) if self.is_ecg_beats else [],\n",
      "  File \"h:\\Projects\\split_vae\\datasource.py\", line 82, in get_beats\n",
      "    beats = nk.ecg_segment(y, rpeaks=None, sampling_rate=hz, show=False)\n",
      "  File \"c:\\Users\\s222165064\\.conda\\envs\\split_vae\\lib\\site-packages\\neurokit2\\ecg\\ecg_segment.py\", line 64, in ecg_segment\n",
      "    heartbeats = epochs_create(\n",
      "  File \"c:\\Users\\s222165064\\.conda\\envs\\split_vae\\lib\\site-packages\\neurokit2\\epochs\\epochs_create.py\", line 164, in epochs_create\n",
      "    epoch_max_duration = int(max((i * sampling_rate for i in parameters[\"duration\"])))\n",
      "ValueError: cannot convert float NaN to integer\n",
      "\n",
      "Traceback (most recent call last):\n",
      "  File \"h:\\Projects\\split_vae\\datasource.py\", line 428, in _initialise\n",
      "    seg = self.process_validate_segment(seg, f)\n",
      "  File \"h:\\Projects\\split_vae\\datasource.py\", line 485, in process_validate_segment\n",
      "    'beats': get_beats(ecg_cleaned, self.hz, self.rr_seg_dim, n_beat=2) if self.is_ecg_beats else [],\n",
      "  File \"h:\\Projects\\split_vae\\datasource.py\", line 82, in get_beats\n",
      "    beats = nk.ecg_segment(y, rpeaks=None, sampling_rate=hz, show=False)\n",
      "  File \"c:\\Users\\s222165064\\.conda\\envs\\split_vae\\lib\\site-packages\\neurokit2\\ecg\\ecg_segment.py\", line 64, in ecg_segment\n",
      "    heartbeats = epochs_create(\n",
      "  File \"c:\\Users\\s222165064\\.conda\\envs\\split_vae\\lib\\site-packages\\neurokit2\\epochs\\epochs_create.py\", line 164, in epochs_create\n",
      "    epoch_max_duration = int(max((i * sampling_rate for i in parameters[\"duration\"])))\n",
      "ValueError: cannot convert float NaN to integer\n",
      "\n",
      "Traceback (most recent call last):\n",
      "  File \"h:\\Projects\\split_vae\\datasource.py\", line 428, in _initialise\n",
      "    seg = self.process_validate_segment(seg, f)\n",
      "  File \"h:\\Projects\\split_vae\\datasource.py\", line 485, in process_validate_segment\n",
      "    'beats': get_beats(ecg_cleaned, self.hz, self.rr_seg_dim, n_beat=2) if self.is_ecg_beats else [],\n",
      "  File \"h:\\Projects\\split_vae\\datasource.py\", line 82, in get_beats\n",
      "    beats = nk.ecg_segment(y, rpeaks=None, sampling_rate=hz, show=False)\n",
      "  File \"c:\\Users\\s222165064\\.conda\\envs\\split_vae\\lib\\site-packages\\neurokit2\\ecg\\ecg_segment.py\", line 64, in ecg_segment\n",
      "    heartbeats = epochs_create(\n",
      "  File \"c:\\Users\\s222165064\\.conda\\envs\\split_vae\\lib\\site-packages\\neurokit2\\epochs\\epochs_create.py\", line 164, in epochs_create\n",
      "    epoch_max_duration = int(max((i * sampling_rate for i in parameters[\"duration\"])))\n",
      "ValueError: cannot convert float NaN to integer\n",
      "\n"
     ]
    },
    {
     "name": "stderr",
     "output_type": "stream",
     "text": [
      "c:\\Users\\s222165064\\.conda\\envs\\split_vae\\lib\\site-packages\\neurokit2\\signal\\signal_period.py:84: NeuroKitWarning: Too few peaks detected to compute the rate. Returning empty vector.\n",
      "  warn(\n",
      "c:\\Users\\s222165064\\.conda\\envs\\split_vae\\lib\\site-packages\\neurokit2\\signal\\signal_fixpeaks.py:307: RuntimeWarning: invalid value encountered in divide\n",
      "  mrrs /= th2\n",
      "c:\\Users\\s222165064\\.conda\\envs\\split_vae\\lib\\site-packages\\neurokit2\\signal\\signal_period.py:84: NeuroKitWarning: Too few peaks detected to compute the rate. Returning empty vector.\n",
      "  warn(\n",
      "c:\\Users\\s222165064\\.conda\\envs\\split_vae\\lib\\site-packages\\neurokit2\\signal\\signal_fixpeaks.py:307: RuntimeWarning: invalid value encountered in divide\n",
      "  mrrs /= th2\n",
      "c:\\Users\\s222165064\\.conda\\envs\\split_vae\\lib\\site-packages\\neurokit2\\signal\\signal_period.py:84: NeuroKitWarning: Too few peaks detected to compute the rate. Returning empty vector.\n",
      "  warn(\n"
     ]
    },
    {
     "name": "stdout",
     "output_type": "stream",
     "text": [
      "Traceback (most recent call last):\n",
      "  File \"h:\\Projects\\split_vae\\datasource.py\", line 428, in _initialise\n",
      "    seg = self.process_validate_segment(seg, f)\n",
      "  File \"h:\\Projects\\split_vae\\datasource.py\", line 485, in process_validate_segment\n",
      "    'beats': get_beats(ecg_cleaned, self.hz, self.rr_seg_dim, n_beat=2) if self.is_ecg_beats else [],\n",
      "  File \"h:\\Projects\\split_vae\\datasource.py\", line 82, in get_beats\n",
      "    beats = nk.ecg_segment(y, rpeaks=None, sampling_rate=hz, show=False)\n",
      "  File \"c:\\Users\\s222165064\\.conda\\envs\\split_vae\\lib\\site-packages\\neurokit2\\ecg\\ecg_segment.py\", line 64, in ecg_segment\n",
      "    heartbeats = epochs_create(\n",
      "  File \"c:\\Users\\s222165064\\.conda\\envs\\split_vae\\lib\\site-packages\\neurokit2\\epochs\\epochs_create.py\", line 164, in epochs_create\n",
      "    epoch_max_duration = int(max((i * sampling_rate for i in parameters[\"duration\"])))\n",
      "ValueError: cannot convert float NaN to integer\n",
      "\n",
      "Traceback (most recent call last):\n",
      "  File \"h:\\Projects\\split_vae\\datasource.py\", line 428, in _initialise\n",
      "    seg = self.process_validate_segment(seg, f)\n",
      "  File \"h:\\Projects\\split_vae\\datasource.py\", line 485, in process_validate_segment\n",
      "    'beats': get_beats(ecg_cleaned, self.hz, self.rr_seg_dim, n_beat=2) if self.is_ecg_beats else [],\n",
      "  File \"h:\\Projects\\split_vae\\datasource.py\", line 82, in get_beats\n",
      "    beats = nk.ecg_segment(y, rpeaks=None, sampling_rate=hz, show=False)\n",
      "  File \"c:\\Users\\s222165064\\.conda\\envs\\split_vae\\lib\\site-packages\\neurokit2\\ecg\\ecg_segment.py\", line 64, in ecg_segment\n",
      "    heartbeats = epochs_create(\n",
      "  File \"c:\\Users\\s222165064\\.conda\\envs\\split_vae\\lib\\site-packages\\neurokit2\\epochs\\epochs_create.py\", line 164, in epochs_create\n",
      "    epoch_max_duration = int(max((i * sampling_rate for i in parameters[\"duration\"])))\n",
      "ValueError: cannot convert float NaN to integer\n",
      "\n",
      "Traceback (most recent call last):\n",
      "  File \"h:\\Projects\\split_vae\\datasource.py\", line 428, in _initialise\n",
      "    seg = self.process_validate_segment(seg, f)\n",
      "  File \"h:\\Projects\\split_vae\\datasource.py\", line 485, in process_validate_segment\n",
      "    'beats': get_beats(ecg_cleaned, self.hz, self.rr_seg_dim, n_beat=2) if self.is_ecg_beats else [],\n",
      "  File \"h:\\Projects\\split_vae\\datasource.py\", line 82, in get_beats\n",
      "    beats = nk.ecg_segment(y, rpeaks=None, sampling_rate=hz, show=False)\n",
      "  File \"c:\\Users\\s222165064\\.conda\\envs\\split_vae\\lib\\site-packages\\neurokit2\\ecg\\ecg_segment.py\", line 64, in ecg_segment\n",
      "    heartbeats = epochs_create(\n",
      "  File \"c:\\Users\\s222165064\\.conda\\envs\\split_vae\\lib\\site-packages\\neurokit2\\epochs\\epochs_create.py\", line 164, in epochs_create\n",
      "    epoch_max_duration = int(max((i * sampling_rate for i in parameters[\"duration\"])))\n",
      "ValueError: cannot convert float NaN to integer\n",
      "\n"
     ]
    },
    {
     "name": "stderr",
     "output_type": "stream",
     "text": [
      "c:\\Users\\s222165064\\.conda\\envs\\split_vae\\lib\\site-packages\\neurokit2\\signal\\signal_fixpeaks.py:307: RuntimeWarning: invalid value encountered in divide\n",
      "  mrrs /= th2\n",
      "c:\\Users\\s222165064\\.conda\\envs\\split_vae\\lib\\site-packages\\neurokit2\\signal\\signal_period.py:84: NeuroKitWarning: Too few peaks detected to compute the rate. Returning empty vector.\n",
      "  warn(\n",
      "c:\\Users\\s222165064\\.conda\\envs\\split_vae\\lib\\site-packages\\neurokit2\\signal\\signal_fixpeaks.py:307: RuntimeWarning: invalid value encountered in divide\n",
      "  mrrs /= th2\n",
      "c:\\Users\\s222165064\\.conda\\envs\\split_vae\\lib\\site-packages\\neurokit2\\signal\\signal_period.py:84: NeuroKitWarning: Too few peaks detected to compute the rate. Returning empty vector.\n",
      "  warn(\n",
      "c:\\Users\\s222165064\\.conda\\envs\\split_vae\\lib\\site-packages\\neurokit2\\signal\\signal_fixpeaks.py:307: RuntimeWarning: invalid value encountered in divide\n",
      "  mrrs /= th2\n",
      "c:\\Users\\s222165064\\.conda\\envs\\split_vae\\lib\\site-packages\\neurokit2\\signal\\signal_period.py:84: NeuroKitWarning: Too few peaks detected to compute the rate. Returning empty vector.\n",
      "  warn(\n"
     ]
    },
    {
     "name": "stdout",
     "output_type": "stream",
     "text": [
      "Traceback (most recent call last):\n",
      "  File \"h:\\Projects\\split_vae\\datasource.py\", line 428, in _initialise\n",
      "    seg = self.process_validate_segment(seg, f)\n",
      "  File \"h:\\Projects\\split_vae\\datasource.py\", line 485, in process_validate_segment\n",
      "    'beats': get_beats(ecg_cleaned, self.hz, self.rr_seg_dim, n_beat=2) if self.is_ecg_beats else [],\n",
      "  File \"h:\\Projects\\split_vae\\datasource.py\", line 82, in get_beats\n",
      "    beats = nk.ecg_segment(y, rpeaks=None, sampling_rate=hz, show=False)\n",
      "  File \"c:\\Users\\s222165064\\.conda\\envs\\split_vae\\lib\\site-packages\\neurokit2\\ecg\\ecg_segment.py\", line 64, in ecg_segment\n",
      "    heartbeats = epochs_create(\n",
      "  File \"c:\\Users\\s222165064\\.conda\\envs\\split_vae\\lib\\site-packages\\neurokit2\\epochs\\epochs_create.py\", line 164, in epochs_create\n",
      "    epoch_max_duration = int(max((i * sampling_rate for i in parameters[\"duration\"])))\n",
      "ValueError: cannot convert float NaN to integer\n",
      "\n",
      "Traceback (most recent call last):\n",
      "  File \"h:\\Projects\\split_vae\\datasource.py\", line 428, in _initialise\n",
      "    seg = self.process_validate_segment(seg, f)\n",
      "  File \"h:\\Projects\\split_vae\\datasource.py\", line 485, in process_validate_segment\n",
      "    'beats': get_beats(ecg_cleaned, self.hz, self.rr_seg_dim, n_beat=2) if self.is_ecg_beats else [],\n",
      "  File \"h:\\Projects\\split_vae\\datasource.py\", line 82, in get_beats\n",
      "    beats = nk.ecg_segment(y, rpeaks=None, sampling_rate=hz, show=False)\n",
      "  File \"c:\\Users\\s222165064\\.conda\\envs\\split_vae\\lib\\site-packages\\neurokit2\\ecg\\ecg_segment.py\", line 64, in ecg_segment\n",
      "    heartbeats = epochs_create(\n",
      "  File \"c:\\Users\\s222165064\\.conda\\envs\\split_vae\\lib\\site-packages\\neurokit2\\epochs\\epochs_create.py\", line 164, in epochs_create\n",
      "    epoch_max_duration = int(max((i * sampling_rate for i in parameters[\"duration\"])))\n",
      "ValueError: cannot convert float NaN to integer\n",
      "\n",
      "Traceback (most recent call last):\n",
      "  File \"h:\\Projects\\split_vae\\datasource.py\", line 428, in _initialise\n",
      "    seg = self.process_validate_segment(seg, f)\n",
      "  File \"h:\\Projects\\split_vae\\datasource.py\", line 485, in process_validate_segment\n",
      "    'beats': get_beats(ecg_cleaned, self.hz, self.rr_seg_dim, n_beat=2) if self.is_ecg_beats else [],\n",
      "  File \"h:\\Projects\\split_vae\\datasource.py\", line 82, in get_beats\n",
      "    beats = nk.ecg_segment(y, rpeaks=None, sampling_rate=hz, show=False)\n",
      "  File \"c:\\Users\\s222165064\\.conda\\envs\\split_vae\\lib\\site-packages\\neurokit2\\ecg\\ecg_segment.py\", line 64, in ecg_segment\n",
      "    heartbeats = epochs_create(\n",
      "  File \"c:\\Users\\s222165064\\.conda\\envs\\split_vae\\lib\\site-packages\\neurokit2\\epochs\\epochs_create.py\", line 164, in epochs_create\n",
      "    epoch_max_duration = int(max((i * sampling_rate for i in parameters[\"duration\"])))\n",
      "ValueError: cannot convert float NaN to integer\n",
      "\n",
      "Traceback (most recent call last):\n",
      "  File \"h:\\Projects\\split_vae\\datasource.py\", line 428, in _initialise\n",
      "    seg = self.process_validate_segment(seg, f)\n",
      "  File \"h:\\Projects\\split_vae\\datasource.py\", line 485, in process_validate_segment\n",
      "    'beats': get_beats(ecg_cleaned, self.hz, self.rr_seg_dim, n_beat=2) if self.is_ecg_beats else [],\n",
      "  File \"h:\\Projects\\split_vae\\datasource.py\", line 82, in get_beats\n",
      "    beats = nk.ecg_segment(y, rpeaks=None, sampling_rate=hz, show=False)\n",
      "  File \"c:\\Users\\s222165064\\.conda\\envs\\split_vae\\lib\\site-packages\\neurokit2\\ecg\\ecg_segment.py\", line 64, in ecg_segment\n",
      "    heartbeats = epochs_create(\n",
      "  File \"c:\\Users\\s222165064\\.conda\\envs\\split_vae\\lib\\site-packages\\neurokit2\\epochs\\epochs_create.py\", line 164, in epochs_create\n",
      "    epoch_max_duration = int(max((i * sampling_rate for i in parameters[\"duration\"])))\n",
      "ValueError: cannot convert float NaN to integer\n",
      "\n",
      "Traceback (most recent call last):\n",
      "  File \"h:\\Projects\\split_vae\\datasource.py\", line 428, in _initialise\n",
      "    seg = self.process_validate_segment(seg, f)\n",
      "  File \"h:\\Projects\\split_vae\\datasource.py\", line 485, in process_validate_segment\n",
      "    'beats': get_beats(ecg_cleaned, self.hz, self.rr_seg_dim, n_beat=2) if self.is_ecg_beats else [],\n",
      "  File \"h:\\Projects\\split_vae\\datasource.py\", line 82, in get_beats\n",
      "    beats = nk.ecg_segment(y, rpeaks=None, sampling_rate=hz, show=False)\n",
      "  File \"c:\\Users\\s222165064\\.conda\\envs\\split_vae\\lib\\site-packages\\neurokit2\\ecg\\ecg_segment.py\", line 64, in ecg_segment\n",
      "    heartbeats = epochs_create(\n",
      "  File \"c:\\Users\\s222165064\\.conda\\envs\\split_vae\\lib\\site-packages\\neurokit2\\epochs\\epochs_create.py\", line 164, in epochs_create\n",
      "    epoch_max_duration = int(max((i * sampling_rate for i in parameters[\"duration\"])))\n",
      "ValueError: cannot convert float NaN to integer\n",
      "\n",
      "Traceback (most recent call last):\n",
      "  File \"h:\\Projects\\split_vae\\datasource.py\", line 428, in _initialise\n",
      "    seg = self.process_validate_segment(seg, f)\n",
      "  File \"h:\\Projects\\split_vae\\datasource.py\", line 485, in process_validate_segment\n",
      "    'beats': get_beats(ecg_cleaned, self.hz, self.rr_seg_dim, n_beat=2) if self.is_ecg_beats else [],\n",
      "  File \"h:\\Projects\\split_vae\\datasource.py\", line 82, in get_beats\n",
      "    beats = nk.ecg_segment(y, rpeaks=None, sampling_rate=hz, show=False)\n",
      "  File \"c:\\Users\\s222165064\\.conda\\envs\\split_vae\\lib\\site-packages\\neurokit2\\ecg\\ecg_segment.py\", line 64, in ecg_segment\n",
      "    heartbeats = epochs_create(\n",
      "  File \"c:\\Users\\s222165064\\.conda\\envs\\split_vae\\lib\\site-packages\\neurokit2\\epochs\\epochs_create.py\", line 164, in epochs_create\n",
      "    epoch_max_duration = int(max((i * sampling_rate for i in parameters[\"duration\"])))\n",
      "ValueError: cannot convert float NaN to integer\n",
      "\n"
     ]
    },
    {
     "name": "stderr",
     "output_type": "stream",
     "text": [
      "c:\\Users\\s222165064\\.conda\\envs\\split_vae\\lib\\site-packages\\numpy\\core\\fromnumeric.py:3504: RuntimeWarning: Mean of empty slice.\n",
      "  return _methods._mean(a, axis=axis, dtype=dtype,\n",
      "c:\\Users\\s222165064\\.conda\\envs\\split_vae\\lib\\site-packages\\numpy\\core\\_methods.py:129: RuntimeWarning: invalid value encountered in scalar divide\n",
      "  ret = ret.dtype.type(ret / rcount)\n",
      "c:\\Users\\s222165064\\.conda\\envs\\split_vae\\lib\\site-packages\\neurokit2\\signal\\signal_period.py:84: NeuroKitWarning: Too few peaks detected to compute the rate. Returning empty vector.\n",
      "  warn(\n",
      "c:\\Users\\s222165064\\.conda\\envs\\split_vae\\lib\\site-packages\\neurokit2\\signal\\signal_period.py:84: NeuroKitWarning: Too few peaks detected to compute the rate. Returning empty vector.\n",
      "  warn(\n",
      "c:\\Users\\s222165064\\.conda\\envs\\split_vae\\lib\\site-packages\\neurokit2\\signal\\signal_fixpeaks.py:307: RuntimeWarning: invalid value encountered in divide\n",
      "  mrrs /= th2\n",
      "c:\\Users\\s222165064\\.conda\\envs\\split_vae\\lib\\site-packages\\neurokit2\\signal\\signal_period.py:84: NeuroKitWarning: Too few peaks detected to compute the rate. Returning empty vector.\n",
      "  warn(\n",
      "c:\\Users\\s222165064\\.conda\\envs\\split_vae\\lib\\site-packages\\neurokit2\\signal\\signal_period.py:84: NeuroKitWarning: Too few peaks detected to compute the rate. Returning empty vector.\n",
      "  warn(\n",
      "c:\\Users\\s222165064\\.conda\\envs\\split_vae\\lib\\site-packages\\neurokit2\\signal\\signal_fixpeaks.py:307: RuntimeWarning: invalid value encountered in divide\n",
      "  mrrs /= th2\n",
      "c:\\Users\\s222165064\\.conda\\envs\\split_vae\\lib\\site-packages\\neurokit2\\signal\\signal_period.py:84: NeuroKitWarning: Too few peaks detected to compute the rate. Returning empty vector.\n",
      "  warn(\n"
     ]
    },
    {
     "name": "stdout",
     "output_type": "stream",
     "text": [
      "Traceback (most recent call last):\n",
      "  File \"h:\\Projects\\split_vae\\datasource.py\", line 428, in _initialise\n",
      "    seg = self.process_validate_segment(seg, f)\n",
      "  File \"h:\\Projects\\split_vae\\datasource.py\", line 485, in process_validate_segment\n",
      "    'beats': get_beats(ecg_cleaned, self.hz, self.rr_seg_dim, n_beat=2) if self.is_ecg_beats else [],\n",
      "  File \"h:\\Projects\\split_vae\\datasource.py\", line 82, in get_beats\n",
      "    beats = nk.ecg_segment(y, rpeaks=None, sampling_rate=hz, show=False)\n",
      "  File \"c:\\Users\\s222165064\\.conda\\envs\\split_vae\\lib\\site-packages\\neurokit2\\ecg\\ecg_segment.py\", line 64, in ecg_segment\n",
      "    heartbeats = epochs_create(\n",
      "  File \"c:\\Users\\s222165064\\.conda\\envs\\split_vae\\lib\\site-packages\\neurokit2\\epochs\\epochs_create.py\", line 164, in epochs_create\n",
      "    epoch_max_duration = int(max((i * sampling_rate for i in parameters[\"duration\"])))\n",
      "ValueError: cannot convert float NaN to integer\n",
      "\n",
      "Traceback (most recent call last):\n",
      "  File \"h:\\Projects\\split_vae\\datasource.py\", line 428, in _initialise\n",
      "    seg = self.process_validate_segment(seg, f)\n",
      "  File \"h:\\Projects\\split_vae\\datasource.py\", line 485, in process_validate_segment\n",
      "    'beats': get_beats(ecg_cleaned, self.hz, self.rr_seg_dim, n_beat=2) if self.is_ecg_beats else [],\n",
      "  File \"h:\\Projects\\split_vae\\datasource.py\", line 82, in get_beats\n",
      "    beats = nk.ecg_segment(y, rpeaks=None, sampling_rate=hz, show=False)\n",
      "  File \"c:\\Users\\s222165064\\.conda\\envs\\split_vae\\lib\\site-packages\\neurokit2\\ecg\\ecg_segment.py\", line 64, in ecg_segment\n",
      "    heartbeats = epochs_create(\n",
      "  File \"c:\\Users\\s222165064\\.conda\\envs\\split_vae\\lib\\site-packages\\neurokit2\\epochs\\epochs_create.py\", line 164, in epochs_create\n",
      "    epoch_max_duration = int(max((i * sampling_rate for i in parameters[\"duration\"])))\n",
      "ValueError: cannot convert float NaN to integer\n",
      "\n"
     ]
    },
    {
     "name": "stderr",
     "output_type": "stream",
     "text": [
      "c:\\Users\\s222165064\\.conda\\envs\\split_vae\\lib\\site-packages\\neurokit2\\signal\\signal_period.py:84: NeuroKitWarning: Too few peaks detected to compute the rate. Returning empty vector.\n",
      "  warn(\n",
      "c:\\Users\\s222165064\\.conda\\envs\\split_vae\\lib\\site-packages\\neurokit2\\signal\\signal_fixpeaks.py:307: RuntimeWarning: invalid value encountered in divide\n",
      "  mrrs /= th2\n",
      "c:\\Users\\s222165064\\.conda\\envs\\split_vae\\lib\\site-packages\\neurokit2\\signal\\signal_period.py:84: NeuroKitWarning: Too few peaks detected to compute the rate. Returning empty vector.\n",
      "  warn(\n"
     ]
    },
    {
     "name": "stdout",
     "output_type": "stream",
     "text": [
      "Traceback (most recent call last):\n",
      "  File \"h:\\Projects\\split_vae\\datasource.py\", line 428, in _initialise\n",
      "    seg = self.process_validate_segment(seg, f)\n",
      "  File \"h:\\Projects\\split_vae\\datasource.py\", line 485, in process_validate_segment\n",
      "    'beats': get_beats(ecg_cleaned, self.hz, self.rr_seg_dim, n_beat=2) if self.is_ecg_beats else [],\n",
      "  File \"h:\\Projects\\split_vae\\datasource.py\", line 82, in get_beats\n",
      "    beats = nk.ecg_segment(y, rpeaks=None, sampling_rate=hz, show=False)\n",
      "  File \"c:\\Users\\s222165064\\.conda\\envs\\split_vae\\lib\\site-packages\\neurokit2\\ecg\\ecg_segment.py\", line 64, in ecg_segment\n",
      "    heartbeats = epochs_create(\n",
      "  File \"c:\\Users\\s222165064\\.conda\\envs\\split_vae\\lib\\site-packages\\neurokit2\\epochs\\epochs_create.py\", line 164, in epochs_create\n",
      "    epoch_max_duration = int(max((i * sampling_rate for i in parameters[\"duration\"])))\n",
      "ValueError: cannot convert float NaN to integer\n",
      "\n",
      "Traceback (most recent call last):\n",
      "  File \"h:\\Projects\\split_vae\\datasource.py\", line 428, in _initialise\n",
      "    seg = self.process_validate_segment(seg, f)\n",
      "  File \"h:\\Projects\\split_vae\\datasource.py\", line 485, in process_validate_segment\n",
      "    'beats': get_beats(ecg_cleaned, self.hz, self.rr_seg_dim, n_beat=2) if self.is_ecg_beats else [],\n",
      "  File \"h:\\Projects\\split_vae\\datasource.py\", line 82, in get_beats\n",
      "    beats = nk.ecg_segment(y, rpeaks=None, sampling_rate=hz, show=False)\n",
      "  File \"c:\\Users\\s222165064\\.conda\\envs\\split_vae\\lib\\site-packages\\neurokit2\\ecg\\ecg_segment.py\", line 64, in ecg_segment\n",
      "    heartbeats = epochs_create(\n",
      "  File \"c:\\Users\\s222165064\\.conda\\envs\\split_vae\\lib\\site-packages\\neurokit2\\epochs\\epochs_create.py\", line 164, in epochs_create\n",
      "    epoch_max_duration = int(max((i * sampling_rate for i in parameters[\"duration\"])))\n",
      "ValueError: cannot convert float NaN to integer\n",
      "\n"
     ]
    },
    {
     "name": "stderr",
     "output_type": "stream",
     "text": [
      "c:\\Users\\s222165064\\.conda\\envs\\split_vae\\lib\\site-packages\\neurokit2\\signal\\signal_fixpeaks.py:307: RuntimeWarning: invalid value encountered in divide\n",
      "  mrrs /= th2\n",
      "c:\\Users\\s222165064\\.conda\\envs\\split_vae\\lib\\site-packages\\neurokit2\\signal\\signal_period.py:84: NeuroKitWarning: Too few peaks detected to compute the rate. Returning empty vector.\n",
      "  warn(\n"
     ]
    },
    {
     "name": "stdout",
     "output_type": "stream",
     "text": [
      "Traceback (most recent call last):\n",
      "  File \"h:\\Projects\\split_vae\\datasource.py\", line 428, in _initialise\n",
      "    seg = self.process_validate_segment(seg, f)\n",
      "  File \"h:\\Projects\\split_vae\\datasource.py\", line 485, in process_validate_segment\n",
      "    'beats': get_beats(ecg_cleaned, self.hz, self.rr_seg_dim, n_beat=2) if self.is_ecg_beats else [],\n",
      "  File \"h:\\Projects\\split_vae\\datasource.py\", line 82, in get_beats\n",
      "    beats = nk.ecg_segment(y, rpeaks=None, sampling_rate=hz, show=False)\n",
      "  File \"c:\\Users\\s222165064\\.conda\\envs\\split_vae\\lib\\site-packages\\neurokit2\\ecg\\ecg_segment.py\", line 64, in ecg_segment\n",
      "    heartbeats = epochs_create(\n",
      "  File \"c:\\Users\\s222165064\\.conda\\envs\\split_vae\\lib\\site-packages\\neurokit2\\epochs\\epochs_create.py\", line 164, in epochs_create\n",
      "    epoch_max_duration = int(max((i * sampling_rate for i in parameters[\"duration\"])))\n",
      "ValueError: cannot convert float NaN to integer\n",
      "\n"
     ]
    },
    {
     "name": "stderr",
     "output_type": "stream",
     "text": [
      "c:\\Users\\s222165064\\.conda\\envs\\split_vae\\lib\\site-packages\\neurokit2\\signal\\signal_fixpeaks.py:307: RuntimeWarning: invalid value encountered in divide\n",
      "  mrrs /= th2\n",
      "c:\\Users\\s222165064\\.conda\\envs\\split_vae\\lib\\site-packages\\neurokit2\\signal\\signal_period.py:84: NeuroKitWarning: Too few peaks detected to compute the rate. Returning empty vector.\n",
      "  warn(\n"
     ]
    },
    {
     "name": "stdout",
     "output_type": "stream",
     "text": [
      "Traceback (most recent call last):\n",
      "  File \"h:\\Projects\\split_vae\\datasource.py\", line 428, in _initialise\n",
      "    seg = self.process_validate_segment(seg, f)\n",
      "  File \"h:\\Projects\\split_vae\\datasource.py\", line 485, in process_validate_segment\n",
      "    'beats': get_beats(ecg_cleaned, self.hz, self.rr_seg_dim, n_beat=2) if self.is_ecg_beats else [],\n",
      "  File \"h:\\Projects\\split_vae\\datasource.py\", line 82, in get_beats\n",
      "    beats = nk.ecg_segment(y, rpeaks=None, sampling_rate=hz, show=False)\n",
      "  File \"c:\\Users\\s222165064\\.conda\\envs\\split_vae\\lib\\site-packages\\neurokit2\\ecg\\ecg_segment.py\", line 64, in ecg_segment\n",
      "    heartbeats = epochs_create(\n",
      "  File \"c:\\Users\\s222165064\\.conda\\envs\\split_vae\\lib\\site-packages\\neurokit2\\epochs\\epochs_create.py\", line 164, in epochs_create\n",
      "    epoch_max_duration = int(max((i * sampling_rate for i in parameters[\"duration\"])))\n",
      "ValueError: cannot convert float NaN to integer\n",
      "\n"
     ]
    },
    {
     "name": "stderr",
     "output_type": "stream",
     "text": [
      "c:\\Users\\s222165064\\.conda\\envs\\split_vae\\lib\\site-packages\\neurokit2\\signal\\signal_fixpeaks.py:307: RuntimeWarning: invalid value encountered in divide\n",
      "  mrrs /= th2\n",
      "c:\\Users\\s222165064\\.conda\\envs\\split_vae\\lib\\site-packages\\neurokit2\\signal\\signal_period.py:84: NeuroKitWarning: Too few peaks detected to compute the rate. Returning empty vector.\n",
      "  warn(\n"
     ]
    },
    {
     "name": "stdout",
     "output_type": "stream",
     "text": [
      "Traceback (most recent call last):\n",
      "  File \"h:\\Projects\\split_vae\\datasource.py\", line 428, in _initialise\n",
      "    seg = self.process_validate_segment(seg, f)\n",
      "  File \"h:\\Projects\\split_vae\\datasource.py\", line 485, in process_validate_segment\n",
      "    'beats': get_beats(ecg_cleaned, self.hz, self.rr_seg_dim, n_beat=2) if self.is_ecg_beats else [],\n",
      "  File \"h:\\Projects\\split_vae\\datasource.py\", line 82, in get_beats\n",
      "    beats = nk.ecg_segment(y, rpeaks=None, sampling_rate=hz, show=False)\n",
      "  File \"c:\\Users\\s222165064\\.conda\\envs\\split_vae\\lib\\site-packages\\neurokit2\\ecg\\ecg_segment.py\", line 64, in ecg_segment\n",
      "    heartbeats = epochs_create(\n",
      "  File \"c:\\Users\\s222165064\\.conda\\envs\\split_vae\\lib\\site-packages\\neurokit2\\epochs\\epochs_create.py\", line 164, in epochs_create\n",
      "    epoch_max_duration = int(max((i * sampling_rate for i in parameters[\"duration\"])))\n",
      "ValueError: cannot convert float NaN to integer\n",
      "\n"
     ]
    },
    {
     "name": "stderr",
     "output_type": "stream",
     "text": [
      "c:\\Users\\s222165064\\.conda\\envs\\split_vae\\lib\\site-packages\\neurokit2\\signal\\signal_period.py:84: NeuroKitWarning: Too few peaks detected to compute the rate. Returning empty vector.\n",
      "  warn(\n",
      "c:\\Users\\s222165064\\.conda\\envs\\split_vae\\lib\\site-packages\\neurokit2\\signal\\signal_fixpeaks.py:307: RuntimeWarning: invalid value encountered in divide\n",
      "  mrrs /= th2\n",
      "c:\\Users\\s222165064\\.conda\\envs\\split_vae\\lib\\site-packages\\neurokit2\\signal\\signal_period.py:84: NeuroKitWarning: Too few peaks detected to compute the rate. Returning empty vector.\n",
      "  warn(\n",
      "c:\\Users\\s222165064\\.conda\\envs\\split_vae\\lib\\site-packages\\neurokit2\\signal\\signal_fixpeaks.py:307: RuntimeWarning: invalid value encountered in divide\n",
      "  mrrs /= th2\n",
      "c:\\Users\\s222165064\\.conda\\envs\\split_vae\\lib\\site-packages\\neurokit2\\signal\\signal_period.py:84: NeuroKitWarning: Too few peaks detected to compute the rate. Returning empty vector.\n",
      "  warn(\n"
     ]
    },
    {
     "name": "stdout",
     "output_type": "stream",
     "text": [
      "Traceback (most recent call last):\n",
      "  File \"h:\\Projects\\split_vae\\datasource.py\", line 428, in _initialise\n",
      "    seg = self.process_validate_segment(seg, f)\n",
      "  File \"h:\\Projects\\split_vae\\datasource.py\", line 485, in process_validate_segment\n",
      "    'beats': get_beats(ecg_cleaned, self.hz, self.rr_seg_dim, n_beat=2) if self.is_ecg_beats else [],\n",
      "  File \"h:\\Projects\\split_vae\\datasource.py\", line 82, in get_beats\n",
      "    beats = nk.ecg_segment(y, rpeaks=None, sampling_rate=hz, show=False)\n",
      "  File \"c:\\Users\\s222165064\\.conda\\envs\\split_vae\\lib\\site-packages\\neurokit2\\ecg\\ecg_segment.py\", line 64, in ecg_segment\n",
      "    heartbeats = epochs_create(\n",
      "  File \"c:\\Users\\s222165064\\.conda\\envs\\split_vae\\lib\\site-packages\\neurokit2\\epochs\\epochs_create.py\", line 164, in epochs_create\n",
      "    epoch_max_duration = int(max((i * sampling_rate for i in parameters[\"duration\"])))\n",
      "ValueError: cannot convert float NaN to integer\n",
      "\n",
      "Traceback (most recent call last):\n",
      "  File \"h:\\Projects\\split_vae\\datasource.py\", line 428, in _initialise\n",
      "    seg = self.process_validate_segment(seg, f)\n",
      "  File \"h:\\Projects\\split_vae\\datasource.py\", line 485, in process_validate_segment\n",
      "    'beats': get_beats(ecg_cleaned, self.hz, self.rr_seg_dim, n_beat=2) if self.is_ecg_beats else [],\n",
      "  File \"h:\\Projects\\split_vae\\datasource.py\", line 82, in get_beats\n",
      "    beats = nk.ecg_segment(y, rpeaks=None, sampling_rate=hz, show=False)\n",
      "  File \"c:\\Users\\s222165064\\.conda\\envs\\split_vae\\lib\\site-packages\\neurokit2\\ecg\\ecg_segment.py\", line 64, in ecg_segment\n",
      "    heartbeats = epochs_create(\n",
      "  File \"c:\\Users\\s222165064\\.conda\\envs\\split_vae\\lib\\site-packages\\neurokit2\\epochs\\epochs_create.py\", line 164, in epochs_create\n",
      "    epoch_max_duration = int(max((i * sampling_rate for i in parameters[\"duration\"])))\n",
      "ValueError: cannot convert float NaN to integer\n",
      "\n",
      "Traceback (most recent call last):\n",
      "  File \"h:\\Projects\\split_vae\\datasource.py\", line 428, in _initialise\n",
      "    seg = self.process_validate_segment(seg, f)\n",
      "  File \"h:\\Projects\\split_vae\\datasource.py\", line 485, in process_validate_segment\n",
      "    'beats': get_beats(ecg_cleaned, self.hz, self.rr_seg_dim, n_beat=2) if self.is_ecg_beats else [],\n",
      "  File \"h:\\Projects\\split_vae\\datasource.py\", line 82, in get_beats\n",
      "    beats = nk.ecg_segment(y, rpeaks=None, sampling_rate=hz, show=False)\n",
      "  File \"c:\\Users\\s222165064\\.conda\\envs\\split_vae\\lib\\site-packages\\neurokit2\\ecg\\ecg_segment.py\", line 64, in ecg_segment\n",
      "    heartbeats = epochs_create(\n",
      "  File \"c:\\Users\\s222165064\\.conda\\envs\\split_vae\\lib\\site-packages\\neurokit2\\epochs\\epochs_create.py\", line 164, in epochs_create\n",
      "    epoch_max_duration = int(max((i * sampling_rate for i in parameters[\"duration\"])))\n",
      "ValueError: cannot convert float NaN to integer\n",
      "\n"
     ]
    },
    {
     "name": "stderr",
     "output_type": "stream",
     "text": [
      "c:\\Users\\s222165064\\.conda\\envs\\split_vae\\lib\\site-packages\\neurokit2\\signal\\signal_fixpeaks.py:307: RuntimeWarning: invalid value encountered in divide\n",
      "  mrrs /= th2\n",
      "c:\\Users\\s222165064\\.conda\\envs\\split_vae\\lib\\site-packages\\neurokit2\\signal\\signal_period.py:84: NeuroKitWarning: Too few peaks detected to compute the rate. Returning empty vector.\n",
      "  warn(\n"
     ]
    },
    {
     "name": "stdout",
     "output_type": "stream",
     "text": [
      "Traceback (most recent call last):\n",
      "  File \"h:\\Projects\\split_vae\\datasource.py\", line 428, in _initialise\n",
      "    seg = self.process_validate_segment(seg, f)\n",
      "  File \"h:\\Projects\\split_vae\\datasource.py\", line 485, in process_validate_segment\n",
      "    'beats': get_beats(ecg_cleaned, self.hz, self.rr_seg_dim, n_beat=2) if self.is_ecg_beats else [],\n",
      "  File \"h:\\Projects\\split_vae\\datasource.py\", line 82, in get_beats\n",
      "    beats = nk.ecg_segment(y, rpeaks=None, sampling_rate=hz, show=False)\n",
      "  File \"c:\\Users\\s222165064\\.conda\\envs\\split_vae\\lib\\site-packages\\neurokit2\\ecg\\ecg_segment.py\", line 64, in ecg_segment\n",
      "    heartbeats = epochs_create(\n",
      "  File \"c:\\Users\\s222165064\\.conda\\envs\\split_vae\\lib\\site-packages\\neurokit2\\epochs\\epochs_create.py\", line 164, in epochs_create\n",
      "    epoch_max_duration = int(max((i * sampling_rate for i in parameters[\"duration\"])))\n",
      "ValueError: cannot convert float NaN to integer\n",
      "\n"
     ]
    },
    {
     "name": "stderr",
     "output_type": "stream",
     "text": [
      "c:\\Users\\s222165064\\.conda\\envs\\split_vae\\lib\\site-packages\\neurokit2\\signal\\signal_period.py:84: NeuroKitWarning: Too few peaks detected to compute the rate. Returning empty vector.\n",
      "  warn(\n",
      "c:\\Users\\s222165064\\.conda\\envs\\split_vae\\lib\\site-packages\\neurokit2\\signal\\signal_period.py:84: NeuroKitWarning: Too few peaks detected to compute the rate. Returning empty vector.\n",
      "  warn(\n"
     ]
    },
    {
     "name": "stdout",
     "output_type": "stream",
     "text": [
      "Traceback (most recent call last):\n",
      "  File \"h:\\Projects\\split_vae\\datasource.py\", line 428, in _initialise\n",
      "    seg = self.process_validate_segment(seg, f)\n",
      "  File \"h:\\Projects\\split_vae\\datasource.py\", line 485, in process_validate_segment\n",
      "    'beats': get_beats(ecg_cleaned, self.hz, self.rr_seg_dim, n_beat=2) if self.is_ecg_beats else [],\n",
      "  File \"h:\\Projects\\split_vae\\datasource.py\", line 82, in get_beats\n",
      "    beats = nk.ecg_segment(y, rpeaks=None, sampling_rate=hz, show=False)\n",
      "  File \"c:\\Users\\s222165064\\.conda\\envs\\split_vae\\lib\\site-packages\\neurokit2\\ecg\\ecg_segment.py\", line 64, in ecg_segment\n",
      "    heartbeats = epochs_create(\n",
      "  File \"c:\\Users\\s222165064\\.conda\\envs\\split_vae\\lib\\site-packages\\neurokit2\\epochs\\epochs_create.py\", line 164, in epochs_create\n",
      "    epoch_max_duration = int(max((i * sampling_rate for i in parameters[\"duration\"])))\n",
      "ValueError: cannot convert float NaN to integer\n",
      "\n",
      "Traceback (most recent call last):\n",
      "  File \"h:\\Projects\\split_vae\\datasource.py\", line 428, in _initialise\n",
      "    seg = self.process_validate_segment(seg, f)\n",
      "  File \"h:\\Projects\\split_vae\\datasource.py\", line 485, in process_validate_segment\n",
      "    'beats': get_beats(ecg_cleaned, self.hz, self.rr_seg_dim, n_beat=2) if self.is_ecg_beats else [],\n",
      "  File \"h:\\Projects\\split_vae\\datasource.py\", line 82, in get_beats\n",
      "    beats = nk.ecg_segment(y, rpeaks=None, sampling_rate=hz, show=False)\n",
      "  File \"c:\\Users\\s222165064\\.conda\\envs\\split_vae\\lib\\site-packages\\neurokit2\\ecg\\ecg_segment.py\", line 64, in ecg_segment\n",
      "    heartbeats = epochs_create(\n",
      "  File \"c:\\Users\\s222165064\\.conda\\envs\\split_vae\\lib\\site-packages\\neurokit2\\epochs\\epochs_create.py\", line 164, in epochs_create\n",
      "    epoch_max_duration = int(max((i * sampling_rate for i in parameters[\"duration\"])))\n",
      "ValueError: cannot convert float NaN to integer\n",
      "\n"
     ]
    },
    {
     "name": "stderr",
     "output_type": "stream",
     "text": [
      "c:\\Users\\s222165064\\.conda\\envs\\split_vae\\lib\\site-packages\\neurokit2\\signal\\signal_period.py:84: NeuroKitWarning: Too few peaks detected to compute the rate. Returning empty vector.\n",
      "  warn(\n"
     ]
    },
    {
     "name": "stdout",
     "output_type": "stream",
     "text": [
      "Traceback (most recent call last):\n",
      "  File \"h:\\Projects\\split_vae\\datasource.py\", line 428, in _initialise\n",
      "    seg = self.process_validate_segment(seg, f)\n",
      "  File \"h:\\Projects\\split_vae\\datasource.py\", line 485, in process_validate_segment\n",
      "    'beats': get_beats(ecg_cleaned, self.hz, self.rr_seg_dim, n_beat=2) if self.is_ecg_beats else [],\n",
      "  File \"h:\\Projects\\split_vae\\datasource.py\", line 82, in get_beats\n",
      "    beats = nk.ecg_segment(y, rpeaks=None, sampling_rate=hz, show=False)\n",
      "  File \"c:\\Users\\s222165064\\.conda\\envs\\split_vae\\lib\\site-packages\\neurokit2\\ecg\\ecg_segment.py\", line 64, in ecg_segment\n",
      "    heartbeats = epochs_create(\n",
      "  File \"c:\\Users\\s222165064\\.conda\\envs\\split_vae\\lib\\site-packages\\neurokit2\\epochs\\epochs_create.py\", line 164, in epochs_create\n",
      "    epoch_max_duration = int(max((i * sampling_rate for i in parameters[\"duration\"])))\n",
      "ValueError: cannot convert float NaN to integer\n",
      "\n"
     ]
    },
    {
     "name": "stderr",
     "output_type": "stream",
     "text": [
      "c:\\Users\\s222165064\\.conda\\envs\\split_vae\\lib\\site-packages\\neurokit2\\signal\\signal_fixpeaks.py:307: RuntimeWarning: invalid value encountered in divide\n",
      "  mrrs /= th2\n",
      "c:\\Users\\s222165064\\.conda\\envs\\split_vae\\lib\\site-packages\\neurokit2\\signal\\signal_period.py:84: NeuroKitWarning: Too few peaks detected to compute the rate. Returning empty vector.\n",
      "  warn(\n"
     ]
    },
    {
     "name": "stdout",
     "output_type": "stream",
     "text": [
      "Traceback (most recent call last):\n",
      "  File \"h:\\Projects\\split_vae\\datasource.py\", line 428, in _initialise\n",
      "    seg = self.process_validate_segment(seg, f)\n",
      "  File \"h:\\Projects\\split_vae\\datasource.py\", line 485, in process_validate_segment\n",
      "    'beats': get_beats(ecg_cleaned, self.hz, self.rr_seg_dim, n_beat=2) if self.is_ecg_beats else [],\n",
      "  File \"h:\\Projects\\split_vae\\datasource.py\", line 82, in get_beats\n",
      "    beats = nk.ecg_segment(y, rpeaks=None, sampling_rate=hz, show=False)\n",
      "  File \"c:\\Users\\s222165064\\.conda\\envs\\split_vae\\lib\\site-packages\\neurokit2\\ecg\\ecg_segment.py\", line 64, in ecg_segment\n",
      "    heartbeats = epochs_create(\n",
      "  File \"c:\\Users\\s222165064\\.conda\\envs\\split_vae\\lib\\site-packages\\neurokit2\\epochs\\epochs_create.py\", line 164, in epochs_create\n",
      "    epoch_max_duration = int(max((i * sampling_rate for i in parameters[\"duration\"])))\n",
      "ValueError: cannot convert float NaN to integer\n",
      "\n"
     ]
    },
    {
     "name": "stderr",
     "output_type": "stream",
     "text": [
      "c:\\Users\\s222165064\\.conda\\envs\\split_vae\\lib\\site-packages\\neurokit2\\signal\\signal_period.py:84: NeuroKitWarning: Too few peaks detected to compute the rate. Returning empty vector.\n",
      "  warn(\n"
     ]
    },
    {
     "name": "stdout",
     "output_type": "stream",
     "text": [
      "Traceback (most recent call last):\n",
      "  File \"h:\\Projects\\split_vae\\datasource.py\", line 428, in _initialise\n",
      "    seg = self.process_validate_segment(seg, f)\n",
      "  File \"h:\\Projects\\split_vae\\datasource.py\", line 485, in process_validate_segment\n",
      "    'beats': get_beats(ecg_cleaned, self.hz, self.rr_seg_dim, n_beat=2) if self.is_ecg_beats else [],\n",
      "  File \"h:\\Projects\\split_vae\\datasource.py\", line 82, in get_beats\n",
      "    beats = nk.ecg_segment(y, rpeaks=None, sampling_rate=hz, show=False)\n",
      "  File \"c:\\Users\\s222165064\\.conda\\envs\\split_vae\\lib\\site-packages\\neurokit2\\ecg\\ecg_segment.py\", line 64, in ecg_segment\n",
      "    heartbeats = epochs_create(\n",
      "  File \"c:\\Users\\s222165064\\.conda\\envs\\split_vae\\lib\\site-packages\\neurokit2\\epochs\\epochs_create.py\", line 164, in epochs_create\n",
      "    epoch_max_duration = int(max((i * sampling_rate for i in parameters[\"duration\"])))\n",
      "ValueError: cannot convert float NaN to integer\n",
      "\n"
     ]
    },
    {
     "name": "stderr",
     "output_type": "stream",
     "text": [
      "2024-09-26 11:59:55,466 - __main__ - DEBUG - \tn_seg:238, n_evt:151, annot_dist:{0: 828, 1: 73, 2: 307, 3: 4, 5: 107}, clz_lbl_dist:{0: 235, 1: 3}, remain:2900\n",
      "2024-09-26 11:59:55,470 - __main__ - DEBUG - Loading mesa-sleep-0744...\n"
     ]
    },
    {
     "name": "stdout",
     "output_type": "stream",
     "text": [
      "Extracting EDF parameters from E:\\s222165064\\data\\mesa\\polysomnography\\set1x20\\mesa-sleep-0744.edf...\n",
      "EDF file detected\n",
      "Setting channel info structure...\n",
      "Creating raw.info structure...\n"
     ]
    },
    {
     "name": "stderr",
     "output_type": "stream",
     "text": [
      "2024-09-26 11:59:55,594 - __main__ - DEBUG - channels: ['EKG', 'EOG-L', 'EOG-R', 'EMG', 'EEG1', 'EEG2', 'EEG3', 'Pres', 'Flow', 'Snore', 'Thor', 'Abdo', 'Leg', 'Therm', 'Pos', 'EKG_Off', 'EOG-L_Off', 'EOG-R_Off', 'EMG_Off', 'EEG1_Off', 'EEG2_Off', 'EEG3_Off', 'Pleth', 'OxStatus', 'SpO2', 'HR', 'DHR']\n"
     ]
    },
    {
     "name": "stdout",
     "output_type": "stream",
     "text": [
      "NOTE: pick_channels() is a legacy function. New code should use inst.pick(...).\n"
     ]
    },
    {
     "name": "stderr",
     "output_type": "stream",
     "text": [
      "2024-09-26 11:59:57,066 - __main__ - DEBUG - channels: ['EKG'], search:ekg, src_hz:256\n",
      "2024-09-26 11:59:58,893 - __main__ - DEBUG - [mesa-sleep-0744] 396 events, age:0\n",
      "c:\\Users\\s222165064\\.conda\\envs\\split_vae\\lib\\site-packages\\neurokit2\\signal\\signal_fixpeaks.py:307: RuntimeWarning: divide by zero encountered in divide\n",
      "  mrrs /= th2\n",
      "c:\\Users\\s222165064\\.conda\\envs\\split_vae\\lib\\site-packages\\neurokit2\\signal\\signal_fixpeaks.py:307: RuntimeWarning: invalid value encountered in divide\n",
      "  mrrs /= th2\n",
      "c:\\Users\\s222165064\\.conda\\envs\\split_vae\\lib\\site-packages\\neurokit2\\signal\\signal_fixpeaks.py:307: RuntimeWarning: invalid value encountered in divide\n",
      "  mrrs /= th2\n",
      "c:\\Users\\s222165064\\.conda\\envs\\split_vae\\lib\\site-packages\\neurokit2\\signal\\signal_period.py:84: NeuroKitWarning: Too few peaks detected to compute the rate. Returning empty vector.\n",
      "  warn(\n"
     ]
    },
    {
     "name": "stdout",
     "output_type": "stream",
     "text": [
      "Traceback (most recent call last):\n",
      "  File \"h:\\Projects\\split_vae\\datasource.py\", line 428, in _initialise\n",
      "    seg = self.process_validate_segment(seg, f)\n",
      "  File \"h:\\Projects\\split_vae\\datasource.py\", line 485, in process_validate_segment\n",
      "    'beats': get_beats(ecg_cleaned, self.hz, self.rr_seg_dim, n_beat=2) if self.is_ecg_beats else [],\n",
      "  File \"h:\\Projects\\split_vae\\datasource.py\", line 82, in get_beats\n",
      "    beats = nk.ecg_segment(y, rpeaks=None, sampling_rate=hz, show=False)\n",
      "  File \"c:\\Users\\s222165064\\.conda\\envs\\split_vae\\lib\\site-packages\\neurokit2\\ecg\\ecg_segment.py\", line 64, in ecg_segment\n",
      "    heartbeats = epochs_create(\n",
      "  File \"c:\\Users\\s222165064\\.conda\\envs\\split_vae\\lib\\site-packages\\neurokit2\\epochs\\epochs_create.py\", line 164, in epochs_create\n",
      "    epoch_max_duration = int(max((i * sampling_rate for i in parameters[\"duration\"])))\n",
      "ValueError: cannot convert float NaN to integer\n",
      "\n"
     ]
    },
    {
     "name": "stderr",
     "output_type": "stream",
     "text": [
      "c:\\Users\\s222165064\\.conda\\envs\\split_vae\\lib\\site-packages\\neurokit2\\signal\\signal_period.py:84: NeuroKitWarning: Too few peaks detected to compute the rate. Returning empty vector.\n",
      "  warn(\n"
     ]
    },
    {
     "name": "stdout",
     "output_type": "stream",
     "text": [
      "Traceback (most recent call last):\n",
      "  File \"h:\\Projects\\split_vae\\datasource.py\", line 428, in _initialise\n",
      "    seg = self.process_validate_segment(seg, f)\n",
      "  File \"h:\\Projects\\split_vae\\datasource.py\", line 485, in process_validate_segment\n",
      "    'beats': get_beats(ecg_cleaned, self.hz, self.rr_seg_dim, n_beat=2) if self.is_ecg_beats else [],\n",
      "  File \"h:\\Projects\\split_vae\\datasource.py\", line 82, in get_beats\n",
      "    beats = nk.ecg_segment(y, rpeaks=None, sampling_rate=hz, show=False)\n",
      "  File \"c:\\Users\\s222165064\\.conda\\envs\\split_vae\\lib\\site-packages\\neurokit2\\ecg\\ecg_segment.py\", line 64, in ecg_segment\n",
      "    heartbeats = epochs_create(\n",
      "  File \"c:\\Users\\s222165064\\.conda\\envs\\split_vae\\lib\\site-packages\\neurokit2\\epochs\\epochs_create.py\", line 164, in epochs_create\n",
      "    epoch_max_duration = int(max((i * sampling_rate for i in parameters[\"duration\"])))\n",
      "ValueError: cannot convert float NaN to integer\n",
      "\n"
     ]
    },
    {
     "name": "stderr",
     "output_type": "stream",
     "text": [
      "2024-09-26 12:03:34,384 - __main__ - DEBUG - \tn_seg:1299, n_evt:396, annot_dist:{0: 649, 1: 179, 2: 406, 3: 81, 5: 125}, clz_lbl_dist:{0: 508, 1: 666, 2: 125}, remain:0\n",
      "2024-09-26 12:03:34,389 - __main__ - DEBUG - Loading mesa-sleep-0934...\n"
     ]
    },
    {
     "name": "stdout",
     "output_type": "stream",
     "text": [
      "Extracting EDF parameters from E:\\s222165064\\data\\mesa\\polysomnography\\set1x20\\mesa-sleep-0934.edf...\n",
      "EDF file detected\n",
      "Setting channel info structure...\n",
      "Creating raw.info structure...\n"
     ]
    },
    {
     "name": "stderr",
     "output_type": "stream",
     "text": [
      "2024-09-26 12:03:34,469 - __main__ - DEBUG - channels: ['EKG', 'EOG-L', 'EOG-R', 'EMG', 'EEG1', 'EEG2', 'EEG3', 'Pres', 'Flow', 'Snore', 'Thor', 'Abdo', 'Leg', 'Therm', 'Pos', 'EKG_Off', 'EOG-L_Off', 'EOG-R_Off', 'EMG_Off', 'EEG1_Off', 'EEG2_Off', 'EEG3_Off', 'Pleth', 'OxStatus', 'SpO2', 'HR', 'DHR']\n"
     ]
    },
    {
     "name": "stdout",
     "output_type": "stream",
     "text": [
      "NOTE: pick_channels() is a legacy function. New code should use inst.pick(...).\n"
     ]
    },
    {
     "name": "stderr",
     "output_type": "stream",
     "text": [
      "2024-09-26 12:03:35,564 - __main__ - DEBUG - channels: ['EKG'], search:ekg, src_hz:256\n",
      "2024-09-26 12:03:45,394 - __main__ - DEBUG - [mesa-sleep-0934] 266 events, age:0\n",
      "c:\\Users\\s222165064\\.conda\\envs\\split_vae\\lib\\site-packages\\neurokit2\\signal\\signal_fixpeaks.py:307: RuntimeWarning: divide by zero encountered in divide\n",
      "  mrrs /= th2\n",
      "c:\\Users\\s222165064\\.conda\\envs\\split_vae\\lib\\site-packages\\neurokit2\\signal\\signal_fixpeaks.py:307: RuntimeWarning: invalid value encountered in divide\n",
      "  mrrs /= th2\n",
      "2024-09-26 12:07:03,477 - __main__ - DEBUG - \tn_seg:1192, n_evt:266, annot_dist:{0: 488, 1: 148, 2: 477, 3: 1, 5: 85}, clz_lbl_dist:{0: 481, 1: 626, 2: 85}, remain:2900\n",
      "2024-09-26 12:07:03,480 - __main__ - DEBUG - Loading mesa-sleep-1010...\n"
     ]
    },
    {
     "name": "stdout",
     "output_type": "stream",
     "text": [
      "Extracting EDF parameters from E:\\s222165064\\data\\mesa\\polysomnography\\set1x20\\mesa-sleep-1010.edf...\n",
      "EDF file detected\n",
      "Setting channel info structure...\n",
      "Creating raw.info structure...\n"
     ]
    },
    {
     "name": "stderr",
     "output_type": "stream",
     "text": [
      "2024-09-26 12:07:03,564 - __main__ - DEBUG - channels: ['EKG', 'EOG-L', 'EOG-R', 'EMG', 'EEG1', 'EEG2', 'EEG3', 'Pres', 'Flow', 'Snore', 'Thor', 'Abdo', 'Leg', 'Therm', 'Pos', 'EKG_Off', 'EOG-L_Off', 'EOG-R_Off', 'EMG_Off', 'EEG1_Off', 'EEG2_Off', 'EEG3_Off', 'Pleth', 'OxStatus', 'SpO2', 'HR', 'DHR']\n"
     ]
    },
    {
     "name": "stdout",
     "output_type": "stream",
     "text": [
      "NOTE: pick_channels() is a legacy function. New code should use inst.pick(...).\n"
     ]
    },
    {
     "name": "stderr",
     "output_type": "stream",
     "text": [
      "2024-09-26 12:07:04,496 - __main__ - DEBUG - channels: ['EKG'], search:ekg, src_hz:256\n",
      "2024-09-26 12:07:05,904 - __main__ - DEBUG - [mesa-sleep-1010] 222 events, age:1\n",
      "2024-09-26 12:08:26,007 - __main__ - DEBUG - \tn_seg:388, n_evt:222, annot_dist:{0: 261, 1: 81, 2: 449, 3: 113, 5: 176}, clz_lbl_dist:{0: 13, 1: 264, 2: 111}, remain:0\n",
      "2024-09-26 12:08:26,010 - __main__ - DEBUG - Loading mesa-sleep-1044...\n"
     ]
    },
    {
     "name": "stdout",
     "output_type": "stream",
     "text": [
      "Extracting EDF parameters from E:\\s222165064\\data\\mesa\\polysomnography\\set1x20\\mesa-sleep-1044.edf...\n",
      "EDF file detected\n",
      "Setting channel info structure...\n",
      "Creating raw.info structure...\n"
     ]
    },
    {
     "name": "stderr",
     "output_type": "stream",
     "text": [
      "2024-09-26 12:08:26,060 - __main__ - DEBUG - channels: ['EKG', 'EOG-L', 'EOG-R', 'EMG', 'EEG1', 'EEG2', 'EEG3', 'Pres', 'Flow', 'Snore', 'Thor', 'Abdo', 'Leg', 'Therm', 'Pos', 'EKG_Off', 'EOG-L_Off', 'EOG-R_Off', 'EMG_Off', 'EEG1_Off', 'EEG2_Off', 'EEG3_Off', 'Pleth', 'OxStatus', 'SpO2', 'HR', 'DHR']\n"
     ]
    },
    {
     "name": "stdout",
     "output_type": "stream",
     "text": [
      "NOTE: pick_channels() is a legacy function. New code should use inst.pick(...).\n"
     ]
    },
    {
     "name": "stderr",
     "output_type": "stream",
     "text": [
      "2024-09-26 12:08:27,359 - __main__ - DEBUG - channels: ['EKG'], search:ekg, src_hz:256\n",
      "2024-09-26 12:08:52,512 - __main__ - DEBUG - [mesa-sleep-1044] 244 events, age:0\n",
      "c:\\Users\\s222165064\\.conda\\envs\\split_vae\\lib\\site-packages\\neurokit2\\signal\\signal_fixpeaks.py:307: RuntimeWarning: divide by zero encountered in divide\n",
      "  mrrs /= th2\n",
      "c:\\Users\\s222165064\\.conda\\envs\\split_vae\\lib\\site-packages\\neurokit2\\signal\\signal_fixpeaks.py:307: RuntimeWarning: invalid value encountered in divide\n",
      "  mrrs /= th2\n",
      "c:\\Users\\s222165064\\.conda\\envs\\split_vae\\lib\\site-packages\\neurokit2\\signal\\signal_fixpeaks.py:307: RuntimeWarning: divide by zero encountered in divide\n",
      "  mrrs /= th2\n",
      "2024-09-26 12:12:37,573 - __main__ - DEBUG - \tn_seg:1368, n_evt:244, annot_dist:{0: 670, 1: 98, 2: 424, 3: 170, 5: 77}, clz_lbl_dist:{0: 599, 1: 692, 2: 77}, remain:2900\n",
      "2024-09-26 12:12:37,577 - __main__ - DEBUG - Loading mesa-sleep-1604...\n"
     ]
    },
    {
     "name": "stdout",
     "output_type": "stream",
     "text": [
      "Extracting EDF parameters from E:\\s222165064\\data\\mesa\\polysomnography\\set1x20\\mesa-sleep-1604.edf...\n",
      "EDF file detected\n",
      "Setting channel info structure...\n",
      "Creating raw.info structure...\n"
     ]
    },
    {
     "name": "stderr",
     "output_type": "stream",
     "text": [
      "2024-09-26 12:12:37,684 - __main__ - DEBUG - channels: ['EKG', 'EOG-L', 'EOG-R', 'EMG', 'EEG1', 'EEG2', 'EEG3', 'Pres', 'Flow', 'Snore', 'Thor', 'Abdo', 'Leg', 'Therm', 'Pos', 'EKG_Off', 'EOG-L_Off', 'EOG-R_Off', 'EMG_Off', 'EEG1_Off', 'EEG2_Off', 'EEG3_Off', 'Pleth', 'OxStatus', 'SpO2', 'HR', 'DHR']\n"
     ]
    },
    {
     "name": "stdout",
     "output_type": "stream",
     "text": [
      "NOTE: pick_channels() is a legacy function. New code should use inst.pick(...).\n"
     ]
    },
    {
     "name": "stderr",
     "output_type": "stream",
     "text": [
      "2024-09-26 12:12:38,902 - __main__ - DEBUG - channels: ['EKG'], search:ekg, src_hz:256\n",
      "2024-09-26 12:12:49,322 - __main__ - DEBUG - [mesa-sleep-1604] 253 events, age:1\n",
      "c:\\Users\\s222165064\\.conda\\envs\\split_vae\\lib\\site-packages\\neurokit2\\signal\\signal_fixpeaks.py:307: RuntimeWarning: invalid value encountered in divide\n",
      "  mrrs /= th2\n",
      "c:\\Users\\s222165064\\.conda\\envs\\split_vae\\lib\\site-packages\\neurokit2\\signal\\signal_period.py:84: NeuroKitWarning: Too few peaks detected to compute the rate. Returning empty vector.\n",
      "  warn(\n",
      "c:\\Users\\s222165064\\.conda\\envs\\split_vae\\lib\\site-packages\\neurokit2\\signal\\signal_fixpeaks.py:307: RuntimeWarning: invalid value encountered in divide\n",
      "  mrrs /= th2\n",
      "c:\\Users\\s222165064\\.conda\\envs\\split_vae\\lib\\site-packages\\neurokit2\\signal\\signal_period.py:84: NeuroKitWarning: Too few peaks detected to compute the rate. Returning empty vector.\n",
      "  warn(\n"
     ]
    },
    {
     "name": "stdout",
     "output_type": "stream",
     "text": [
      "Traceback (most recent call last):\n",
      "  File \"h:\\Projects\\split_vae\\datasource.py\", line 428, in _initialise\n",
      "    seg = self.process_validate_segment(seg, f)\n",
      "  File \"h:\\Projects\\split_vae\\datasource.py\", line 485, in process_validate_segment\n",
      "    'beats': get_beats(ecg_cleaned, self.hz, self.rr_seg_dim, n_beat=2) if self.is_ecg_beats else [],\n",
      "  File \"h:\\Projects\\split_vae\\datasource.py\", line 82, in get_beats\n",
      "    beats = nk.ecg_segment(y, rpeaks=None, sampling_rate=hz, show=False)\n",
      "  File \"c:\\Users\\s222165064\\.conda\\envs\\split_vae\\lib\\site-packages\\neurokit2\\ecg\\ecg_segment.py\", line 64, in ecg_segment\n",
      "    heartbeats = epochs_create(\n",
      "  File \"c:\\Users\\s222165064\\.conda\\envs\\split_vae\\lib\\site-packages\\neurokit2\\epochs\\epochs_create.py\", line 164, in epochs_create\n",
      "    epoch_max_duration = int(max((i * sampling_rate for i in parameters[\"duration\"])))\n",
      "ValueError: cannot convert float NaN to integer\n",
      "\n",
      "Traceback (most recent call last):\n",
      "  File \"h:\\Projects\\split_vae\\datasource.py\", line 428, in _initialise\n",
      "    seg = self.process_validate_segment(seg, f)\n",
      "  File \"h:\\Projects\\split_vae\\datasource.py\", line 485, in process_validate_segment\n",
      "    'beats': get_beats(ecg_cleaned, self.hz, self.rr_seg_dim, n_beat=2) if self.is_ecg_beats else [],\n",
      "  File \"h:\\Projects\\split_vae\\datasource.py\", line 82, in get_beats\n",
      "    beats = nk.ecg_segment(y, rpeaks=None, sampling_rate=hz, show=False)\n",
      "  File \"c:\\Users\\s222165064\\.conda\\envs\\split_vae\\lib\\site-packages\\neurokit2\\ecg\\ecg_segment.py\", line 64, in ecg_segment\n",
      "    heartbeats = epochs_create(\n",
      "  File \"c:\\Users\\s222165064\\.conda\\envs\\split_vae\\lib\\site-packages\\neurokit2\\epochs\\epochs_create.py\", line 164, in epochs_create\n",
      "    epoch_max_duration = int(max((i * sampling_rate for i in parameters[\"duration\"])))\n",
      "ValueError: cannot convert float NaN to integer\n",
      "\n"
     ]
    },
    {
     "name": "stderr",
     "output_type": "stream",
     "text": [
      "c:\\Users\\s222165064\\.conda\\envs\\split_vae\\lib\\site-packages\\neurokit2\\signal\\signal_period.py:84: NeuroKitWarning: Too few peaks detected to compute the rate. Returning empty vector.\n",
      "  warn(\n",
      "c:\\Users\\s222165064\\.conda\\envs\\split_vae\\lib\\site-packages\\numpy\\core\\fromnumeric.py:3504: RuntimeWarning: Mean of empty slice.\n",
      "  return _methods._mean(a, axis=axis, dtype=dtype,\n",
      "c:\\Users\\s222165064\\.conda\\envs\\split_vae\\lib\\site-packages\\numpy\\core\\_methods.py:129: RuntimeWarning: invalid value encountered in scalar divide\n",
      "  ret = ret.dtype.type(ret / rcount)\n",
      "c:\\Users\\s222165064\\.conda\\envs\\split_vae\\lib\\site-packages\\neurokit2\\signal\\signal_period.py:84: NeuroKitWarning: Too few peaks detected to compute the rate. Returning empty vector.\n",
      "  warn(\n",
      "c:\\Users\\s222165064\\.conda\\envs\\split_vae\\lib\\site-packages\\numpy\\core\\fromnumeric.py:3504: RuntimeWarning: Mean of empty slice.\n",
      "  return _methods._mean(a, axis=axis, dtype=dtype,\n",
      "c:\\Users\\s222165064\\.conda\\envs\\split_vae\\lib\\site-packages\\numpy\\core\\_methods.py:129: RuntimeWarning: invalid value encountered in scalar divide\n",
      "  ret = ret.dtype.type(ret / rcount)\n",
      "c:\\Users\\s222165064\\.conda\\envs\\split_vae\\lib\\site-packages\\neurokit2\\signal\\signal_period.py:84: NeuroKitWarning: Too few peaks detected to compute the rate. Returning empty vector.\n",
      "  warn(\n",
      "c:\\Users\\s222165064\\.conda\\envs\\split_vae\\lib\\site-packages\\numpy\\core\\fromnumeric.py:3504: RuntimeWarning: Mean of empty slice.\n",
      "  return _methods._mean(a, axis=axis, dtype=dtype,\n",
      "c:\\Users\\s222165064\\.conda\\envs\\split_vae\\lib\\site-packages\\numpy\\core\\_methods.py:129: RuntimeWarning: invalid value encountered in scalar divide\n",
      "  ret = ret.dtype.type(ret / rcount)\n",
      "c:\\Users\\s222165064\\.conda\\envs\\split_vae\\lib\\site-packages\\neurokit2\\signal\\signal_period.py:84: NeuroKitWarning: Too few peaks detected to compute the rate. Returning empty vector.\n",
      "  warn(\n",
      "c:\\Users\\s222165064\\.conda\\envs\\split_vae\\lib\\site-packages\\neurokit2\\signal\\signal_fixpeaks.py:307: RuntimeWarning: invalid value encountered in divide\n",
      "  mrrs /= th2\n",
      "c:\\Users\\s222165064\\.conda\\envs\\split_vae\\lib\\site-packages\\neurokit2\\signal\\signal_period.py:84: NeuroKitWarning: Too few peaks detected to compute the rate. Returning empty vector.\n",
      "  warn(\n",
      "c:\\Users\\s222165064\\.conda\\envs\\split_vae\\lib\\site-packages\\neurokit2\\signal\\signal_period.py:84: NeuroKitWarning: Too few peaks detected to compute the rate. Returning empty vector.\n",
      "  warn(\n"
     ]
    },
    {
     "name": "stdout",
     "output_type": "stream",
     "text": [
      "Traceback (most recent call last):\n",
      "  File \"h:\\Projects\\split_vae\\datasource.py\", line 428, in _initialise\n",
      "    seg = self.process_validate_segment(seg, f)\n",
      "  File \"h:\\Projects\\split_vae\\datasource.py\", line 485, in process_validate_segment\n",
      "    'beats': get_beats(ecg_cleaned, self.hz, self.rr_seg_dim, n_beat=2) if self.is_ecg_beats else [],\n",
      "  File \"h:\\Projects\\split_vae\\datasource.py\", line 82, in get_beats\n",
      "    beats = nk.ecg_segment(y, rpeaks=None, sampling_rate=hz, show=False)\n",
      "  File \"c:\\Users\\s222165064\\.conda\\envs\\split_vae\\lib\\site-packages\\neurokit2\\ecg\\ecg_segment.py\", line 64, in ecg_segment\n",
      "    heartbeats = epochs_create(\n",
      "  File \"c:\\Users\\s222165064\\.conda\\envs\\split_vae\\lib\\site-packages\\neurokit2\\epochs\\epochs_create.py\", line 164, in epochs_create\n",
      "    epoch_max_duration = int(max((i * sampling_rate for i in parameters[\"duration\"])))\n",
      "ValueError: cannot convert float NaN to integer\n",
      "\n",
      "Traceback (most recent call last):\n",
      "  File \"h:\\Projects\\split_vae\\datasource.py\", line 428, in _initialise\n",
      "    seg = self.process_validate_segment(seg, f)\n",
      "  File \"h:\\Projects\\split_vae\\datasource.py\", line 485, in process_validate_segment\n",
      "    'beats': get_beats(ecg_cleaned, self.hz, self.rr_seg_dim, n_beat=2) if self.is_ecg_beats else [],\n",
      "  File \"h:\\Projects\\split_vae\\datasource.py\", line 82, in get_beats\n",
      "    beats = nk.ecg_segment(y, rpeaks=None, sampling_rate=hz, show=False)\n",
      "  File \"c:\\Users\\s222165064\\.conda\\envs\\split_vae\\lib\\site-packages\\neurokit2\\ecg\\ecg_segment.py\", line 64, in ecg_segment\n",
      "    heartbeats = epochs_create(\n",
      "  File \"c:\\Users\\s222165064\\.conda\\envs\\split_vae\\lib\\site-packages\\neurokit2\\epochs\\epochs_create.py\", line 164, in epochs_create\n",
      "    epoch_max_duration = int(max((i * sampling_rate for i in parameters[\"duration\"])))\n",
      "ValueError: cannot convert float NaN to integer\n",
      "\n",
      "Traceback (most recent call last):\n",
      "  File \"h:\\Projects\\split_vae\\datasource.py\", line 428, in _initialise\n",
      "    seg = self.process_validate_segment(seg, f)\n",
      "  File \"h:\\Projects\\split_vae\\datasource.py\", line 485, in process_validate_segment\n",
      "    'beats': get_beats(ecg_cleaned, self.hz, self.rr_seg_dim, n_beat=2) if self.is_ecg_beats else [],\n",
      "  File \"h:\\Projects\\split_vae\\datasource.py\", line 82, in get_beats\n",
      "    beats = nk.ecg_segment(y, rpeaks=None, sampling_rate=hz, show=False)\n",
      "  File \"c:\\Users\\s222165064\\.conda\\envs\\split_vae\\lib\\site-packages\\neurokit2\\ecg\\ecg_segment.py\", line 64, in ecg_segment\n",
      "    heartbeats = epochs_create(\n",
      "  File \"c:\\Users\\s222165064\\.conda\\envs\\split_vae\\lib\\site-packages\\neurokit2\\epochs\\epochs_create.py\", line 164, in epochs_create\n",
      "    epoch_max_duration = int(max((i * sampling_rate for i in parameters[\"duration\"])))\n",
      "ValueError: cannot convert float NaN to integer\n",
      "\n",
      "Traceback (most recent call last):\n",
      "  File \"h:\\Projects\\split_vae\\datasource.py\", line 428, in _initialise\n",
      "    seg = self.process_validate_segment(seg, f)\n",
      "  File \"h:\\Projects\\split_vae\\datasource.py\", line 485, in process_validate_segment\n",
      "    'beats': get_beats(ecg_cleaned, self.hz, self.rr_seg_dim, n_beat=2) if self.is_ecg_beats else [],\n",
      "  File \"h:\\Projects\\split_vae\\datasource.py\", line 82, in get_beats\n",
      "    beats = nk.ecg_segment(y, rpeaks=None, sampling_rate=hz, show=False)\n",
      "  File \"c:\\Users\\s222165064\\.conda\\envs\\split_vae\\lib\\site-packages\\neurokit2\\ecg\\ecg_segment.py\", line 64, in ecg_segment\n",
      "    heartbeats = epochs_create(\n",
      "  File \"c:\\Users\\s222165064\\.conda\\envs\\split_vae\\lib\\site-packages\\neurokit2\\epochs\\epochs_create.py\", line 154, in epochs_create\n",
      "    parameters = listify(\n",
      "  File \"c:\\Users\\s222165064\\.conda\\envs\\split_vae\\lib\\site-packages\\neurokit2\\misc\\listify.py\", line 31, in listify\n",
      "    args[key] = _multiply_list(value, maxi)\n",
      "  File \"c:\\Users\\s222165064\\.conda\\envs\\split_vae\\lib\\site-packages\\neurokit2\\misc\\listify.py\", line 39, in _multiply_list\n",
      "    q, r = divmod(length, len(lst))\n",
      "ZeroDivisionError: integer division or modulo by zero\n",
      "\n",
      "Traceback (most recent call last):\n",
      "  File \"h:\\Projects\\split_vae\\datasource.py\", line 428, in _initialise\n",
      "    seg = self.process_validate_segment(seg, f)\n",
      "  File \"h:\\Projects\\split_vae\\datasource.py\", line 485, in process_validate_segment\n",
      "    'beats': get_beats(ecg_cleaned, self.hz, self.rr_seg_dim, n_beat=2) if self.is_ecg_beats else [],\n",
      "  File \"h:\\Projects\\split_vae\\datasource.py\", line 82, in get_beats\n",
      "    beats = nk.ecg_segment(y, rpeaks=None, sampling_rate=hz, show=False)\n",
      "  File \"c:\\Users\\s222165064\\.conda\\envs\\split_vae\\lib\\site-packages\\neurokit2\\ecg\\ecg_segment.py\", line 64, in ecg_segment\n",
      "    heartbeats = epochs_create(\n",
      "  File \"c:\\Users\\s222165064\\.conda\\envs\\split_vae\\lib\\site-packages\\neurokit2\\epochs\\epochs_create.py\", line 164, in epochs_create\n",
      "    epoch_max_duration = int(max((i * sampling_rate for i in parameters[\"duration\"])))\n",
      "ValueError: cannot convert float NaN to integer\n",
      "\n",
      "Traceback (most recent call last):\n",
      "  File \"h:\\Projects\\split_vae\\datasource.py\", line 428, in _initialise\n",
      "    seg = self.process_validate_segment(seg, f)\n",
      "  File \"h:\\Projects\\split_vae\\datasource.py\", line 485, in process_validate_segment\n",
      "    'beats': get_beats(ecg_cleaned, self.hz, self.rr_seg_dim, n_beat=2) if self.is_ecg_beats else [],\n",
      "  File \"h:\\Projects\\split_vae\\datasource.py\", line 82, in get_beats\n",
      "    beats = nk.ecg_segment(y, rpeaks=None, sampling_rate=hz, show=False)\n",
      "  File \"c:\\Users\\s222165064\\.conda\\envs\\split_vae\\lib\\site-packages\\neurokit2\\ecg\\ecg_segment.py\", line 64, in ecg_segment\n",
      "    heartbeats = epochs_create(\n",
      "  File \"c:\\Users\\s222165064\\.conda\\envs\\split_vae\\lib\\site-packages\\neurokit2\\epochs\\epochs_create.py\", line 164, in epochs_create\n",
      "    epoch_max_duration = int(max((i * sampling_rate for i in parameters[\"duration\"])))\n",
      "ValueError: cannot convert float NaN to integer\n",
      "\n"
     ]
    },
    {
     "name": "stderr",
     "output_type": "stream",
     "text": [
      "c:\\Users\\s222165064\\.conda\\envs\\split_vae\\lib\\site-packages\\neurokit2\\signal\\signal_period.py:84: NeuroKitWarning: Too few peaks detected to compute the rate. Returning empty vector.\n",
      "  warn(\n"
     ]
    },
    {
     "name": "stdout",
     "output_type": "stream",
     "text": [
      "Traceback (most recent call last):\n",
      "  File \"h:\\Projects\\split_vae\\datasource.py\", line 428, in _initialise\n",
      "    seg = self.process_validate_segment(seg, f)\n",
      "  File \"h:\\Projects\\split_vae\\datasource.py\", line 485, in process_validate_segment\n",
      "    'beats': get_beats(ecg_cleaned, self.hz, self.rr_seg_dim, n_beat=2) if self.is_ecg_beats else [],\n",
      "  File \"h:\\Projects\\split_vae\\datasource.py\", line 82, in get_beats\n",
      "    beats = nk.ecg_segment(y, rpeaks=None, sampling_rate=hz, show=False)\n",
      "  File \"c:\\Users\\s222165064\\.conda\\envs\\split_vae\\lib\\site-packages\\neurokit2\\ecg\\ecg_segment.py\", line 64, in ecg_segment\n",
      "    heartbeats = epochs_create(\n",
      "  File \"c:\\Users\\s222165064\\.conda\\envs\\split_vae\\lib\\site-packages\\neurokit2\\epochs\\epochs_create.py\", line 164, in epochs_create\n",
      "    epoch_max_duration = int(max((i * sampling_rate for i in parameters[\"duration\"])))\n",
      "ValueError: cannot convert float NaN to integer\n",
      "\n"
     ]
    },
    {
     "name": "stderr",
     "output_type": "stream",
     "text": [
      "c:\\Users\\s222165064\\.conda\\envs\\split_vae\\lib\\site-packages\\numpy\\core\\fromnumeric.py:3504: RuntimeWarning: Mean of empty slice.\n",
      "  return _methods._mean(a, axis=axis, dtype=dtype,\n",
      "c:\\Users\\s222165064\\.conda\\envs\\split_vae\\lib\\site-packages\\numpy\\core\\_methods.py:129: RuntimeWarning: invalid value encountered in scalar divide\n",
      "  ret = ret.dtype.type(ret / rcount)\n",
      "c:\\Users\\s222165064\\.conda\\envs\\split_vae\\lib\\site-packages\\neurokit2\\signal\\signal_period.py:84: NeuroKitWarning: Too few peaks detected to compute the rate. Returning empty vector.\n",
      "  warn(\n",
      "c:\\Users\\s222165064\\.conda\\envs\\split_vae\\lib\\site-packages\\neurokit2\\signal\\signal_period.py:84: NeuroKitWarning: Too few peaks detected to compute the rate. Returning empty vector.\n",
      "  warn(\n"
     ]
    },
    {
     "name": "stdout",
     "output_type": "stream",
     "text": [
      "Traceback (most recent call last):\n",
      "  File \"h:\\Projects\\split_vae\\datasource.py\", line 428, in _initialise\n",
      "    seg = self.process_validate_segment(seg, f)\n",
      "  File \"h:\\Projects\\split_vae\\datasource.py\", line 485, in process_validate_segment\n",
      "    'beats': get_beats(ecg_cleaned, self.hz, self.rr_seg_dim, n_beat=2) if self.is_ecg_beats else [],\n",
      "  File \"h:\\Projects\\split_vae\\datasource.py\", line 82, in get_beats\n",
      "    beats = nk.ecg_segment(y, rpeaks=None, sampling_rate=hz, show=False)\n",
      "  File \"c:\\Users\\s222165064\\.conda\\envs\\split_vae\\lib\\site-packages\\neurokit2\\ecg\\ecg_segment.py\", line 64, in ecg_segment\n",
      "    heartbeats = epochs_create(\n",
      "  File \"c:\\Users\\s222165064\\.conda\\envs\\split_vae\\lib\\site-packages\\neurokit2\\epochs\\epochs_create.py\", line 164, in epochs_create\n",
      "    epoch_max_duration = int(max((i * sampling_rate for i in parameters[\"duration\"])))\n",
      "ValueError: cannot convert float NaN to integer\n",
      "\n",
      "Traceback (most recent call last):\n",
      "  File \"h:\\Projects\\split_vae\\datasource.py\", line 428, in _initialise\n",
      "    seg = self.process_validate_segment(seg, f)\n",
      "  File \"h:\\Projects\\split_vae\\datasource.py\", line 485, in process_validate_segment\n",
      "    'beats': get_beats(ecg_cleaned, self.hz, self.rr_seg_dim, n_beat=2) if self.is_ecg_beats else [],\n",
      "  File \"h:\\Projects\\split_vae\\datasource.py\", line 82, in get_beats\n",
      "    beats = nk.ecg_segment(y, rpeaks=None, sampling_rate=hz, show=False)\n",
      "  File \"c:\\Users\\s222165064\\.conda\\envs\\split_vae\\lib\\site-packages\\neurokit2\\ecg\\ecg_segment.py\", line 64, in ecg_segment\n",
      "    heartbeats = epochs_create(\n",
      "  File \"c:\\Users\\s222165064\\.conda\\envs\\split_vae\\lib\\site-packages\\neurokit2\\epochs\\epochs_create.py\", line 164, in epochs_create\n",
      "    epoch_max_duration = int(max((i * sampling_rate for i in parameters[\"duration\"])))\n",
      "ValueError: cannot convert float NaN to integer\n",
      "\n"
     ]
    },
    {
     "name": "stderr",
     "output_type": "stream",
     "text": [
      "2024-09-26 12:15:52,804 - __main__ - DEBUG - \tn_seg:1165, n_evt:253, annot_dist:{1: 124, 2: 392, 0: 590, 5: 93}, clz_lbl_dist:{1: 516, 0: 556, 2: 93}, remain:2900\n",
      "2024-09-26 12:15:52,808 - __main__ - DEBUG - Loading mesa-sleep-1789...\n"
     ]
    },
    {
     "name": "stdout",
     "output_type": "stream",
     "text": [
      "Extracting EDF parameters from E:\\s222165064\\data\\mesa\\polysomnography\\set1x20\\mesa-sleep-1789.edf...\n",
      "EDF file detected\n",
      "Setting channel info structure...\n",
      "Creating raw.info structure...\n"
     ]
    },
    {
     "name": "stderr",
     "output_type": "stream",
     "text": [
      "2024-09-26 12:15:52,892 - __main__ - DEBUG - channels: ['EKG', 'EOG-L', 'EOG-R', 'EMG', 'EEG1', 'EEG2', 'EEG3', 'Pres', 'Flow', 'Snore', 'Thor', 'Abdo', 'Leg', 'Therm', 'Pos', 'EKG_Off', 'EOG-L_Off', 'EOG-R_Off', 'EMG_Off', 'EEG1_Off', 'EEG2_Off', 'EEG3_Off', 'Pleth', 'OxStatus', 'SpO2', 'HR', 'DHR']\n"
     ]
    },
    {
     "name": "stdout",
     "output_type": "stream",
     "text": [
      "NOTE: pick_channels() is a legacy function. New code should use inst.pick(...).\n"
     ]
    },
    {
     "name": "stderr",
     "output_type": "stream",
     "text": [
      "2024-09-26 12:15:54,458 - __main__ - DEBUG - channels: ['EKG'], search:ekg, src_hz:256\n",
      "2024-09-26 12:16:07,551 - __main__ - DEBUG - [mesa-sleep-1789] 251 events, age:0\n",
      "2024-09-26 12:19:19,667 - __main__ - DEBUG - \tn_seg:1526, n_evt:251, annot_dist:{0: 693, 1: 231, 2: 440, 5: 194, 3: 1}, clz_lbl_dist:{0: 660, 1: 672, 2: 194}, remain:2800\n",
      "2024-09-26 12:19:19,671 - __main__ - DEBUG - Loading mesa-sleep-1790...\n"
     ]
    },
    {
     "name": "stdout",
     "output_type": "stream",
     "text": [
      "Extracting EDF parameters from E:\\s222165064\\data\\mesa\\polysomnography\\set1x20\\mesa-sleep-1790.edf...\n",
      "EDF file detected\n",
      "Setting channel info structure...\n",
      "Creating raw.info structure...\n"
     ]
    },
    {
     "name": "stderr",
     "output_type": "stream",
     "text": [
      "2024-09-26 12:19:19,777 - __main__ - DEBUG - channels: ['EKG', 'EOG-L', 'EOG-R', 'EMG', 'EEG1', 'EEG2', 'EEG3', 'Pres', 'Flow', 'Snore', 'Thor', 'Abdo', 'Leg', 'Therm', 'Pos', 'EKG_Off', 'EOG-L_Off', 'EOG-R_Off', 'EMG_Off', 'EEG1_Off', 'EEG2_Off', 'EEG3_Off', 'Pleth', 'OxStatus', 'SpO2', 'HR', 'DHR']\n"
     ]
    },
    {
     "name": "stdout",
     "output_type": "stream",
     "text": [
      "NOTE: pick_channels() is a legacy function. New code should use inst.pick(...).\n"
     ]
    },
    {
     "name": "stderr",
     "output_type": "stream",
     "text": [
      "2024-09-26 12:19:20,951 - __main__ - DEBUG - channels: ['EKG'], search:ekg, src_hz:256\n",
      "2024-09-26 12:19:30,566 - __main__ - DEBUG - [mesa-sleep-1790] 334 events, age:0\n",
      "c:\\Users\\s222165064\\.conda\\envs\\split_vae\\lib\\site-packages\\neurokit2\\signal\\signal_period.py:84: NeuroKitWarning: Too few peaks detected to compute the rate. Returning empty vector.\n",
      "  warn(\n"
     ]
    },
    {
     "name": "stdout",
     "output_type": "stream",
     "text": [
      "Traceback (most recent call last):\n",
      "  File \"h:\\Projects\\split_vae\\datasource.py\", line 428, in _initialise\n",
      "    seg = self.process_validate_segment(seg, f)\n",
      "  File \"h:\\Projects\\split_vae\\datasource.py\", line 485, in process_validate_segment\n",
      "    'beats': get_beats(ecg_cleaned, self.hz, self.rr_seg_dim, n_beat=2) if self.is_ecg_beats else [],\n",
      "  File \"h:\\Projects\\split_vae\\datasource.py\", line 82, in get_beats\n",
      "    beats = nk.ecg_segment(y, rpeaks=None, sampling_rate=hz, show=False)\n",
      "  File \"c:\\Users\\s222165064\\.conda\\envs\\split_vae\\lib\\site-packages\\neurokit2\\ecg\\ecg_segment.py\", line 64, in ecg_segment\n",
      "    heartbeats = epochs_create(\n",
      "  File \"c:\\Users\\s222165064\\.conda\\envs\\split_vae\\lib\\site-packages\\neurokit2\\epochs\\epochs_create.py\", line 164, in epochs_create\n",
      "    epoch_max_duration = int(max((i * sampling_rate for i in parameters[\"duration\"])))\n",
      "ValueError: cannot convert float NaN to integer\n",
      "\n"
     ]
    },
    {
     "name": "stderr",
     "output_type": "stream",
     "text": [
      "c:\\Users\\s222165064\\.conda\\envs\\split_vae\\lib\\site-packages\\neurokit2\\signal\\signal_period.py:84: NeuroKitWarning: Too few peaks detected to compute the rate. Returning empty vector.\n",
      "  warn(\n"
     ]
    },
    {
     "name": "stdout",
     "output_type": "stream",
     "text": [
      "Traceback (most recent call last):\n",
      "  File \"h:\\Projects\\split_vae\\datasource.py\", line 428, in _initialise\n",
      "    seg = self.process_validate_segment(seg, f)\n",
      "  File \"h:\\Projects\\split_vae\\datasource.py\", line 485, in process_validate_segment\n",
      "    'beats': get_beats(ecg_cleaned, self.hz, self.rr_seg_dim, n_beat=2) if self.is_ecg_beats else [],\n",
      "  File \"h:\\Projects\\split_vae\\datasource.py\", line 82, in get_beats\n",
      "    beats = nk.ecg_segment(y, rpeaks=None, sampling_rate=hz, show=False)\n",
      "  File \"c:\\Users\\s222165064\\.conda\\envs\\split_vae\\lib\\site-packages\\neurokit2\\ecg\\ecg_segment.py\", line 64, in ecg_segment\n",
      "    heartbeats = epochs_create(\n",
      "  File \"c:\\Users\\s222165064\\.conda\\envs\\split_vae\\lib\\site-packages\\neurokit2\\epochs\\epochs_create.py\", line 164, in epochs_create\n",
      "    epoch_max_duration = int(max((i * sampling_rate for i in parameters[\"duration\"])))\n",
      "ValueError: cannot convert float NaN to integer\n",
      "\n"
     ]
    },
    {
     "name": "stderr",
     "output_type": "stream",
     "text": [
      "2024-09-26 12:22:30,452 - __main__ - DEBUG - \tn_seg:1196, n_evt:334, annot_dist:{0: 544, 2: 358, 1: 145, 3: 66, 5: 86}, clz_lbl_dist:{0: 541, 1: 569, 2: 86}, remain:2900\n",
      "2024-09-26 12:22:30,457 - __main__ - DEBUG - Loading mesa-sleep-1803...\n"
     ]
    },
    {
     "name": "stdout",
     "output_type": "stream",
     "text": [
      "Extracting EDF parameters from E:\\s222165064\\data\\mesa\\polysomnography\\set1x20\\mesa-sleep-1803.edf...\n",
      "EDF file detected\n",
      "Setting channel info structure...\n",
      "Creating raw.info structure...\n"
     ]
    },
    {
     "name": "stderr",
     "output_type": "stream",
     "text": [
      "2024-09-26 12:22:30,515 - __main__ - DEBUG - channels: ['EKG', 'EOG-L', 'EOG-R', 'EMG', 'EEG1', 'EEG2', 'EEG3', 'Pres', 'Flow', 'Snore', 'Thor', 'Abdo', 'Leg', 'Therm', 'Pos', 'EKG_Off', 'EOG-L_Off', 'EOG-R_Off', 'EMG_Off', 'EEG1_Off', 'EEG2_Off', 'EEG3_Off', 'Pleth', 'OxStatus', 'SpO2', 'HR', 'DHR']\n"
     ]
    },
    {
     "name": "stdout",
     "output_type": "stream",
     "text": [
      "NOTE: pick_channels() is a legacy function. New code should use inst.pick(...).\n"
     ]
    },
    {
     "name": "stderr",
     "output_type": "stream",
     "text": [
      "2024-09-26 12:22:31,660 - __main__ - DEBUG - channels: ['EKG'], search:ekg, src_hz:256\n",
      "2024-09-26 12:22:34,985 - __main__ - DEBUG - [mesa-sleep-1803] 89 events, age:1\n",
      "2024-09-26 12:24:31,705 - __main__ - DEBUG - \tn_seg:632, n_evt:89, annot_dist:{0: 729, 1: 29, 2: 201, 3: 72, 5: 48}, clz_lbl_dist:{0: 282, 1: 302, 2: 48}, remain:2900\n",
      "2024-09-26 12:24:31,709 - __main__ - DEBUG - Loading mesa-sleep-1901...\n"
     ]
    },
    {
     "name": "stdout",
     "output_type": "stream",
     "text": [
      "Extracting EDF parameters from E:\\s222165064\\data\\mesa\\polysomnography\\set1x20\\mesa-sleep-1901.edf...\n",
      "EDF file detected\n",
      "Setting channel info structure...\n",
      "Creating raw.info structure...\n"
     ]
    },
    {
     "name": "stderr",
     "output_type": "stream",
     "text": [
      "2024-09-26 12:24:31,820 - __main__ - DEBUG - channels: ['EKG', 'EOG-L', 'EOG-R', 'EMG', 'EEG1', 'EEG2', 'EEG3', 'Pres', 'Flow', 'Snore', 'Thor', 'Abdo', 'Leg', 'Therm', 'Pos', 'EKG_Off', 'EOG-L_Off', 'EOG-R_Off', 'EMG_Off', 'EEG1_Off', 'EEG2_Off', 'EEG3_Off', 'Pleth', 'OxStatus', 'SpO2', 'HR', 'DHR']\n"
     ]
    },
    {
     "name": "stdout",
     "output_type": "stream",
     "text": [
      "NOTE: pick_channels() is a legacy function. New code should use inst.pick(...).\n"
     ]
    },
    {
     "name": "stderr",
     "output_type": "stream",
     "text": [
      "2024-09-26 12:24:33,218 - __main__ - DEBUG - channels: ['EKG'], search:ekg, src_hz:256\n",
      "2024-09-26 12:24:34,896 - __main__ - DEBUG - [mesa-sleep-1901] 214 events, age:1\n",
      "c:\\Users\\s222165064\\.conda\\envs\\split_vae\\lib\\site-packages\\neurokit2\\signal\\signal_period.py:84: NeuroKitWarning: Too few peaks detected to compute the rate. Returning empty vector.\n",
      "  warn(\n"
     ]
    },
    {
     "name": "stdout",
     "output_type": "stream",
     "text": [
      "Traceback (most recent call last):\n",
      "  File \"h:\\Projects\\split_vae\\datasource.py\", line 428, in _initialise\n",
      "    seg = self.process_validate_segment(seg, f)\n",
      "  File \"h:\\Projects\\split_vae\\datasource.py\", line 485, in process_validate_segment\n",
      "    'beats': get_beats(ecg_cleaned, self.hz, self.rr_seg_dim, n_beat=2) if self.is_ecg_beats else [],\n",
      "  File \"h:\\Projects\\split_vae\\datasource.py\", line 82, in get_beats\n",
      "    beats = nk.ecg_segment(y, rpeaks=None, sampling_rate=hz, show=False)\n",
      "  File \"c:\\Users\\s222165064\\.conda\\envs\\split_vae\\lib\\site-packages\\neurokit2\\ecg\\ecg_segment.py\", line 64, in ecg_segment\n",
      "    heartbeats = epochs_create(\n",
      "  File \"c:\\Users\\s222165064\\.conda\\envs\\split_vae\\lib\\site-packages\\neurokit2\\epochs\\epochs_create.py\", line 164, in epochs_create\n",
      "    epoch_max_duration = int(max((i * sampling_rate for i in parameters[\"duration\"])))\n",
      "ValueError: cannot convert float NaN to integer\n",
      "\n"
     ]
    },
    {
     "name": "stderr",
     "output_type": "stream",
     "text": [
      "c:\\Users\\s222165064\\.conda\\envs\\split_vae\\lib\\site-packages\\neurokit2\\signal\\signal_period.py:84: NeuroKitWarning: Too few peaks detected to compute the rate. Returning empty vector.\n",
      "  warn(\n",
      "2024-09-26 12:27:23,587 - __main__ - DEBUG - No label for annot '9' in mesa-sleep-1901.edf\n",
      "2024-09-26 12:27:23,590 - __main__ - DEBUG - \tn_seg:1436, n_evt:214, annot_dist:{0: 665, 1: 178, 2: 483, 3: 9, 5: 104, 9: 1}, clz_lbl_dist:{0: 662, 1: 670, 2: 104}, remain:3000\n",
      "2024-09-26 12:27:23,593 - __main__ - DEBUG - Loading mesa-sleep-1917...\n"
     ]
    },
    {
     "name": "stdout",
     "output_type": "stream",
     "text": [
      "Traceback (most recent call last):\n",
      "  File \"h:\\Projects\\split_vae\\datasource.py\", line 428, in _initialise\n",
      "    seg = self.process_validate_segment(seg, f)\n",
      "  File \"h:\\Projects\\split_vae\\datasource.py\", line 485, in process_validate_segment\n",
      "    'beats': get_beats(ecg_cleaned, self.hz, self.rr_seg_dim, n_beat=2) if self.is_ecg_beats else [],\n",
      "  File \"h:\\Projects\\split_vae\\datasource.py\", line 82, in get_beats\n",
      "    beats = nk.ecg_segment(y, rpeaks=None, sampling_rate=hz, show=False)\n",
      "  File \"c:\\Users\\s222165064\\.conda\\envs\\split_vae\\lib\\site-packages\\neurokit2\\ecg\\ecg_segment.py\", line 64, in ecg_segment\n",
      "    heartbeats = epochs_create(\n",
      "  File \"c:\\Users\\s222165064\\.conda\\envs\\split_vae\\lib\\site-packages\\neurokit2\\epochs\\epochs_create.py\", line 164, in epochs_create\n",
      "    epoch_max_duration = int(max((i * sampling_rate for i in parameters[\"duration\"])))\n",
      "ValueError: cannot convert float NaN to integer\n",
      "\n",
      "Extracting EDF parameters from E:\\s222165064\\data\\mesa\\polysomnography\\set1x20\\mesa-sleep-1917.edf...\n",
      "EDF file detected\n",
      "Setting channel info structure...\n",
      "Creating raw.info structure...\n"
     ]
    },
    {
     "name": "stderr",
     "output_type": "stream",
     "text": [
      "2024-09-26 12:27:23,671 - __main__ - DEBUG - channels: ['EKG', 'EOG-L', 'EOG-R', 'EMG', 'EEG1', 'EEG2', 'EEG3', 'Pres', 'Flow', 'Snore', 'Thor', 'Abdo', 'Leg', 'Therm', 'Pos', 'EKG_Off', 'EOG-L_Off', 'EOG-R_Off', 'EMG_Off', 'EEG1_Off', 'EEG2_Off', 'EEG3_Off', 'Pleth', 'OxStatus', 'SpO2', 'HR', 'DHR']\n"
     ]
    },
    {
     "name": "stdout",
     "output_type": "stream",
     "text": [
      "NOTE: pick_channels() is a legacy function. New code should use inst.pick(...).\n"
     ]
    },
    {
     "name": "stderr",
     "output_type": "stream",
     "text": [
      "2024-09-26 12:27:25,088 - __main__ - DEBUG - channels: ['EKG'], search:ekg, src_hz:256\n",
      "2024-09-26 12:27:38,169 - __main__ - DEBUG - [mesa-sleep-1917] 171 events, age:0\n",
      "c:\\Users\\s222165064\\.conda\\envs\\split_vae\\lib\\site-packages\\neurokit2\\signal\\signal_fixpeaks.py:307: RuntimeWarning: divide by zero encountered in divide\n",
      "  mrrs /= th2\n",
      "c:\\Users\\s222165064\\.conda\\envs\\split_vae\\lib\\site-packages\\neurokit2\\signal\\signal_fixpeaks.py:307: RuntimeWarning: invalid value encountered in divide\n",
      "  mrrs /= th2\n",
      "2024-09-26 12:31:16,331 - __main__ - DEBUG - \tn_seg:1435, n_evt:171, annot_dist:{0: 665, 1: 57, 2: 571, 3: 23, 5: 123}, clz_lbl_dist:{0: 661, 1: 651, 2: 123}, remain:2800\n",
      "2024-09-26 12:31:16,339 - __main__ - DEBUG - Total files:20, n_seg:21742, distribution:(array([0, 1, 2]), array([ 9140, 10588,  2014], dtype=int64))\n"
     ]
    }
   ],
   "source": [
    "\"\"\"Data source\"\"\"\n",
    "BASEDATADIR = r'E://s222165064'\n",
    "\n",
    "class_map = {0:0, 1:1, 2:1, 3:1, 4:1, 5:2}\n",
    "# class_map = {0:0, 1:1, 2:1, 3:2, 4:2, 5:3}\n",
    "n_class = len(set(class_map.values()))\n",
    "params['n_class'] = n_class\n",
    "log(f\"class-map: {class_map}\")\n",
    "ds = datasource.MesaDb(\n",
    "    f\"{BASEDATADIR}/data/mesa/polysomnography\", data_subdir=\"set1x20\",\n",
    "    hz=100, n_subjects=-1, hz_rr=params['hz_rr'], class_map=class_map, \n",
    "    is_rr_sig=False, is_rsp=False, is_ecg_beats=True, log=log,\n",
    ")"
   ]
  },
  {
   "cell_type": "code",
   "execution_count": 9,
   "metadata": {},
   "outputs": [
    {
     "name": "stderr",
     "output_type": "stream",
     "text": [
      "2024-09-26 12:36:50,396 - __main__ - DEBUG - ['mesa-sleep-0046', 'mesa-sleep-0155', 'mesa-sleep-0236', 'mesa-sleep-0271', 'mesa-sleep-0312', 'mesa-sleep-0332', 'mesa-sleep-0419', 'mesa-sleep-0537', 'mesa-sleep-0558', 'mesa-sleep-0643', 'mesa-sleep-0744', 'mesa-sleep-0934', 'mesa-sleep-1010', 'mesa-sleep-1044', 'mesa-sleep-1604', 'mesa-sleep-1789', 'mesa-sleep-1790', 'mesa-sleep-1803', 'mesa-sleep-1901', 'mesa-sleep-1917']\n",
      "2024-09-26 12:36:50,399 - __main__ - DEBUG - N (20) train/val/test: 14/2/4\n",
      "2024-09-26 12:36:50,402 - __main__ - DEBUG - Train: ['mesa-sleep-0046', 'mesa-sleep-0155', 'mesa-sleep-0236', 'mesa-sleep-0271', 'mesa-sleep-0312', 'mesa-sleep-0332', 'mesa-sleep-0419', 'mesa-sleep-0537', 'mesa-sleep-0558', 'mesa-sleep-0643', 'mesa-sleep-0744', 'mesa-sleep-0934', 'mesa-sleep-1010', 'mesa-sleep-1044'], val: ['mesa-sleep-1604', 'mesa-sleep-1789'], test:['mesa-sleep-1790', 'mesa-sleep-1803', 'mesa-sleep-1901', 'mesa-sleep-1917']\n",
      "2024-09-26 12:36:50,421 - __main__ - DEBUG - Data-loader size train: 448, val: 84, test: 146\n"
     ]
    },
    {
     "name": "stdout",
     "output_type": "stream",
     "text": [
      "20 14 2 4\n",
      "label distribution: ['0:5778', '1:7208', '2:1366']\n",
      "label distribution: ['0:1216', '1:1188', '2:287']\n",
      "label distribution: ['0:2146', '1:2192', '2:361']\n"
     ]
    }
   ],
   "source": [
    "ds.record_names.sort()\n",
    "log(ds.record_names)\n",
    "\n",
    "n_rec = len(ds.record_names)\n",
    "train_frac = math.ceil(n_rec*0.8)\n",
    "test_frac = n_rec - train_frac\n",
    "validation_frac = math.ceil(train_frac*0.1)\n",
    "train_frac = train_frac - validation_frac\n",
    "print(n_rec, train_frac, validation_frac, test_frac)\n",
    "\n",
    "train_rec_names = ds.record_names[:train_frac]\n",
    "validation_rec_names = ds.record_names[train_frac:train_frac+validation_frac]\n",
    "test_rec_names = ds.record_names[train_frac+validation_frac:]\n",
    "log(f\"N ({n_rec}) train/val/test: {train_frac}/{validation_frac}/{test_frac}\")\n",
    "log(f\"Train: {train_rec_names}, val: {validation_rec_names}, test:{test_rec_names}\")\n",
    "\n",
    "train_idx = []\n",
    "for rec in train_rec_names:\n",
    "    train_idx.extend(ds.record_wise_segments[rec])\n",
    "validation_idx = []\n",
    "for rec in validation_rec_names:\n",
    "    validation_idx.extend(ds.record_wise_segments[rec])\n",
    "test_idx = []\n",
    "for rec in test_rec_names:\n",
    "    test_idx.extend(ds.record_wise_segments[rec])\n",
    "\n",
    "r\"Data loaders\"\n",
    "train_dataset = datasource.PartialDataset(ds, seg_index=train_idx, shuffle=True)\n",
    "data_loader_train = torch.utils.data.DataLoader(\n",
    "    dataset=train_dataset, batch_size=params['batch_size'], shuffle=True, drop_last=True)\n",
    "\n",
    "val_dataset = datasource.PartialDataset(ds, seg_index=validation_idx, shuffle=True)\n",
    "data_loader_val = torch.utils.data.DataLoader(\n",
    "    dataset=val_dataset, batch_size=params['batch_size'], shuffle=True, drop_last=True)\n",
    "\n",
    "test_dataset = datasource.PartialDataset(ds, seg_index=test_idx, shuffle=False)\n",
    "data_loader_test = torch.utils.data.DataLoader(\n",
    "    dataset=test_dataset, batch_size=params['batch_size'], shuffle=False, drop_last=True)\n",
    "log(f\"Data-loader size train: {len(data_loader_train)}, val: {len(data_loader_val)}, test: {len(data_loader_test)}\")"
   ]
  },
  {
   "cell_type": "markdown",
   "metadata": {},
   "source": [
    "## Model"
   ]
  },
  {
   "cell_type": "code",
   "execution_count": 11,
   "metadata": {},
   "outputs": [
    {
     "name": "stderr",
     "output_type": "stream",
     "text": [
      "2024-09-26 12:37:16,128 - __main__ - DEBUG - FoldVaeClassifFoldWeightParameterizer(\n",
      "  (encoder): CausalCNNVEncoder(\n",
      "    (network): Sequential(\n",
      "      (0): CausalCNN(\n",
      "        (network): Sequential(\n",
      "          (0): CausalConvolutionBlock(\n",
      "            (causal): Sequential(\n",
      "              (0): Conv1d(1, 128, kernel_size=(5,), stride=(1,), padding=(4,))\n",
      "              (1): Chomp1d()\n",
      "              (2): LeakyReLU(negative_slope=0.01)\n",
      "              (3): Conv1d(128, 128, kernel_size=(5,), stride=(1,), padding=(4,))\n",
      "              (4): Chomp1d()\n",
      "              (5): LeakyReLU(negative_slope=0.01)\n",
      "            )\n",
      "            (upordownsample): Conv1d(1, 128, kernel_size=(1,), stride=(1,))\n",
      "          )\n",
      "          (1): CausalConvolutionBlock(\n",
      "            (causal): Sequential(\n",
      "              (0): Conv1d(128, 128, kernel_size=(5,), stride=(1,), padding=(8,), dilation=(2,))\n",
      "              (1): Chomp1d()\n",
      "              (2): LeakyReLU(negative_slope=0.01)\n",
      "              (3): Conv1d(128, 128, kernel_size=(5,), stride=(1,), padding=(8,), dilation=(2,))\n",
      "              (4): Chomp1d()\n",
      "              (5): LeakyReLU(negative_slope=0.01)\n",
      "            )\n",
      "          )\n",
      "          (2): CausalConvolutionBlock(\n",
      "            (causal): Sequential(\n",
      "              (0): Conv1d(128, 128, kernel_size=(5,), stride=(1,), padding=(16,), dilation=(4,))\n",
      "              (1): Chomp1d()\n",
      "              (2): LeakyReLU(negative_slope=0.01)\n",
      "              (3): Conv1d(128, 128, kernel_size=(5,), stride=(1,), padding=(16,), dilation=(4,))\n",
      "              (4): Chomp1d()\n",
      "              (5): LeakyReLU(negative_slope=0.01)\n",
      "            )\n",
      "          )\n",
      "          (3): CausalConvolutionBlock(\n",
      "            (causal): Sequential(\n",
      "              (0): Conv1d(128, 128, kernel_size=(5,), stride=(1,), padding=(32,), dilation=(8,))\n",
      "              (1): Chomp1d()\n",
      "              (2): LeakyReLU(negative_slope=0.01)\n",
      "              (3): Conv1d(128, 128, kernel_size=(5,), stride=(1,), padding=(32,), dilation=(8,))\n",
      "              (4): Chomp1d()\n",
      "              (5): LeakyReLU(negative_slope=0.01)\n",
      "            )\n",
      "          )\n",
      "          (4): CausalConvolutionBlock(\n",
      "            (causal): Sequential(\n",
      "              (0): Conv1d(128, 128, kernel_size=(5,), stride=(1,), padding=(64,), dilation=(16,))\n",
      "              (1): Chomp1d()\n",
      "              (2): LeakyReLU(negative_slope=0.01)\n",
      "              (3): Conv1d(128, 128, kernel_size=(5,), stride=(1,), padding=(64,), dilation=(16,))\n",
      "              (4): Chomp1d()\n",
      "              (5): LeakyReLU(negative_slope=0.01)\n",
      "            )\n",
      "          )\n",
      "          (5): CausalConvolutionBlock(\n",
      "            (causal): Sequential(\n",
      "              (0): Conv1d(128, 64, kernel_size=(5,), stride=(1,), padding=(128,), dilation=(32,))\n",
      "              (1): Chomp1d()\n",
      "              (2): LeakyReLU(negative_slope=0.01)\n",
      "              (3): Conv1d(64, 64, kernel_size=(5,), stride=(1,), padding=(128,), dilation=(32,))\n",
      "              (4): Chomp1d()\n",
      "              (5): LeakyReLU(negative_slope=0.01)\n",
      "            )\n",
      "            (upordownsample): Conv1d(128, 64, kernel_size=(1,), stride=(1,))\n",
      "          )\n",
      "        )\n",
      "      )\n",
      "      (1): AdaptiveMaxPool1d(output_size=1)\n",
      "      (2): SqueezeChannels()\n",
      "    )\n",
      "    (linear_mean): Linear(in_features=64, out_features=32, bias=True)\n",
      "    (linear_sd): Sequential(\n",
      "      (0): Linear(in_features=64, out_features=32, bias=True)\n",
      "      (1): Softplus(\n",
      "        (softplus): Softplus(beta=1.0, threshold=20.0)\n",
      "      )\n",
      "    )\n",
      "  )\n",
      "  (decoder): CausalCNNVDecoder(\n",
      "    (linear1): Linear(in_features=32, out_features=64, bias=True)\n",
      "    (linear2): Linear(in_features=64, out_features=19200, bias=True)\n",
      "    (causal_cnn): CausalCNN(\n",
      "      (network): Sequential(\n",
      "        (0): CausalConvolutionBlock(\n",
      "          (causal): Sequential(\n",
      "            (0): Conv1d(64, 128, kernel_size=(5,), stride=(1,), padding=(128,), dilation=(32,))\n",
      "            (1): Chomp1d()\n",
      "            (2): LeakyReLU(negative_slope=0.01)\n",
      "            (3): Conv1d(128, 128, kernel_size=(5,), stride=(1,), padding=(128,), dilation=(32,))\n",
      "            (4): Chomp1d()\n",
      "            (5): LeakyReLU(negative_slope=0.01)\n",
      "          )\n",
      "          (upordownsample): Conv1d(64, 128, kernel_size=(1,), stride=(1,))\n",
      "        )\n",
      "        (1): CausalConvolutionBlock(\n",
      "          (causal): Sequential(\n",
      "            (0): Conv1d(128, 128, kernel_size=(5,), stride=(1,), padding=(64,), dilation=(16,))\n",
      "            (1): Chomp1d()\n",
      "            (2): LeakyReLU(negative_slope=0.01)\n",
      "            (3): Conv1d(128, 128, kernel_size=(5,), stride=(1,), padding=(64,), dilation=(16,))\n",
      "            (4): Chomp1d()\n",
      "            (5): LeakyReLU(negative_slope=0.01)\n",
      "          )\n",
      "        )\n",
      "        (2): CausalConvolutionBlock(\n",
      "          (causal): Sequential(\n",
      "            (0): Conv1d(128, 128, kernel_size=(5,), stride=(1,), padding=(32,), dilation=(8,))\n",
      "            (1): Chomp1d()\n",
      "            (2): LeakyReLU(negative_slope=0.01)\n",
      "            (3): Conv1d(128, 128, kernel_size=(5,), stride=(1,), padding=(32,), dilation=(8,))\n",
      "            (4): Chomp1d()\n",
      "            (5): LeakyReLU(negative_slope=0.01)\n",
      "          )\n",
      "        )\n",
      "        (3): CausalConvolutionBlock(\n",
      "          (causal): Sequential(\n",
      "            (0): Conv1d(128, 128, kernel_size=(5,), stride=(1,), padding=(16,), dilation=(4,))\n",
      "            (1): Chomp1d()\n",
      "            (2): LeakyReLU(negative_slope=0.01)\n",
      "            (3): Conv1d(128, 128, kernel_size=(5,), stride=(1,), padding=(16,), dilation=(4,))\n",
      "            (4): Chomp1d()\n",
      "            (5): LeakyReLU(negative_slope=0.01)\n",
      "          )\n",
      "        )\n",
      "        (4): CausalConvolutionBlock(\n",
      "          (causal): Sequential(\n",
      "            (0): Conv1d(128, 128, kernel_size=(5,), stride=(1,), padding=(8,), dilation=(2,))\n",
      "            (1): Chomp1d()\n",
      "            (2): LeakyReLU(negative_slope=0.01)\n",
      "            (3): Conv1d(128, 128, kernel_size=(5,), stride=(1,), padding=(8,), dilation=(2,))\n",
      "            (4): Chomp1d()\n",
      "            (5): LeakyReLU(negative_slope=0.01)\n",
      "          )\n",
      "        )\n",
      "        (5): CausalConvolutionBlock(\n",
      "          (causal): Sequential(\n",
      "            (0): Conv1d(128, 1, kernel_size=(5,), stride=(1,), padding=(4,))\n",
      "            (1): Chomp1d()\n",
      "            (2): LeakyReLU(negative_slope=0.01)\n",
      "            (3): Conv1d(1, 1, kernel_size=(5,), stride=(1,), padding=(4,))\n",
      "            (4): Chomp1d()\n",
      "            (5): LeakyReLU(negative_slope=0.01)\n",
      "          )\n",
      "          (upordownsample): Conv1d(128, 1, kernel_size=(1,), stride=(1,))\n",
      "        )\n",
      "      )\n",
      "    )\n",
      "  )\n",
      "  (out_sigmoid): Sigmoid()\n",
      "  (parameterizer): Parameterizer(\n",
      "    (encoder): Sequential(\n",
      "      (0): ConvNormPool(\n",
      "        (conv_1): Conv1d(1, 32, kernel_size=(5,), stride=(1,))\n",
      "        (conv_2): Conv1d(32, 32, kernel_size=(5,), stride=(1,))\n",
      "        (conv_3): Conv1d(32, 32, kernel_size=(5,), stride=(1,))\n",
      "        (swish_1): Swish()\n",
      "        (swish_2): Swish()\n",
      "        (swish_3): Swish()\n",
      "        (normalization_1): BatchNorm1d(32, eps=1e-05, momentum=0.1, affine=True, track_running_stats=True)\n",
      "        (normalization_2): BatchNorm1d(32, eps=1e-05, momentum=0.1, affine=True, track_running_stats=True)\n",
      "        (normalization_3): BatchNorm1d(32, eps=1e-05, momentum=0.1, affine=True, track_running_stats=True)\n",
      "        (pool): MaxPool1d(kernel_size=2, stride=2, padding=0, dilation=1, ceil_mode=False)\n",
      "      )\n",
      "      (1): AdaptiveMaxPool1d(output_size=1)\n",
      "    )\n",
      "    (proj): Sequential(\n",
      "      (0): BatchNorm1d(32, eps=1e-05, momentum=0.1, affine=True, track_running_stats=True)\n",
      "      (1): Swish()\n",
      "      (2): Dropout(p=0.5, inplace=False)\n",
      "      (3): Linear(in_features=32, out_features=10, bias=True)\n",
      "      (4): Softplus(beta=1.0, threshold=20.0)\n",
      "    )\n",
      "  )\n",
      "  (aggregator): Aggregator(\n",
      "    (fc): Sequential(\n",
      "      (0): BatchNorm1d(32, eps=1e-05, momentum=0.1, affine=True, track_running_stats=True)\n",
      "      (1): Swish()\n",
      "      (2): Linear(in_features=32, out_features=3, bias=True)\n",
      "    )\n",
      "  )\n",
      "  (classif_stage): Softmax(dim=1)\n",
      ")\n",
      "2024-09-26 12:37:16,142 - __main__ - DEBUG - # params total: 2863413\n",
      "2024-09-26 12:37:16,149 - __main__ - DEBUG - input: torch.Size([32, 1, 3000])\n",
      "2024-09-26 12:37:17,476 - __main__ - DEBUG - --VAE enc_mu:torch.Size([32, 32]), enc_sd:torch.Size([32, 32])\n",
      "2024-09-26 12:37:17,486 - __main__ - DEBUG - --VAE _z:torch.Size([32, 32]), enc_mu:torch.Size([32, 1, 32]), enc_sd:torch.Size([32, 1, 32])\n",
      "2024-09-26 12:37:17,489 - __main__ - DEBUG - ENC x_split[0]:torch.Size([32, 1, 300]), _z:torch.Size([32, 32]), z:torch.Size([32, 32])\n"
     ]
    },
    {
     "name": "stdout",
     "output_type": "stream",
     "text": [
      "--CausalCNNVDecoder linear1:torch.Size([32, 64])\n",
      "--CausalCNNVDecoder linear2:torch.Size([32, 19200])\n",
      "--CausalCNNVDecoder reshape:torch.Size([32, 64, 300])\n"
     ]
    },
    {
     "name": "stderr",
     "output_type": "stream",
     "text": [
      "2024-09-26 12:37:19,011 - __main__ - DEBUG - DEC x_split[0]:torch.Size([32, 1, 300]), _x_hat:torch.Size([32, 1, 300]), x_hat:torch.Size([32, 1, 300])\n"
     ]
    },
    {
     "name": "stdout",
     "output_type": "stream",
     "text": [
      "--CausalCNNVDecoder out_causal_cnn:torch.Size([32, 1, 300])\n"
     ]
    },
    {
     "name": "stderr",
     "output_type": "stream",
     "text": [
      "2024-09-26 12:37:20,181 - __main__ - DEBUG - --VAE enc_mu:torch.Size([32, 32]), enc_sd:torch.Size([32, 32])\n",
      "2024-09-26 12:37:20,187 - __main__ - DEBUG - --VAE _z:torch.Size([32, 32]), enc_mu:torch.Size([32, 2, 32]), enc_sd:torch.Size([32, 2, 32])\n",
      "2024-09-26 12:37:20,189 - __main__ - DEBUG - ENC x_split[1]:torch.Size([32, 1, 300]), _z:torch.Size([32, 32]), z:torch.Size([32, 64])\n",
      "2024-09-26 12:37:20,563 - __main__ - DEBUG - DEC x_split[1]:torch.Size([32, 1, 300]), _x_hat:torch.Size([32, 1, 300]), x_hat:torch.Size([32, 1, 600])\n",
      "2024-09-26 12:37:20,785 - __main__ - DEBUG - --VAE enc_mu:torch.Size([32, 32]), enc_sd:torch.Size([32, 32])\n",
      "2024-09-26 12:37:20,789 - __main__ - DEBUG - --VAE _z:torch.Size([32, 32]), enc_mu:torch.Size([32, 3, 32]), enc_sd:torch.Size([32, 3, 32])\n",
      "2024-09-26 12:37:20,792 - __main__ - DEBUG - ENC x_split[2]:torch.Size([32, 1, 300]), _z:torch.Size([32, 32]), z:torch.Size([32, 96])\n",
      "2024-09-26 12:37:22,408 - __main__ - DEBUG - DEC x_split[2]:torch.Size([32, 1, 300]), _x_hat:torch.Size([32, 1, 300]), x_hat:torch.Size([32, 1, 900])\n",
      "2024-09-26 12:37:24,198 - __main__ - DEBUG - --VAE enc_mu:torch.Size([32, 32]), enc_sd:torch.Size([32, 32])\n",
      "2024-09-26 12:37:24,201 - __main__ - DEBUG - --VAE _z:torch.Size([32, 32]), enc_mu:torch.Size([32, 4, 32]), enc_sd:torch.Size([32, 4, 32])\n",
      "2024-09-26 12:37:24,204 - __main__ - DEBUG - ENC x_split[3]:torch.Size([32, 1, 300]), _z:torch.Size([32, 32]), z:torch.Size([32, 128])\n",
      "2024-09-26 12:37:24,917 - __main__ - DEBUG - DEC x_split[3]:torch.Size([32, 1, 300]), _x_hat:torch.Size([32, 1, 300]), x_hat:torch.Size([32, 1, 1200])\n",
      "2024-09-26 12:37:25,760 - __main__ - DEBUG - --VAE enc_mu:torch.Size([32, 32]), enc_sd:torch.Size([32, 32])\n",
      "2024-09-26 12:37:25,763 - __main__ - DEBUG - --VAE _z:torch.Size([32, 32]), enc_mu:torch.Size([32, 5, 32]), enc_sd:torch.Size([32, 5, 32])\n",
      "2024-09-26 12:37:25,765 - __main__ - DEBUG - ENC x_split[4]:torch.Size([32, 1, 300]), _z:torch.Size([32, 32]), z:torch.Size([32, 160])\n",
      "2024-09-26 12:37:25,901 - __main__ - DEBUG - DEC x_split[4]:torch.Size([32, 1, 300]), _x_hat:torch.Size([32, 1, 300]), x_hat:torch.Size([32, 1, 1500])\n",
      "2024-09-26 12:37:27,197 - __main__ - DEBUG - --VAE enc_mu:torch.Size([32, 32]), enc_sd:torch.Size([32, 32])\n",
      "2024-09-26 12:37:27,200 - __main__ - DEBUG - --VAE _z:torch.Size([32, 32]), enc_mu:torch.Size([32, 6, 32]), enc_sd:torch.Size([32, 6, 32])\n",
      "2024-09-26 12:37:27,203 - __main__ - DEBUG - ENC x_split[5]:torch.Size([32, 1, 300]), _z:torch.Size([32, 32]), z:torch.Size([32, 192])\n",
      "2024-09-26 12:37:28,063 - __main__ - DEBUG - DEC x_split[5]:torch.Size([32, 1, 300]), _x_hat:torch.Size([32, 1, 300]), x_hat:torch.Size([32, 1, 1800])\n",
      "2024-09-26 12:37:28,208 - __main__ - DEBUG - --VAE enc_mu:torch.Size([32, 32]), enc_sd:torch.Size([32, 32])\n",
      "2024-09-26 12:37:28,211 - __main__ - DEBUG - --VAE _z:torch.Size([32, 32]), enc_mu:torch.Size([32, 7, 32]), enc_sd:torch.Size([32, 7, 32])\n",
      "2024-09-26 12:37:28,214 - __main__ - DEBUG - ENC x_split[6]:torch.Size([32, 1, 300]), _z:torch.Size([32, 32]), z:torch.Size([32, 224])\n",
      "2024-09-26 12:37:29,093 - __main__ - DEBUG - DEC x_split[6]:torch.Size([32, 1, 300]), _x_hat:torch.Size([32, 1, 300]), x_hat:torch.Size([32, 1, 2100])\n",
      "2024-09-26 12:37:29,386 - __main__ - DEBUG - --VAE enc_mu:torch.Size([32, 32]), enc_sd:torch.Size([32, 32])\n",
      "2024-09-26 12:37:29,390 - __main__ - DEBUG - --VAE _z:torch.Size([32, 32]), enc_mu:torch.Size([32, 8, 32]), enc_sd:torch.Size([32, 8, 32])\n",
      "2024-09-26 12:37:29,394 - __main__ - DEBUG - ENC x_split[7]:torch.Size([32, 1, 300]), _z:torch.Size([32, 32]), z:torch.Size([32, 256])\n",
      "2024-09-26 12:37:29,618 - __main__ - DEBUG - DEC x_split[7]:torch.Size([32, 1, 300]), _x_hat:torch.Size([32, 1, 300]), x_hat:torch.Size([32, 1, 2400])\n",
      "2024-09-26 12:37:30,660 - __main__ - DEBUG - --VAE enc_mu:torch.Size([32, 32]), enc_sd:torch.Size([32, 32])\n",
      "2024-09-26 12:37:30,663 - __main__ - DEBUG - --VAE _z:torch.Size([32, 32]), enc_mu:torch.Size([32, 9, 32]), enc_sd:torch.Size([32, 9, 32])\n",
      "2024-09-26 12:37:30,667 - __main__ - DEBUG - ENC x_split[8]:torch.Size([32, 1, 300]), _z:torch.Size([32, 32]), z:torch.Size([32, 288])\n",
      "2024-09-26 12:37:31,389 - __main__ - DEBUG - DEC x_split[8]:torch.Size([32, 1, 300]), _x_hat:torch.Size([32, 1, 300]), x_hat:torch.Size([32, 1, 2700])\n",
      "2024-09-26 12:37:32,238 - __main__ - DEBUG - --VAE enc_mu:torch.Size([32, 32]), enc_sd:torch.Size([32, 32])\n",
      "2024-09-26 12:37:32,241 - __main__ - DEBUG - --VAE _z:torch.Size([32, 32]), enc_mu:torch.Size([32, 10, 32]), enc_sd:torch.Size([32, 10, 32])\n",
      "2024-09-26 12:37:32,243 - __main__ - DEBUG - ENC x_split[9]:torch.Size([32, 1, 300]), _z:torch.Size([32, 32]), z:torch.Size([32, 320])\n",
      "2024-09-26 12:37:33,218 - __main__ - DEBUG - DEC x_split[9]:torch.Size([32, 1, 300]), _x_hat:torch.Size([32, 1, 300]), x_hat:torch.Size([32, 1, 3000])\n",
      "2024-09-26 12:37:33,225 - __main__ - DEBUG - Aggregate enc_mu:torch.Size([32, 32]), enc_sd:torch.Size([32, 32])\n",
      "2024-09-26 12:37:34,252 - __main__ - DEBUG - z_folds_flat: torch.Size([32, 320])\n"
     ]
    },
    {
     "name": "stdout",
     "output_type": "stream",
     "text": [
      "recon: torch.Size([32, 1, 3000]), proba:torch.Size([32, 3])\n"
     ]
    }
   ],
   "source": [
    "\"\"\"prepare model\"\"\"\n",
    "params['n_class'] = n_class\n",
    "params_decoder = params['decoder'].copy()\n",
    "params_decoder['width'] = params['hz'] * params['seg_len_sec']\n",
    "\n",
    "net = causal_cnn_models.FoldVaeClassifFoldWeightParameterizer(\n",
    "    params['encoder'], params_decoder, n_split=params['n_split'], \n",
    "    n_class=params['n_class'], log=log, debug=True,\n",
    ")\n",
    "\n",
    "log(net)\n",
    "log(f\"# params total: {net_utils.count_parameters(net)}\")\n",
    "\n",
    "x = torch.randn(32, 1, params['seg_len'])\n",
    "\n",
    "outputs = net(x)    \n",
    "recon_x = outputs['x_hat']\n",
    "clz_proba = outputs['clz_proba']\n",
    "\n",
    "print(f\"recon: {recon_x.shape}, proba:{clz_proba.shape}\")\n"
   ]
  },
  {
   "cell_type": "markdown",
   "metadata": {},
   "source": [
    "# Model Training"
   ]
  },
  {
   "cell_type": "code",
   "execution_count": 14,
   "metadata": {},
   "outputs": [
    {
     "name": "stderr",
     "output_type": "stream",
     "text": [
      "2024-09-26 12:44:05,675 - __main__ - DEBUG - freq:[5778. 7208. 1366.], weights:[0.23641398 0.18951165 1.        ]\n",
      "2024-09-26 12:49:01,311 - __main__ - DEBUG - Val loss updated 1000.0 -> 1.1309087240979785\n",
      "2024-09-26 12:49:01,314 - __main__ - DEBUG - epoch:0, loss-recon:0.70347, loss-classif:0.97304, time:4m 39s\n",
      "2024-09-26 12:54:01,195 - __main__ - DEBUG - epoch:1, loss-recon:0.68746, loss-classif:0.94578, time:4m 42s\n",
      "2024-09-26 12:59:01,440 - __main__ - DEBUG - epoch:2, loss-recon:0.68517, loss-classif:0.93166, time:4m 43s\n",
      "2024-09-26 13:04:00,603 - __main__ - DEBUG - epoch:3, loss-recon:0.68425, loss-classif:0.92471, time:4m 42s\n",
      "2024-09-26 13:09:00,227 - __main__ - DEBUG - Val loss updated 1.1309087240979785 -> 1.056599693638938\n",
      "2024-09-26 13:09:00,232 - __main__ - DEBUG - epoch:4, loss-recon:0.68437, loss-classif:0.92108, time:4m 42s\n",
      "2024-09-26 13:14:01,183 - __main__ - DEBUG - epoch:5, loss-recon:0.68475, loss-classif:0.91006, time:4m 44s\n",
      "2024-09-26 13:19:01,351 - __main__ - DEBUG - epoch:6, loss-recon:0.68627, loss-classif:0.90843, time:4m 43s\n",
      "2024-09-26 13:24:00,599 - __main__ - DEBUG - epoch:7, loss-recon:0.68462, loss-classif:0.90467, time:4m 43s\n",
      "2024-09-26 13:29:01,048 - __main__ - DEBUG - epoch:8, loss-recon:0.68321, loss-classif:0.89618, time:4m 43s\n",
      "2024-09-26 13:34:02,184 - __main__ - DEBUG - epoch:9, loss-recon:0.68135, loss-classif:0.89112, time:4m 44s\n"
     ]
    }
   ],
   "source": [
    "def calculate_recon_loss(\n",
    "        criteria_recon, recon_net, input, x_hat):\n",
    "    loss_recon = 1. * criteria_recon(x_hat.squeeze(1), input.squeeze(1))\n",
    "    elbo = 1. * net.kl\n",
    "    loss_recon =  loss_recon + elbo    \n",
    "    return loss_recon\n",
    "\n",
    "\n",
    "def calculate_classif_loss(criteria_classif, cls_proba, labels):\n",
    "    loss_classif = 1*criteria_classif(cls_proba, labels)\n",
    "    return loss_classif\n",
    "\n",
    "writer = SummaryWriter()\n",
    "\n",
    "r\"Prepare model training\"\n",
    "model_files = [\n",
    "    f\"{model_path}/fold0_net.pt\", \n",
    "]\n",
    "model_instances = [\n",
    "    net, \n",
    "]\n",
    "\n",
    "class_weights = torch.from_numpy(net_utils.get_class_weights(\n",
    "    [ds.seg_labels[i] for i in train_idx], n_class=n_class, log=log\n",
    ")[-1]).type(torch.FloatTensor).to(DEVICE)\n",
    "\n",
    "optimizer = torch.optim.Adam(net.parameters(), lr=params['lr'])\n",
    "\n",
    "criteria_classif = nn.CrossEntropyLoss(weight=class_weights)\n",
    "criteria_recon = nn.BCELoss()\n",
    "\n",
    "r\"Model training\"\n",
    "alpha = 500.\n",
    "lambda_1 = 200.\n",
    "lambda_2 = 0.\n",
    "min_val_loss = 1000.\n",
    "net.to(DEVICE)\n",
    "\n",
    "for epoch in range(params['max_epoch']):\n",
    "    since = time.time()\n",
    "    epoch_recon_loss, epoch_classif_loss = 0., 0.\n",
    "    \n",
    "    net.train()\n",
    "    # net_classif.train()\n",
    "    for i_batch, batch_data in enumerate(data_loader_train):\n",
    "\n",
    "        inputs = batch_data['ecg'].to(DEVICE)\n",
    "        labels = batch_data['label'].to(DEVICE)\n",
    "        \n",
    "        optimizer.zero_grad()\n",
    "        \n",
    "        outputs = net(inputs)\n",
    "        x_hats = outputs['x_hat']\n",
    "        z = outputs['z']\n",
    "        cls_proba = outputs['clz_proba'] \n",
    "\n",
    "        if epoch % 5 == 0 and i_batch == 0:\n",
    "            viz_epoch_batch(epoch, i_batch, inputs, x_hats, log_path)\n",
    "\n",
    "        loss_recon = calculate_recon_loss(criteria_recon, net, inputs, x_hats)\n",
    "        loss_classif = calculate_classif_loss(criteria_classif, cls_proba, labels)\n",
    "        \n",
    "        total_loss = alpha*loss_recon + lambda_1*loss_classif\n",
    "        total_loss.backward()\n",
    "        optimizer.step()\n",
    "\n",
    "        epoch_recon_loss += loss_recon.detach().cpu().numpy()\n",
    "        epoch_classif_loss += loss_classif.detach().cpu().numpy()\n",
    "\n",
    "    \n",
    "    time_elapsed = time.time() - since\n",
    "    epoch_recon_loss = epoch_recon_loss / len(data_loader_train)\n",
    "    epoch_classif_loss = epoch_classif_loss / len(data_loader_train)\n",
    "    writer.add_scalar(\"Loss/Reconstruction/train\", epoch_recon_loss, epoch)\n",
    "    writer.add_scalar(\"Loss/Classification/train\", epoch_classif_loss, epoch)\n",
    "\n",
    "    val_loss = 0.\n",
    "    \n",
    "    net.eval()\n",
    "    # net_classif.eval()\n",
    "    with torch.no_grad():\n",
    "        for batch_data in data_loader_val:\n",
    "            inputs = batch_data['ecg'].to(DEVICE)\n",
    "            labels = batch_data['label'].to(DEVICE)\n",
    "\n",
    "            outputs = net(inputs)\n",
    "            x_hats = outputs['x_hat']\n",
    "            z = outputs['z']\n",
    "            cls_proba = outputs['clz_proba'] \n",
    "\n",
    "            loss = calculate_classif_loss(criteria_classif, cls_proba, labels)\n",
    "            val_loss += loss.detach().cpu().numpy()\n",
    "        val_loss = val_loss / len(data_loader_val)\n",
    "\n",
    "    if val_loss < min_val_loss:\n",
    "        save_models({\n",
    "            model_files[0]: model_instances[0],\n",
    "        })\n",
    "        # torch.save(net.state_dict(), model_file)\n",
    "        log(f\"Val loss updated {min_val_loss} -> {val_loss}\")\n",
    "        min_val_loss = val_loss\n",
    "    writer.add_scalar(\"Loss/Total/validation\", val_loss, epoch)\n",
    "    log(\n",
    "        f\"epoch:{epoch}, loss-recon:{epoch_recon_loss:.5f}, loss-classif:{epoch_classif_loss:.5f}, \"\n",
    "        f\"time:{time_elapsed // 60:.0f}m {time_elapsed % 60:.0f}s\"\n",
    "    )"
   ]
  },
  {
   "cell_type": "markdown",
   "metadata": {},
   "source": [
    "# Model Evaluation"
   ]
  },
  {
   "cell_type": "code",
   "execution_count": 15,
   "metadata": {},
   "outputs": [],
   "source": [
    "r\"Validation\"\n",
    "def init_load_models(params):\n",
    "    \"\"\"prepare model\"\"\"\n",
    "    params_decoder = params['decoder'].copy()\n",
    "    params_decoder['width'] = params['hz'] * params['seg_len_sec']\n",
    "    net = causal_cnn_models.FoldVaeClassifFoldWeight(\n",
    "        params['encoder'], params_decoder, n_split=params['n_split'], \n",
    "        n_class=params['n_class'], log=log, debug=False,\n",
    "    )\n",
    "\n",
    "    model_files = [\n",
    "        f\"{params['model_path']}/fold0_net.pt\", \n",
    "    ]\n",
    "    model_instances = [net]\n",
    "    load_models({\n",
    "        model_files[0]: model_instances[0].to(DEVICE),\n",
    "    }, device=DEVICE)\n",
    "    net.eval()\n",
    "    return model_instances"
   ]
  },
  {
   "cell_type": "code",
   "execution_count": 16,
   "metadata": {},
   "outputs": [],
   "source": [
    "r\"Validation\"\n",
    "def init_load_models_z(params):\n",
    "    \"\"\"prepare model\"\"\"\n",
    "    params_decoder = params['decoder'].copy()\n",
    "    params_decoder['width'] = params['hz'] * params['seg_len_sec']\n",
    "    net = causal_cnn_models.FoldVaeClassifFoldWeightParameterizer(\n",
    "        params['encoder'], params_decoder, n_split=params['n_split'], \n",
    "        n_class=params['n_class'], log=log, debug=False,\n",
    "    )\n",
    "\n",
    "    model_files = [\n",
    "        f\"{params['model_path']}/fold0_net.pt\", \n",
    "    ]\n",
    "    model_instances = [net]\n",
    "    load_models({\n",
    "        model_files[0]: model_instances[0].to(DEVICE),\n",
    "    }, device=DEVICE)\n",
    "    net.eval()\n",
    "    return model_instances\n"
   ]
  },
  {
   "cell_type": "code",
   "execution_count": 17,
   "metadata": {},
   "outputs": [
    {
     "name": "stdout",
     "output_type": "stream",
     "text": [
      "Data base-dir:E://s222165064/data/mesa/polysomnography, data:set1x20, annot:annotations-events-nsrr, hz:100, seg_sec:30, class_map:{0: 0, 1: 1, 2: 1, 3: 1, 4: 1, 5: 2}, n_classes:3\n",
      "Loading mesa-sleep-1790...\n",
      "Extracting EDF parameters from E:\\s222165064\\data\\mesa\\polysomnography\\set1x20\\mesa-sleep-1790.edf...\n",
      "EDF file detected\n",
      "Setting channel info structure...\n",
      "Creating raw.info structure...\n",
      "channels: ['EKG', 'EOG-L', 'EOG-R', 'EMG', 'EEG1', 'EEG2', 'EEG3', 'Pres', 'Flow', 'Snore', 'Thor', 'Abdo', 'Leg', 'Therm', 'Pos', 'EKG_Off', 'EOG-L_Off', 'EOG-R_Off', 'EMG_Off', 'EEG1_Off', 'EEG2_Off', 'EEG3_Off', 'Pleth', 'OxStatus', 'SpO2', 'HR', 'DHR']\n",
      "NOTE: pick_channels() is a legacy function. New code should use inst.pick(...).\n",
      "channels: ['EKG'], search:ekg, src_hz:256\n",
      "[mesa-sleep-1790] 334 events, age:0\n"
     ]
    },
    {
     "name": "stderr",
     "output_type": "stream",
     "text": [
      "c:\\Users\\s222165064\\.conda\\envs\\split_vae\\lib\\site-packages\\neurokit2\\signal\\signal_period.py:84: NeuroKitWarning: Too few peaks detected to compute the rate. Returning empty vector.\n",
      "  warn(\n"
     ]
    },
    {
     "name": "stdout",
     "output_type": "stream",
     "text": [
      "Traceback (most recent call last):\n",
      "  File \"h:\\Projects\\split_vae\\datasource.py\", line 428, in _initialise\n",
      "    seg = self.process_validate_segment(seg, f)\n",
      "  File \"h:\\Projects\\split_vae\\datasource.py\", line 485, in process_validate_segment\n",
      "    'beats': get_beats(ecg_cleaned, self.hz, self.rr_seg_dim, n_beat=2) if self.is_ecg_beats else [],\n",
      "  File \"h:\\Projects\\split_vae\\datasource.py\", line 82, in get_beats\n",
      "    beats = nk.ecg_segment(y, rpeaks=None, sampling_rate=hz, show=False)\n",
      "  File \"c:\\Users\\s222165064\\.conda\\envs\\split_vae\\lib\\site-packages\\neurokit2\\ecg\\ecg_segment.py\", line 64, in ecg_segment\n",
      "    heartbeats = epochs_create(\n",
      "  File \"c:\\Users\\s222165064\\.conda\\envs\\split_vae\\lib\\site-packages\\neurokit2\\epochs\\epochs_create.py\", line 164, in epochs_create\n",
      "    epoch_max_duration = int(max((i * sampling_rate for i in parameters[\"duration\"])))\n",
      "ValueError: cannot convert float NaN to integer\n",
      "\n"
     ]
    },
    {
     "name": "stderr",
     "output_type": "stream",
     "text": [
      "c:\\Users\\s222165064\\.conda\\envs\\split_vae\\lib\\site-packages\\neurokit2\\signal\\signal_period.py:84: NeuroKitWarning: Too few peaks detected to compute the rate. Returning empty vector.\n",
      "  warn(\n"
     ]
    },
    {
     "name": "stdout",
     "output_type": "stream",
     "text": [
      "Traceback (most recent call last):\n",
      "  File \"h:\\Projects\\split_vae\\datasource.py\", line 428, in _initialise\n",
      "    seg = self.process_validate_segment(seg, f)\n",
      "  File \"h:\\Projects\\split_vae\\datasource.py\", line 485, in process_validate_segment\n",
      "    'beats': get_beats(ecg_cleaned, self.hz, self.rr_seg_dim, n_beat=2) if self.is_ecg_beats else [],\n",
      "  File \"h:\\Projects\\split_vae\\datasource.py\", line 82, in get_beats\n",
      "    beats = nk.ecg_segment(y, rpeaks=None, sampling_rate=hz, show=False)\n",
      "  File \"c:\\Users\\s222165064\\.conda\\envs\\split_vae\\lib\\site-packages\\neurokit2\\ecg\\ecg_segment.py\", line 64, in ecg_segment\n",
      "    heartbeats = epochs_create(\n",
      "  File \"c:\\Users\\s222165064\\.conda\\envs\\split_vae\\lib\\site-packages\\neurokit2\\epochs\\epochs_create.py\", line 164, in epochs_create\n",
      "    epoch_max_duration = int(max((i * sampling_rate for i in parameters[\"duration\"])))\n",
      "ValueError: cannot convert float NaN to integer\n",
      "\n",
      "\tn_seg:1196, n_evt:334, annot_dist:{0: 544, 2: 358, 1: 145, 3: 66, 5: 86}, clz_lbl_dist:{0: 541, 1: 569, 2: 86}, remain:2900\n",
      "Loading mesa-sleep-1803...\n",
      "Extracting EDF parameters from E:\\s222165064\\data\\mesa\\polysomnography\\set1x20\\mesa-sleep-1803.edf...\n",
      "EDF file detected\n",
      "Setting channel info structure...\n",
      "Creating raw.info structure...\n",
      "channels: ['EKG', 'EOG-L', 'EOG-R', 'EMG', 'EEG1', 'EEG2', 'EEG3', 'Pres', 'Flow', 'Snore', 'Thor', 'Abdo', 'Leg', 'Therm', 'Pos', 'EKG_Off', 'EOG-L_Off', 'EOG-R_Off', 'EMG_Off', 'EEG1_Off', 'EEG2_Off', 'EEG3_Off', 'Pleth', 'OxStatus', 'SpO2', 'HR', 'DHR']\n",
      "NOTE: pick_channels() is a legacy function. New code should use inst.pick(...).\n",
      "channels: ['EKG'], search:ekg, src_hz:256\n",
      "[mesa-sleep-1803] 89 events, age:1\n",
      "\tn_seg:632, n_evt:89, annot_dist:{0: 729, 1: 29, 2: 201, 3: 72, 5: 48}, clz_lbl_dist:{0: 282, 1: 302, 2: 48}, remain:2900\n",
      "Loading mesa-sleep-1901...\n",
      "Extracting EDF parameters from E:\\s222165064\\data\\mesa\\polysomnography\\set1x20\\mesa-sleep-1901.edf...\n",
      "EDF file detected\n",
      "Setting channel info structure...\n",
      "Creating raw.info structure...\n",
      "channels: ['EKG', 'EOG-L', 'EOG-R', 'EMG', 'EEG1', 'EEG2', 'EEG3', 'Pres', 'Flow', 'Snore', 'Thor', 'Abdo', 'Leg', 'Therm', 'Pos', 'EKG_Off', 'EOG-L_Off', 'EOG-R_Off', 'EMG_Off', 'EEG1_Off', 'EEG2_Off', 'EEG3_Off', 'Pleth', 'OxStatus', 'SpO2', 'HR', 'DHR']\n",
      "NOTE: pick_channels() is a legacy function. New code should use inst.pick(...).\n",
      "channels: ['EKG'], search:ekg, src_hz:256\n",
      "[mesa-sleep-1901] 214 events, age:1\n"
     ]
    },
    {
     "name": "stderr",
     "output_type": "stream",
     "text": [
      "c:\\Users\\s222165064\\.conda\\envs\\split_vae\\lib\\site-packages\\neurokit2\\signal\\signal_period.py:84: NeuroKitWarning: Too few peaks detected to compute the rate. Returning empty vector.\n",
      "  warn(\n"
     ]
    },
    {
     "name": "stdout",
     "output_type": "stream",
     "text": [
      "Traceback (most recent call last):\n",
      "  File \"h:\\Projects\\split_vae\\datasource.py\", line 428, in _initialise\n",
      "    seg = self.process_validate_segment(seg, f)\n",
      "  File \"h:\\Projects\\split_vae\\datasource.py\", line 485, in process_validate_segment\n",
      "    'beats': get_beats(ecg_cleaned, self.hz, self.rr_seg_dim, n_beat=2) if self.is_ecg_beats else [],\n",
      "  File \"h:\\Projects\\split_vae\\datasource.py\", line 82, in get_beats\n",
      "    beats = nk.ecg_segment(y, rpeaks=None, sampling_rate=hz, show=False)\n",
      "  File \"c:\\Users\\s222165064\\.conda\\envs\\split_vae\\lib\\site-packages\\neurokit2\\ecg\\ecg_segment.py\", line 64, in ecg_segment\n",
      "    heartbeats = epochs_create(\n",
      "  File \"c:\\Users\\s222165064\\.conda\\envs\\split_vae\\lib\\site-packages\\neurokit2\\epochs\\epochs_create.py\", line 164, in epochs_create\n",
      "    epoch_max_duration = int(max((i * sampling_rate for i in parameters[\"duration\"])))\n",
      "ValueError: cannot convert float NaN to integer\n",
      "\n",
      "Traceback (most recent call last):\n",
      "  File \"h:\\Projects\\split_vae\\datasource.py\", line 428, in _initialise\n",
      "    seg = self.process_validate_segment(seg, f)\n",
      "  File \"h:\\Projects\\split_vae\\datasource.py\", line 485, in process_validate_segment\n",
      "    'beats': get_beats(ecg_cleaned, self.hz, self.rr_seg_dim, n_beat=2) if self.is_ecg_beats else [],\n",
      "  File \"h:\\Projects\\split_vae\\datasource.py\", line 82, in get_beats\n",
      "    beats = nk.ecg_segment(y, rpeaks=None, sampling_rate=hz, show=False)\n",
      "  File \"c:\\Users\\s222165064\\.conda\\envs\\split_vae\\lib\\site-packages\\neurokit2\\ecg\\ecg_segment.py\", line 64, in ecg_segment\n",
      "    heartbeats = epochs_create(\n",
      "  File \"c:\\Users\\s222165064\\.conda\\envs\\split_vae\\lib\\site-packages\\neurokit2\\epochs\\epochs_create.py\", line 164, in epochs_create\n",
      "    epoch_max_duration = int(max((i * sampling_rate for i in parameters[\"duration\"])))\n",
      "ValueError: cannot convert float NaN to integer\n",
      "\n",
      "No label for annot '9' in mesa-sleep-1901.edf\n",
      "\tn_seg:1436, n_evt:214, annot_dist:{0: 665, 1: 178, 2: 483, 3: 9, 5: 104, 9: 1}, clz_lbl_dist:{0: 662, 1: 670, 2: 104}, remain:3000\n",
      "Loading mesa-sleep-1917...\n",
      "Extracting EDF parameters from E:\\s222165064\\data\\mesa\\polysomnography\\set1x20\\mesa-sleep-1917.edf...\n",
      "EDF file detected\n",
      "Setting channel info structure...\n",
      "Creating raw.info structure...\n",
      "channels: ['EKG', 'EOG-L', 'EOG-R', 'EMG', 'EEG1', 'EEG2', 'EEG3', 'Pres', 'Flow', 'Snore', 'Thor', 'Abdo', 'Leg', 'Therm', 'Pos', 'EKG_Off', 'EOG-L_Off', 'EOG-R_Off', 'EMG_Off', 'EEG1_Off', 'EEG2_Off', 'EEG3_Off', 'Pleth', 'OxStatus', 'SpO2', 'HR', 'DHR']\n",
      "NOTE: pick_channels() is a legacy function. New code should use inst.pick(...).\n"
     ]
    },
    {
     "name": "stderr",
     "output_type": "stream",
     "text": [
      "c:\\Users\\s222165064\\.conda\\envs\\split_vae\\lib\\site-packages\\neurokit2\\signal\\signal_period.py:84: NeuroKitWarning: Too few peaks detected to compute the rate. Returning empty vector.\n",
      "  warn(\n"
     ]
    },
    {
     "name": "stdout",
     "output_type": "stream",
     "text": [
      "channels: ['EKG'], search:ekg, src_hz:256\n",
      "[mesa-sleep-1917] 171 events, age:0\n"
     ]
    },
    {
     "name": "stderr",
     "output_type": "stream",
     "text": [
      "c:\\Users\\s222165064\\.conda\\envs\\split_vae\\lib\\site-packages\\neurokit2\\signal\\signal_fixpeaks.py:307: RuntimeWarning: divide by zero encountered in divide\n",
      "  mrrs /= th2\n",
      "c:\\Users\\s222165064\\.conda\\envs\\split_vae\\lib\\site-packages\\neurokit2\\signal\\signal_fixpeaks.py:307: RuntimeWarning: invalid value encountered in divide\n",
      "  mrrs /= th2\n"
     ]
    },
    {
     "name": "stdout",
     "output_type": "stream",
     "text": [
      "\tn_seg:1435, n_evt:171, annot_dist:{0: 665, 1: 57, 2: 571, 3: 23, 5: 123}, clz_lbl_dist:{0: 661, 1: 651, 2: 123}, remain:2800\n",
      "Total files:4, n_seg:4699, distribution:(array([0, 1, 2]), array([2146, 2192,  361], dtype=int64))\n"
     ]
    }
   ],
   "source": [
    "test_rec_names = ['mesa-sleep-1790', 'mesa-sleep-1803', 'mesa-sleep-1901', 'mesa-sleep-1917']\n",
    "class_map = {0:0, 1:1, 2:1, 3:1, 4:1, 5:2}\n",
    "ds = datasource.MesaDb(\n",
    "    f\"{BASEDATADIR}/data/mesa/polysomnography\", data_subdir=\"set1x20\",\n",
    "    hz=100, class_map=class_map, n_subjects=-1, hz_rr=5, \n",
    "    filter_records=test_rec_names,\n",
    "    is_rr_sig=False, is_rsp=False, is_ecg_beats=True,\n",
    ")"
   ]
  },
  {
   "cell_type": "code",
   "execution_count": 19,
   "metadata": {},
   "outputs": [
    {
     "name": "stderr",
     "output_type": "stream",
     "text": [
      "2024-09-26 13:55:02,033 - __main__ - DEBUG - {'batch_size': 32, 'cuda': 0, 'data_path': 'data/mesa/polysomnography/set2x10', 'early_stop_delta': 0.001, 'early_stop_patience': 30, 'hz': 100, 'hz_rr': 5, 'lr': 0.001, 'lr_scheduler_patience': 10, 'max_epoch': 10, 'min_lr': '1e-6', 'seg_len_sec': 30, 'seg_len': 3000, 'n_split': 10, 'n_class': 3, 'encoder': {'in_channels': 1, 'channels': 128, 'depth': 5, 'reduced_size': 64, 'out_channels': 32, 'kernel_size': 5, 'dropout': 0.3, 'softplus_eps': 0.0001, 'sd_output': True}, 'decoder': {'k': 32, 'width': 3000, 'in_channels': 64, 'channels': 128, 'depth': 5, 'out_channels': 1, 'kernel_size': 5, 'gaussian_out': False, 'softplus_eps': 0.0001, 'dropout': 0.0}, 'model_path': 'logs/simSplitVaeParameterizer_config_datamesapolysomnographyset2x10_split10_ecg_20240926112423/models'}\n"
     ]
    },
    {
     "name": "stdout",
     "output_type": "stream",
     "text": [
      "label distribution: ['0:541', '1:569', '2:86']\n",
      "1196 1196\n",
      "--CausalCNNVDecoder linear1:torch.Size([1, 64])\n",
      "--CausalCNNVDecoder linear2:torch.Size([1, 19200])\n",
      "--CausalCNNVDecoder reshape:torch.Size([1, 64, 300])\n",
      "--CausalCNNVDecoder out_causal_cnn:torch.Size([1, 1, 300])\n",
      "[[514   6  21]\n",
      " [419  47 103]\n",
      " [ 66   4  16]]\n",
      "label distribution: ['0:282', '1:302', '2:48']\n",
      "632 632\n",
      "[[183   0  99]\n",
      " [219   3  80]\n",
      " [ 36   0  12]]\n",
      "label distribution: ['0:662', '1:670', '2:104']\n",
      "1436 1436\n",
      "[[419   2 241]\n",
      " [105   0 565]\n",
      " [  9   0  95]]\n",
      "label distribution: ['0:661', '1:651', '2:123']\n",
      "1435 1435\n",
      "[[484  80  97]\n",
      " [ 63 161 427]\n",
      " [  7  22  94]]\n"
     ]
    }
   ],
   "source": [
    "\n",
    "params = None \n",
    "CFG_FILE = 'config.yml'\n",
    "with open(CFG_FILE, 'r') as stream:\n",
    "    params = yaml.safe_load(stream)\n",
    "    params['seg_len'] = params['hz'] * params['seg_len_sec']\n",
    "    params['decoder']['width'] = params['seg_len']\n",
    "    # override specific params\n",
    "    params['n_split'] = 10\n",
    "    params['encoder']['depth'] = 5\n",
    "    params['decoder']['depth'] = 5\n",
    "    \n",
    "config_logger()\n",
    "params['model_path'] = \"logs/simSplitVaeParameterizer_config_datamesapolysomnographyset2x10_split10_ecg_20240926112423/models\"\n",
    "class_map = {0:0, 1:1, 2:1, 3:1, 4:1, 5:2}\n",
    "params['n_class'] = len(set(class_map.values()))\n",
    "log(params)\n",
    "\n",
    "DEVICE = torch.device(f\"cuda:{params['cuda']}\" if torch.cuda.is_available() else \"cpu\")\n",
    "\n",
    "networks = init_load_models_z(params)\n",
    "\n",
    "for test_rec in test_rec_names:\n",
    "    p_ds = datasource.PartialDataset(\n",
    "        dataset=ds, seg_index=ds.record_wise_segments[test_rec]\n",
    "    )\n",
    "    data_loader_test = torch.utils.data.DataLoader(\n",
    "            dataset=p_ds, batch_size=1, shuffle=False, drop_last=False)\n",
    "    print(len(p_ds), len(data_loader_test))\n",
    "\n",
    "    outputs = []\n",
    "    tp, tn = 0, 0\n",
    "    for i_batch, batch_data in enumerate(data_loader_test):\n",
    "        input_ecg = batch_data['ecg'].to(DEVICE)\n",
    "        label = batch_data['label'].detach().cpu().numpy()[0]\n",
    "        net_outputs = networks[0](input_ecg)\n",
    "        cls_proba = net_outputs['clz_proba'] \n",
    "        # cls_proba = networks[1](z)\n",
    "        pred_label = torch.argmax(cls_proba, axis=1).detach().cpu().numpy()[0]\n",
    "        # print(label, pred_label)\n",
    "        outputs.append({\n",
    "            'label': label, 'pred': pred_label\n",
    "        })\n",
    "        # if i_batch > 20:\n",
    "        #     break\n",
    "    \n",
    "    df = pd.DataFrame.from_dict(outputs)\n",
    "    # print(df)\n",
    "    # break\n",
    "\n",
    "    PRED_PATH = params['model_path'].replace('models', 'preds')\n",
    "    if not os.path.exists(PRED_PATH):\n",
    "            os.makedirs(PRED_PATH)\n",
    "    df.to_csv(f\"{PRED_PATH}/{test_rec}.csv\")\n",
    "\n",
    "    cm = confusion_matrix(df['label'], df['pred'])\n",
    "    print(cm)"
   ]
  },
  {
   "cell_type": "code",
   "execution_count": 20,
   "metadata": {},
   "outputs": [
    {
     "name": "stdout",
     "output_type": "stream",
     "text": [
      "Accuracy for mesa-sleep-1790.csv: 48.24%\n",
      "Accuracy for mesa-sleep-1803.csv: 31.33%\n",
      "Accuracy for mesa-sleep-1901.csv: 35.79%\n",
      "Accuracy for mesa-sleep-1917.csv: 51.50%\n",
      "\n",
      "Average accuracy across all subjects: 41.72%\n"
     ]
    }
   ],
   "source": [
    "results_path = 'logs/simSplitVaeParameterizer_config_datamesapolysomnographyset2x10_split10_ecg_20240926112423/preds'\n",
    "\n",
    "# Initialize lists to store accuracy per subject\n",
    "accuracies = []\n",
    "\n",
    "# Iterate over all CSV files in the folder\n",
    "for filename in os.listdir(results_path):\n",
    "    if filename.endswith('.csv'):\n",
    "        # Read each CSV file\n",
    "        file_path = os.path.join(results_path, filename)\n",
    "        df = pd.read_csv(file_path)\n",
    "        \n",
    "        # Ensure the CSV has the correct columns\n",
    "        if 'label' in df.columns and 'pred' in df.columns:\n",
    "            # Calculate accuracy for the current subject\n",
    "            accuracy = (df['label'] == df['pred']).mean()\n",
    "            print(f\"Accuracy for {filename}: {accuracy:.2%}\")\n",
    "            \n",
    "            # Store the accuracy\n",
    "            accuracies.append(accuracy)\n",
    "        else:\n",
    "            print(f\"Skipping {filename}: required columns not found.\")\n",
    "\n",
    "# Calculate and print the average accuracy across all subjects\n",
    "if accuracies:\n",
    "    avg_accuracy = sum(accuracies) / len(accuracies)\n",
    "    print(f\"\\nAverage accuracy across all subjects: {avg_accuracy:.2%}\")\n",
    "else:\n",
    "    print(\"No valid CSV files found.\")"
   ]
  },
  {
   "cell_type": "code",
   "execution_count": null,
   "metadata": {},
   "outputs": [],
   "source": [
    "\n",
    "params = None \n",
    "CFG_FILE = 'config_multimodal_ecg.yml'\n",
    "with open(CFG_FILE, 'r') as stream:\n",
    "    params = yaml.safe_load(stream)\n",
    "    params['seg_len'] = params['hz'] * params['seg_len_sec']\n",
    "    params['decoder']['width'] = params['seg_len']\n",
    "    # override specific params\n",
    "    params['n_split'] = 5\n",
    "    params['encoder']['depth'] = 5\n",
    "    params['decoder']['depth'] = 5\n",
    "    \n",
    "config_logger()\n",
    "params['model_path'] = \"logs/simMultimodalEcgNoAge_config_multimodal_ecg_datamesapolysomnographyset1_split5_ecgTrue_rrFalse_rspFalse_20240922095352/models\"\n",
    "class_map = {0:0, 1:1, 2:1, 3:1, 4:1, 5:2}\n",
    "params['n_class'] = len(set(class_map.values()))\n",
    "log(params)\n",
    "\n",
    "DEVICE = torch.device(f\"cuda:{params['cuda']}\" if torch.cuda.is_available() else \"cpu\")\n",
    "\n",
    "networks = init_load_models(params)\n",
    "# print(networks)\n",
    "\n",
    "\n",
    "for test_rec in test_rec_names:\n",
    "    p_ds = datasource.PartialDataset(\n",
    "        dataset=ds, seg_index=ds.record_wise_segments[test_rec]\n",
    "    )\n",
    "    data_loader_test = torch.utils.data.DataLoader(\n",
    "            dataset=p_ds, batch_size=1, shuffle=False, drop_last=False)\n",
    "    print(len(p_ds), len(data_loader_test))\n",
    "\n",
    "    outputs = []\n",
    "    tp, tn = 0, 0\n",
    "    for i_batch, batch_data in enumerate(data_loader_test):\n",
    "        input_ecg = batch_data['ecg'].to(DEVICE)\n",
    "        label = batch_data['label'].detach().cpu().numpy()[0]\n",
    "        net_outputs = networks[0](input_ecg)\n",
    "        cls_proba = net_outputs['clz_proba'] \n",
    "        w_folds = net_outputs['w_folds']\n",
    "        # cls_proba = networks[1](z)\n",
    "        pred_label = torch.argmax(cls_proba, axis=1).detach().cpu().numpy()[0]\n",
    "        # print(label, pred_label)\n",
    "        outputs.append({\n",
    "            'label': label, 'pred': pred_label\n",
    "        })\n",
    "        viz(batch_data, net_outputs, pred_label)\n",
    "        \n",
    "        if i_batch > 0:\n",
    "            break\n",
    "    \n",
    "    # df = pd.DataFrame.from_dict(outputs)\n",
    "    # print(df)\n",
    "    # break\n",
    "\n",
    "    # PRED_PATH = params['model_path'].replace('models', 'preds')\n",
    "    # if not os.path.exists(PRED_PATH):\n",
    "    #         os.makedirs(PRED_PATH)\n",
    "    # df.to_csv(f\"{PRED_PATH}/{test_rec}.csv\")\n",
    "\n",
    "    # cm = confusion_matrix(df['label'], df['pred'])\n",
    "    # print(cm)"
   ]
  }
 ],
 "metadata": {
  "kernelspec": {
   "display_name": "split_vae",
   "language": "python",
   "name": "python3"
  },
  "language_info": {
   "codemirror_mode": {
    "name": "ipython",
    "version": 3
   },
   "file_extension": ".py",
   "mimetype": "text/x-python",
   "name": "python",
   "nbconvert_exporter": "python",
   "pygments_lexer": "ipython3",
   "version": "3.10.14"
  }
 },
 "nbformat": 4,
 "nbformat_minor": 2
}
